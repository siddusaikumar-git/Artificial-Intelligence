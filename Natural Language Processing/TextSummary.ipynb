{
  "nbformat": 4,
  "nbformat_minor": 0,
  "metadata": {
    "colab": {
      "provenance": []
    },
    "kernelspec": {
      "name": "python3",
      "display_name": "Python 3"
    },
    "accelerator": "GPU"
  },
  "cells": [
    {
      "cell_type": "code",
      "metadata": {
        "id": "r6NMBzmFkuzf"
      },
      "source": [
        "import pandas as pd\n",
        "import numpy as np\n",
        "import re\n",
        "\n",
        "from sklearn.model_selection import train_test_split\n",
        "from keras.layers import LSTM, Input, Embedding, Dense, TimeDistributed\n",
        "from keras.models import Model, load_model\n",
        "from keras.callbacks import EarlyStopping, ModelCheckpoint\n",
        "from keras.preprocessing.text import Tokenizer\n",
        "from keras.preprocessing.sequence import pad_sequences\n",
        "\n"
      ],
      "execution_count": null,
      "outputs": []
    },
    {
      "cell_type": "code",
      "metadata": {
        "id": "HWif6Vkem5W8",
        "outputId": "f8cb3f20-9e08-422e-ef87-a9679e6a9520",
        "colab": {
          "base_uri": "https://localhost:8080/",
          "height": 391
        }
      },
      "source": [
        "df = pd.read_csv('/content/drive/My Drive/ML_Data/Womens Clothing E-Commerce Reviews.csv')\n",
        "\n",
        "df.head()"
      ],
      "execution_count": null,
      "outputs": [
        {
          "output_type": "execute_result",
          "data": {
            "text/html": [
              "<div>\n",
              "<style scoped>\n",
              "    .dataframe tbody tr th:only-of-type {\n",
              "        vertical-align: middle;\n",
              "    }\n",
              "\n",
              "    .dataframe tbody tr th {\n",
              "        vertical-align: top;\n",
              "    }\n",
              "\n",
              "    .dataframe thead th {\n",
              "        text-align: right;\n",
              "    }\n",
              "</style>\n",
              "<table border=\"1\" class=\"dataframe\">\n",
              "  <thead>\n",
              "    <tr style=\"text-align: right;\">\n",
              "      <th></th>\n",
              "      <th>Unnamed: 0</th>\n",
              "      <th>Clothing ID</th>\n",
              "      <th>Age</th>\n",
              "      <th>Title</th>\n",
              "      <th>Review Text</th>\n",
              "      <th>Rating</th>\n",
              "      <th>Recommended IND</th>\n",
              "      <th>Positive Feedback Count</th>\n",
              "      <th>Division Name</th>\n",
              "      <th>Department Name</th>\n",
              "      <th>Class Name</th>\n",
              "    </tr>\n",
              "  </thead>\n",
              "  <tbody>\n",
              "    <tr>\n",
              "      <th>0</th>\n",
              "      <td>0</td>\n",
              "      <td>767</td>\n",
              "      <td>33</td>\n",
              "      <td>NaN</td>\n",
              "      <td>Absolutely wonderful - silky and sexy and comf...</td>\n",
              "      <td>4</td>\n",
              "      <td>1</td>\n",
              "      <td>0</td>\n",
              "      <td>Initmates</td>\n",
              "      <td>Intimate</td>\n",
              "      <td>Intimates</td>\n",
              "    </tr>\n",
              "    <tr>\n",
              "      <th>1</th>\n",
              "      <td>1</td>\n",
              "      <td>1080</td>\n",
              "      <td>34</td>\n",
              "      <td>NaN</td>\n",
              "      <td>Love this dress!  it's sooo pretty.  i happene...</td>\n",
              "      <td>5</td>\n",
              "      <td>1</td>\n",
              "      <td>4</td>\n",
              "      <td>General</td>\n",
              "      <td>Dresses</td>\n",
              "      <td>Dresses</td>\n",
              "    </tr>\n",
              "    <tr>\n",
              "      <th>2</th>\n",
              "      <td>2</td>\n",
              "      <td>1077</td>\n",
              "      <td>60</td>\n",
              "      <td>Some major design flaws</td>\n",
              "      <td>I had such high hopes for this dress and reall...</td>\n",
              "      <td>3</td>\n",
              "      <td>0</td>\n",
              "      <td>0</td>\n",
              "      <td>General</td>\n",
              "      <td>Dresses</td>\n",
              "      <td>Dresses</td>\n",
              "    </tr>\n",
              "    <tr>\n",
              "      <th>3</th>\n",
              "      <td>3</td>\n",
              "      <td>1049</td>\n",
              "      <td>50</td>\n",
              "      <td>My favorite buy!</td>\n",
              "      <td>I love, love, love this jumpsuit. it's fun, fl...</td>\n",
              "      <td>5</td>\n",
              "      <td>1</td>\n",
              "      <td>0</td>\n",
              "      <td>General Petite</td>\n",
              "      <td>Bottoms</td>\n",
              "      <td>Pants</td>\n",
              "    </tr>\n",
              "    <tr>\n",
              "      <th>4</th>\n",
              "      <td>4</td>\n",
              "      <td>847</td>\n",
              "      <td>47</td>\n",
              "      <td>Flattering shirt</td>\n",
              "      <td>This shirt is very flattering to all due to th...</td>\n",
              "      <td>5</td>\n",
              "      <td>1</td>\n",
              "      <td>6</td>\n",
              "      <td>General</td>\n",
              "      <td>Tops</td>\n",
              "      <td>Blouses</td>\n",
              "    </tr>\n",
              "  </tbody>\n",
              "</table>\n",
              "</div>"
            ],
            "text/plain": [
              "   Unnamed: 0  Clothing ID  Age  ...   Division Name Department Name  Class Name\n",
              "0           0          767   33  ...       Initmates        Intimate   Intimates\n",
              "1           1         1080   34  ...         General         Dresses     Dresses\n",
              "2           2         1077   60  ...         General         Dresses     Dresses\n",
              "3           3         1049   50  ...  General Petite         Bottoms       Pants\n",
              "4           4          847   47  ...         General            Tops     Blouses\n",
              "\n",
              "[5 rows x 11 columns]"
            ]
          },
          "metadata": {
            "tags": []
          },
          "execution_count": 146
        }
      ]
    },
    {
      "cell_type": "code",
      "metadata": {
        "id": "CIAKIr7VnGVW",
        "outputId": "814d86c9-324f-4737-e8ed-dc6c4af4e58f",
        "colab": {
          "base_uri": "https://localhost:8080/",
          "height": 221
        }
      },
      "source": [
        "df.isnull().sum()\n",
        "\n",
        "df = df.dropna(axis=0)\n",
        "\n",
        "df.isnull().sum()"
      ],
      "execution_count": null,
      "outputs": [
        {
          "output_type": "execute_result",
          "data": {
            "text/plain": [
              "Unnamed: 0                 0\n",
              "Clothing ID                0\n",
              "Age                        0\n",
              "Title                      0\n",
              "Review Text                0\n",
              "Rating                     0\n",
              "Recommended IND            0\n",
              "Positive Feedback Count    0\n",
              "Division Name              0\n",
              "Department Name            0\n",
              "Class Name                 0\n",
              "dtype: int64"
            ]
          },
          "metadata": {
            "tags": []
          },
          "execution_count": 147
        }
      ]
    },
    {
      "cell_type": "code",
      "metadata": {
        "id": "LafxlKUApAJn",
        "outputId": "b5352026-1d86-4ad4-f83d-c76408e4f73b",
        "colab": {
          "base_uri": "https://localhost:8080/",
          "height": 391
        }
      },
      "source": [
        "df.head()"
      ],
      "execution_count": null,
      "outputs": [
        {
          "output_type": "execute_result",
          "data": {
            "text/html": [
              "<div>\n",
              "<style scoped>\n",
              "    .dataframe tbody tr th:only-of-type {\n",
              "        vertical-align: middle;\n",
              "    }\n",
              "\n",
              "    .dataframe tbody tr th {\n",
              "        vertical-align: top;\n",
              "    }\n",
              "\n",
              "    .dataframe thead th {\n",
              "        text-align: right;\n",
              "    }\n",
              "</style>\n",
              "<table border=\"1\" class=\"dataframe\">\n",
              "  <thead>\n",
              "    <tr style=\"text-align: right;\">\n",
              "      <th></th>\n",
              "      <th>Unnamed: 0</th>\n",
              "      <th>Clothing ID</th>\n",
              "      <th>Age</th>\n",
              "      <th>Title</th>\n",
              "      <th>Review Text</th>\n",
              "      <th>Rating</th>\n",
              "      <th>Recommended IND</th>\n",
              "      <th>Positive Feedback Count</th>\n",
              "      <th>Division Name</th>\n",
              "      <th>Department Name</th>\n",
              "      <th>Class Name</th>\n",
              "    </tr>\n",
              "  </thead>\n",
              "  <tbody>\n",
              "    <tr>\n",
              "      <th>2</th>\n",
              "      <td>2</td>\n",
              "      <td>1077</td>\n",
              "      <td>60</td>\n",
              "      <td>Some major design flaws</td>\n",
              "      <td>I had such high hopes for this dress and reall...</td>\n",
              "      <td>3</td>\n",
              "      <td>0</td>\n",
              "      <td>0</td>\n",
              "      <td>General</td>\n",
              "      <td>Dresses</td>\n",
              "      <td>Dresses</td>\n",
              "    </tr>\n",
              "    <tr>\n",
              "      <th>3</th>\n",
              "      <td>3</td>\n",
              "      <td>1049</td>\n",
              "      <td>50</td>\n",
              "      <td>My favorite buy!</td>\n",
              "      <td>I love, love, love this jumpsuit. it's fun, fl...</td>\n",
              "      <td>5</td>\n",
              "      <td>1</td>\n",
              "      <td>0</td>\n",
              "      <td>General Petite</td>\n",
              "      <td>Bottoms</td>\n",
              "      <td>Pants</td>\n",
              "    </tr>\n",
              "    <tr>\n",
              "      <th>4</th>\n",
              "      <td>4</td>\n",
              "      <td>847</td>\n",
              "      <td>47</td>\n",
              "      <td>Flattering shirt</td>\n",
              "      <td>This shirt is very flattering to all due to th...</td>\n",
              "      <td>5</td>\n",
              "      <td>1</td>\n",
              "      <td>6</td>\n",
              "      <td>General</td>\n",
              "      <td>Tops</td>\n",
              "      <td>Blouses</td>\n",
              "    </tr>\n",
              "    <tr>\n",
              "      <th>5</th>\n",
              "      <td>5</td>\n",
              "      <td>1080</td>\n",
              "      <td>49</td>\n",
              "      <td>Not for the very petite</td>\n",
              "      <td>I love tracy reese dresses, but this one is no...</td>\n",
              "      <td>2</td>\n",
              "      <td>0</td>\n",
              "      <td>4</td>\n",
              "      <td>General</td>\n",
              "      <td>Dresses</td>\n",
              "      <td>Dresses</td>\n",
              "    </tr>\n",
              "    <tr>\n",
              "      <th>6</th>\n",
              "      <td>6</td>\n",
              "      <td>858</td>\n",
              "      <td>39</td>\n",
              "      <td>Cagrcoal shimmer fun</td>\n",
              "      <td>I aded this in my basket at hte last mintue to...</td>\n",
              "      <td>5</td>\n",
              "      <td>1</td>\n",
              "      <td>1</td>\n",
              "      <td>General Petite</td>\n",
              "      <td>Tops</td>\n",
              "      <td>Knits</td>\n",
              "    </tr>\n",
              "  </tbody>\n",
              "</table>\n",
              "</div>"
            ],
            "text/plain": [
              "   Unnamed: 0  Clothing ID  Age  ...   Division Name Department Name  Class Name\n",
              "2           2         1077   60  ...         General         Dresses     Dresses\n",
              "3           3         1049   50  ...  General Petite         Bottoms       Pants\n",
              "4           4          847   47  ...         General            Tops     Blouses\n",
              "5           5         1080   49  ...         General         Dresses     Dresses\n",
              "6           6          858   39  ...  General Petite            Tops       Knits\n",
              "\n",
              "[5 rows x 11 columns]"
            ]
          },
          "metadata": {
            "tags": []
          },
          "execution_count": 148
        }
      ]
    },
    {
      "cell_type": "code",
      "metadata": {
        "id": "B3Tuk0wnpCyQ"
      },
      "source": [
        "# define a dictionary of all possible contractions and their expanded forms\n",
        "contraction_mapping = {\"ain't\": \"is not\", \"aren't\": \"are not\",\"can't\": \"cannot\", \"'cause\": \"because\", \"could've\": \"could have\", \"couldn't\": \"could not\",\n",
        "                           \"didn't\": \"did not\",  \"doesn't\": \"does not\", \"don't\": \"do not\", \"hadn't\": \"had not\", \"hasn't\": \"has not\", \"haven't\": \"have not\",\n",
        "                           \"he'd\": \"he would\",\"he'll\": \"he will\", \"he's\": \"he is\", \"how'd\": \"how did\", \"how'd'y\": \"how do you\", \"how'll\": \"how will\", \"how's\": \"how is\",\n",
        "                           \"I'd\": \"I would\", \"I'd've\": \"I would have\", \"I'll\": \"I will\", \"I'll've\": \"I will have\",\"I'm\": \"I am\", \"I've\": \"I have\", \"i'd\": \"i would\",\n",
        "                           \"i'll\": \"i will\",  \"i'll've\": \"i will have\",\"i'm\": \"i am\", \"i've\": \"i have\", \"isn't\": \"is not\", \"it'd\": \"it would\",\n",
        "                           \"it'll\": \"it will\", \"it'll've\": \"it will have\",\"it's\": \"it is\", \"let's\": \"let us\", \"ma'am\": \"madam\",\n",
        "                           \"might've\": \"might have\",\"mightn't\": \"might not\",\"mightn't've\": \"might not have\", \"must've\": \"must have\",\n",
        "                           \"mustn't\": \"must not\", \"mustn't've\": \"must not have\", \"needn't\": \"need not\", \"needn't've\": \"need not have\",\"o'clock\": \"of the clock\",\n",
        "                           \"oughtn't\": \"ought not\", \"oughtn't've\": \"ought not have\", \"shan't\": \"shall not\", \"sha'n't\": \"shall not\", \"shan't've\": \"shall not have\",\n",
        "                           \"she'd\": \"she would\", \"she'd've\": \"she would have\", \"she'll\": \"she will\", \"she'll've\": \"she will have\", \"she's\": \"she is\",\n",
        "                           \"should've\": \"should have\", \"shouldn't\": \"should not\", \"shouldn't've\": \"should not have\", \"so've\": \"so have\",\"so's\": \"so as\",\n",
        "                           \"this's\": \"this is\",\"that'd\": \"that would\", \"that'd've\": \"that would have\", \"that's\": \"that is\", \"there'd\": \"there would\",\n",
        "                           \"there'd've\": \"there would have\", \"there's\": \"there is\", \"here's\": \"here is\",\"they'd\": \"they would\", \"they'd've\": \"they would have\",\n",
        "                           \"they'll\": \"they will\", \"they'll've\": \"they will have\", \"they're\": \"they are\", \"they've\": \"they have\", \"to've\": \"to have\",\n",
        "                           \"wasn't\": \"was not\", \"we'd\": \"we would\", \"we'd've\": \"we would have\", \"we'll\": \"we will\", \"we'll've\": \"we will have\", \"we're\": \"we are\",\n",
        "                           \"we've\": \"we have\", \"weren't\": \"were not\", \"what'll\": \"what will\", \"what'll've\": \"what will have\", \"what're\": \"what are\",\n",
        "                           \"what's\": \"what is\", \"what've\": \"what have\", \"when's\": \"when is\", \"when've\": \"when have\", \"where'd\": \"where did\", \"where's\": \"where is\",\n",
        "                           \"where've\": \"where have\", \"who'll\": \"who will\", \"who'll've\": \"who will have\", \"who's\": \"who is\", \"who've\": \"who have\",\n",
        "                           \"why's\": \"why is\", \"why've\": \"why have\", \"will've\": \"will have\", \"won't\": \"will not\", \"won't've\": \"will not have\",\n",
        "                           \"would've\": \"would have\", \"wouldn't\": \"would not\", \"wouldn't've\": \"would not have\", \"y'all\": \"you all\",\n",
        "                           \"y'all'd\": \"you all would\",\"y'all'd've\": \"you all would have\",\"y'all're\": \"you all are\",\"y'all've\": \"you all have\",\n",
        "                           \"you'd\": \"you would\", \"you'd've\": \"you would have\", \"you'll\": \"you will\", \"you'll've\": \"you will have\",\n",
        "                           \"you're\": \"you are\", \"you've\": \"you have\"}"
      ],
      "execution_count": null,
      "outputs": []
    },
    {
      "cell_type": "code",
      "metadata": {
        "id": "39gLFoyvpie2"
      },
      "source": [
        "def clean_text(sentence):\n",
        "  sentence = \" \".join([contraction_mapping[val] if val in contraction_mapping else val for val in sentence.split()])\n",
        "  sentence = sentence.lower()\n",
        "  sentence = \" \".join([contraction_mapping[val] if val in contraction_mapping else val for val in sentence.split()])\n",
        "  sentenec = re.sub(\"’s\\b\", \"\", sentence)\n",
        "  sentence = re.sub('[^a-zA-Z.,]', ' ', sentence)\n",
        "\n",
        "  long_tokens = []\n",
        "\n",
        "  for i in sentence.split():\n",
        "    if(len(i) >= 2):\n",
        "      long_tokens.append(i)\n",
        "\n",
        "  return \" \".join(long_tokens)"
      ],
      "execution_count": null,
      "outputs": []
    },
    {
      "cell_type": "code",
      "metadata": {
        "id": "B1kWDl1jrBMv",
        "colab": {
          "base_uri": "https://localhost:8080/",
          "height": 204
        },
        "outputId": "fc9c4930-2849-4ed5-b4f0-6140fff48e4e"
      },
      "source": [
        "text = np.array(df[\"Review Text\"])\n",
        "\n",
        "cleaned_text = np.array(df[\"Review Text\"].apply(lambda x : clean_text(x)))\n",
        "\n",
        "title = np.array(df[\"Title\"])\n",
        "\n",
        "udf = pd.DataFrame({\"title\": title, \"text\": text, \"cleaned_text\": cleaned_text})\n",
        "\n",
        "udf.head()"
      ],
      "execution_count": null,
      "outputs": [
        {
          "output_type": "execute_result",
          "data": {
            "text/html": [
              "<div>\n",
              "<style scoped>\n",
              "    .dataframe tbody tr th:only-of-type {\n",
              "        vertical-align: middle;\n",
              "    }\n",
              "\n",
              "    .dataframe tbody tr th {\n",
              "        vertical-align: top;\n",
              "    }\n",
              "\n",
              "    .dataframe thead th {\n",
              "        text-align: right;\n",
              "    }\n",
              "</style>\n",
              "<table border=\"1\" class=\"dataframe\">\n",
              "  <thead>\n",
              "    <tr style=\"text-align: right;\">\n",
              "      <th></th>\n",
              "      <th>title</th>\n",
              "      <th>text</th>\n",
              "      <th>cleaned_text</th>\n",
              "    </tr>\n",
              "  </thead>\n",
              "  <tbody>\n",
              "    <tr>\n",
              "      <th>0</th>\n",
              "      <td>Some major design flaws</td>\n",
              "      <td>I had such high hopes for this dress and reall...</td>\n",
              "      <td>had such high hopes for this dress and really ...</td>\n",
              "    </tr>\n",
              "    <tr>\n",
              "      <th>1</th>\n",
              "      <td>My favorite buy!</td>\n",
              "      <td>I love, love, love this jumpsuit. it's fun, fl...</td>\n",
              "      <td>love, love, love this jumpsuit. it is fun, fli...</td>\n",
              "    </tr>\n",
              "    <tr>\n",
              "      <th>2</th>\n",
              "      <td>Flattering shirt</td>\n",
              "      <td>This shirt is very flattering to all due to th...</td>\n",
              "      <td>this shirt is very flattering to all due to th...</td>\n",
              "    </tr>\n",
              "    <tr>\n",
              "      <th>3</th>\n",
              "      <td>Not for the very petite</td>\n",
              "      <td>I love tracy reese dresses, but this one is no...</td>\n",
              "      <td>love tracy reese dresses, but this one is not ...</td>\n",
              "    </tr>\n",
              "    <tr>\n",
              "      <th>4</th>\n",
              "      <td>Cagrcoal shimmer fun</td>\n",
              "      <td>I aded this in my basket at hte last mintue to...</td>\n",
              "      <td>aded this in my basket at hte last mintue to s...</td>\n",
              "    </tr>\n",
              "  </tbody>\n",
              "</table>\n",
              "</div>"
            ],
            "text/plain": [
              "                     title  ...                                       cleaned_text\n",
              "0  Some major design flaws  ...  had such high hopes for this dress and really ...\n",
              "1         My favorite buy!  ...  love, love, love this jumpsuit. it is fun, fli...\n",
              "2         Flattering shirt  ...  this shirt is very flattering to all due to th...\n",
              "3  Not for the very petite  ...  love tracy reese dresses, but this one is not ...\n",
              "4     Cagrcoal shimmer fun  ...  aded this in my basket at hte last mintue to s...\n",
              "\n",
              "[5 rows x 3 columns]"
            ]
          },
          "metadata": {
            "tags": []
          },
          "execution_count": 151
        }
      ]
    },
    {
      "cell_type": "code",
      "metadata": {
        "id": "PF6AwWbky7fV",
        "colab": {
          "base_uri": "https://localhost:8080/",
          "height": 265
        },
        "outputId": "56f36f25-7b29-4d58-c94f-e8c38ba2bf90"
      },
      "source": [
        "\n",
        "import matplotlib.pyplot as plt\n",
        "%matplotlib inline\n",
        "\n",
        "text_len = []\n",
        "title_len = []\n",
        "\n",
        "for i in cleaned_text:\n",
        "  text_len.append(len(i.split()))\n",
        "\n",
        "for i in title:\n",
        "  title_len.append(len(i.split()))\n",
        "\n",
        "title_stats = pd.DataFrame({\"title\":title_len})\n",
        "title_stats[\"title\"].hist(bins=30, range=(0, 100))\n",
        "plt.show()"
      ],
      "execution_count": null,
      "outputs": [
        {
          "output_type": "display_data",
          "data": {
            "image/png": "[encoded data removed]",
            "text/plain": [
              "<Figure size 432x288 with 1 Axes>"
            ]
          },
          "metadata": {
            "tags": [],
            "needs_background": "light"
          }
        }
      ]
    },
    {
      "cell_type": "code",
      "metadata": {
        "id": "kWVzE_-Y0C6M",
        "colab": {
          "base_uri": "https://localhost:8080/",
          "height": 265
        },
        "outputId": "ced12676-06ed-4246-8550-badb1336aa0e"
      },
      "source": [
        "\n",
        "text_stats = pd.DataFrame({\"text\": text_len})\n",
        "text_stats[\"text\"].hist(bins=30, range=(0, 1000))\n",
        "plt.show()"
      ],
      "execution_count": null,
      "outputs": [
        {
          "output_type": "display_data",
          "data": {
            "image/png": "[encoded data removed]",
            "text/plain": [
              "<Figure size 432x288 with 1 Axes>"
            ]
          },
          "metadata": {
            "tags": [],
            "needs_background": "light"
          }
        }
      ]
    },
    {
      "cell_type": "code",
      "metadata": {
        "id": "pyBXOvsp4fvh"
      },
      "source": [
        "max_text_len = 50\n",
        "max_title_len = 7"
      ],
      "execution_count": null,
      "outputs": []
    },
    {
      "cell_type": "code",
      "metadata": {
        "id": "mDERHS0v6p_1"
      },
      "source": [
        "udf['title'] = udf[\"title\"].apply(lambda x : 'sostok ' + x + ' eostok')"
      ],
      "execution_count": null,
      "outputs": []
    },
    {
      "cell_type": "code",
      "metadata": {
        "id": "w4Q9KipV1PkG"
      },
      "source": [
        "x_tr, x_tst, y_tr, y_tst = train_test_split(udf[\"cleaned_text\"], udf[\"title\"], test_size=0.2, random_state=0)"
      ],
      "execution_count": null,
      "outputs": []
    },
    {
      "cell_type": "code",
      "metadata": {
        "id": "Won_BOXSu0pk"
      },
      "source": [
        "token = Tokenizer(num_words=5000)\n",
        "token.fit_on_texts(x_tr)\n",
        "\n",
        "x_tr_seq = token.texts_to_sequences(x_tr)\n",
        "x_tst_seq = token.texts_to_sequences(x_tst)\n",
        "\n",
        "x_voc = token.num_words + 1\n",
        "\n",
        "x_tr = pad_sequences(x_tr_seq, maxlen=max_text_len, padding='post', truncating='post')\n",
        "x_tst = pad_sequences(x_tst_seq, maxlen=max_text_len, padding='post', truncating='post')"
      ],
      "execution_count": null,
      "outputs": []
    },
    {
      "cell_type": "code",
      "metadata": {
        "id": "D21F_Akl5C0z"
      },
      "source": [
        "y_tok = Tokenizer(num_words=3000)\n",
        "y_tok.fit_on_texts(y_tr)\n",
        "\n",
        "y_tr_seq = y_tok.texts_to_sequences(y_tr)\n",
        "y_tst_seq = y_tok.texts_to_sequences(y_tst)\n"
      ],
      "execution_count": null,
      "outputs": []
    },
    {
      "cell_type": "code",
      "metadata": {
        "id": "fAROPU0r6FgX"
      },
      "source": [
        "index = []\n",
        "\n",
        "for i in range(len(y_tr_seq)):\n",
        "  if(len(y_tr_seq[i]) <= 3):\n",
        "    index.append(i)\n",
        "y_tr_seq = np.delete(y_tr_seq, index, axis=0)\n",
        "x_tr = np.delete(x_tr, index, axis=0)\n",
        "\n",
        "index = []\n",
        "\n",
        "for i in range(len(y_tst_seq)):\n",
        "  if(len(y_tst_seq[i]) <= 3):\n",
        "    index.append(i)\n",
        "y_tst_seq = np.delete(y_tst_seq, index, axis=0)\n",
        "x_tst = np.delete(x_tst, index,axis=0)"
      ],
      "execution_count": null,
      "outputs": []
    },
    {
      "cell_type": "code",
      "metadata": {
        "id": "gJg5z51798G5"
      },
      "source": [
        "y_tr = pad_sequences(y_tr_seq, maxlen=max_title_len, padding='post', truncating='post')\n",
        "y_tst = pad_sequences(y_tst_seq, maxlen=max_title_len, padding='post', truncating='post')"
      ],
      "execution_count": null,
      "outputs": []
    },
    {
      "cell_type": "code",
      "metadata": {
        "id": "ZKFHYoZb-njD"
      },
      "source": [
        "y_voc = y_tok.num_words + 1"
      ],
      "execution_count": null,
      "outputs": []
    },
    {
      "cell_type": "code",
      "metadata": {
        "id": "XKjVsPVC_jkk",
        "colab": {
          "base_uri": "https://localhost:8080/",
          "height": 459
        },
        "outputId": "7c0cee32-0ef8-4e4c-87e5-33907caf22f5"
      },
      "source": [
        "latent_dim = 150\n",
        "embedding_dim = 200\n",
        "\n",
        "enc_input = Input(shape=(max_text_len, ))\n",
        "enc_emb = Embedding(x_voc, embedding_dim, trainable=True, mask_zero=True)(enc_input)\n",
        "enc_lstm = LSTM(latent_dim, return_sequences=True, return_state=True, go_backwards=True)\n",
        "enc_output, state_h, state_c = enc_lstm(enc_emb)\n",
        "\n",
        "\n",
        "dec_input = Input(shape=(None, ))\n",
        "dec_emb_layer = Embedding(y_voc, embedding_dim, trainable=True, mask_zero=True)\n",
        "dec_emb = dec_emb_layer(dec_input)\n",
        "dec_lstm = LSTM(latent_dim, return_sequences=True, return_state=True)\n",
        "dec_output, dec_state_h, dec_state_c = dec_lstm(dec_emb, initial_state=[state_h, state_c])\n",
        "\n",
        "dense_layer = TimeDistributed(Dense(latent_dim, activation='tanh'))\n",
        "dense_output = dense_layer(dec_output)\n",
        "\n",
        "output_layer  = TimeDistributed(Dense(y_voc, activation='softmax'))\n",
        "decoder_output = output_layer(dense_output)\n",
        "\n",
        "model = Model([enc_input, dec_input], decoder_output)\n",
        "model.summary()"
      ],
      "execution_count": null,
      "outputs": [
        {
          "output_type": "stream",
          "text": [
            "Model: \"model_14\"\n",
            "__________________________________________________________________________________________________\n",
            "Layer (type)                    Output Shape         Param #     Connected to                     \n",
            "==================================================================================================\n",
            "input_29 (InputLayer)           (None, 50)           0                                            \n",
            "__________________________________________________________________________________________________\n",
            "input_30 (InputLayer)           (None, None)         0                                            \n",
            "__________________________________________________________________________________________________\n",
            "embedding_11 (Embedding)        (None, 50, 200)      1000200     input_29[0][0]                   \n",
            "__________________________________________________________________________________________________\n",
            "embedding_12 (Embedding)        (None, None, 200)    600200      input_30[0][0]                   \n",
            "__________________________________________________________________________________________________\n",
            "lstm_11 (LSTM)                  [(None, 50, 150), (N 210600      embedding_11[0][0]               \n",
            "__________________________________________________________________________________________________\n",
            "lstm_12 (LSTM)                  [(None, None, 150),  210600      embedding_12[0][0]               \n",
            "                                                                 lstm_11[0][1]                    \n",
            "                                                                 lstm_11[0][2]                    \n",
            "__________________________________________________________________________________________________\n",
            "time_distributed_11 (TimeDistri (None, None, 150)    22650       lstm_12[0][0]                    \n",
            "__________________________________________________________________________________________________\n",
            "time_distributed_12 (TimeDistri (None, None, 3001)   453151      time_distributed_11[0][0]        \n",
            "==================================================================================================\n",
            "Total params: 2,497,401\n",
            "Trainable params: 2,497,401\n",
            "Non-trainable params: 0\n",
            "__________________________________________________________________________________________________\n"
          ],
          "name": "stdout"
        }
      ]
    },
    {
      "cell_type": "code",
      "metadata": {
        "id": "BAvm1zcLC96f"
      },
      "source": [
        "model.compile(optimizer='adam', loss='sparse_categorical_crossentropy')"
      ],
      "execution_count": null,
      "outputs": []
    },
    {
      "cell_type": "code",
      "metadata": {
        "id": "XAw_eSc3DKN8"
      },
      "source": [
        "es = EarlyStopping(monitor='val_loss', mode='min', patience=3, verbose=1, min_delta=0.0001)\n",
        "mc = ModelCheckpoint('/content/drive/My Drive/ML_Data/TextSummary.h5', monitor='val_loss', mode='min', verbose=1, save_best_only=True)"
      ],
      "execution_count": null,
      "outputs": []
    },
    {
      "cell_type": "code",
      "metadata": {
        "id": "RXk3ijQzVq76",
        "colab": {
          "base_uri": "https://localhost:8080/",
          "height": 853
        },
        "outputId": "89fc8023-6677-4fcc-8a5d-e7712a71fa34"
      },
      "source": [
        "history = model.fit([x_tr, y_tr[:,:-1]], y_tr.reshape(y_tr.shape[0], y_tr.shape[1], 1)[:,1:], \n",
        "                    epochs=50, callbacks=[es, mc], batch_size=32, validation_data=([x_tst, y_tst[:, :-1]], y_tst.reshape(y_tst.shape[0], y_tst.shape[1], 1)[:,1:]))"
      ],
      "execution_count": null,
      "outputs": [
        {
          "output_type": "stream",
          "text": [
            "/usr/local/lib/python3.6/dist-packages/tensorflow/python/framework/indexed_slices.py:434: UserWarning: Converting sparse IndexedSlices to a dense Tensor of unknown shape. This may consume a large amount of memory.\n",
            "  \"Converting sparse IndexedSlices to a dense Tensor of unknown shape. \"\n"
          ],
          "name": "stderr"
        },
        {
          "output_type": "stream",
          "text": [
            "Train on 14059 samples, validate on 3448 samples\n",
            "Epoch 1/50\n",
            "14059/14059 [==============================] - 63s 4ms/step - loss: 3.6915 - val_loss: 3.1852\n",
            "\n",
            "Epoch 00001: val_loss improved from inf to 3.18516, saving model to /content/drive/My Drive/ML_Data/TextSummary.h5\n",
            "Epoch 2/50\n",
            "14059/14059 [==============================] - 62s 4ms/step - loss: 3.1633 - val_loss: 3.0112\n",
            "\n",
            "Epoch 00002: val_loss improved from 3.18516 to 3.01120, saving model to /content/drive/My Drive/ML_Data/TextSummary.h5\n",
            "Epoch 3/50\n",
            "14059/14059 [==============================] - 62s 4ms/step - loss: 2.9775 - val_loss: 2.9184\n",
            "\n",
            "Epoch 00003: val_loss improved from 3.01120 to 2.91842, saving model to /content/drive/My Drive/ML_Data/TextSummary.h5\n",
            "Epoch 4/50\n",
            "14059/14059 [==============================] - 62s 4ms/step - loss: 2.8470 - val_loss: 2.8609\n",
            "\n",
            "Epoch 00004: val_loss improved from 2.91842 to 2.86092, saving model to /content/drive/My Drive/ML_Data/TextSummary.h5\n",
            "Epoch 5/50\n",
            "14059/14059 [==============================] - 62s 4ms/step - loss: 2.7368 - val_loss: 2.8196\n",
            "\n",
            "Epoch 00005: val_loss improved from 2.86092 to 2.81964, saving model to /content/drive/My Drive/ML_Data/TextSummary.h5\n",
            "Epoch 6/50\n",
            "14059/14059 [==============================] - 61s 4ms/step - loss: 2.6304 - val_loss: 2.7864\n",
            "\n",
            "Epoch 00006: val_loss improved from 2.81964 to 2.78636, saving model to /content/drive/My Drive/ML_Data/TextSummary.h5\n",
            "Epoch 7/50\n",
            "14059/14059 [==============================] - 62s 4ms/step - loss: 2.5247 - val_loss: 2.7682\n",
            "\n",
            "Epoch 00007: val_loss improved from 2.78636 to 2.76821, saving model to /content/drive/My Drive/ML_Data/TextSummary.h5\n",
            "Epoch 8/50\n",
            "14059/14059 [==============================] - 61s 4ms/step - loss: 2.4217 - val_loss: 2.7671\n",
            "\n",
            "Epoch 00008: val_loss improved from 2.76821 to 2.76707, saving model to /content/drive/My Drive/ML_Data/TextSummary.h5\n",
            "Epoch 9/50\n",
            "14059/14059 [==============================] - 63s 4ms/step - loss: 2.3276 - val_loss: 2.7752\n",
            "\n",
            "Epoch 00009: val_loss did not improve from 2.76707\n",
            "Epoch 10/50\n",
            "14059/14059 [==============================] - 61s 4ms/step - loss: 2.2333 - val_loss: 2.8103\n",
            "\n",
            "Epoch 00010: val_loss did not improve from 2.76707\n",
            "Epoch 11/50\n",
            "14059/14059 [==============================] - 61s 4ms/step - loss: 2.1433 - val_loss: 2.8356\n",
            "\n",
            "Epoch 00011: val_loss did not improve from 2.76707\n",
            "Epoch 00011: early stopping\n"
          ],
          "name": "stdout"
        }
      ]
    },
    {
      "cell_type": "code",
      "metadata": {
        "id": "wxJQ_yCsX9vg",
        "colab": {
          "base_uri": "https://localhost:8080/",
          "height": 71
        },
        "outputId": "a120e885-c8ab-443b-f79a-5b689cb17705"
      },
      "source": [
        "model = load_model('/content/drive/My Drive/ML_Data/TextSummary.h5')"
      ],
      "execution_count": null,
      "outputs": [
        {
          "output_type": "stream",
          "text": [
            "/usr/local/lib/python3.6/dist-packages/tensorflow/python/framework/indexed_slices.py:434: UserWarning: Converting sparse IndexedSlices to a dense Tensor of unknown shape. This may consume a large amount of memory.\n",
            "  \"Converting sparse IndexedSlices to a dense Tensor of unknown shape. \"\n"
          ],
          "name": "stderr"
        }
      ]
    },
    {
      "cell_type": "code",
      "metadata": {
        "id": "2-JhtVBLPoj8",
        "colab": {
          "base_uri": "https://localhost:8080/",
          "height": 265
        },
        "outputId": "79c94fee-c375-4f4f-deca-88dcdf952d50"
      },
      "source": [
        "from matplotlib import pyplot\n",
        "pyplot.plot(history.history['loss'], label='train')\n",
        "pyplot.plot(history.history['val_loss'], label='test')\n",
        "pyplot.legend()\n",
        "pyplot.show()"
      ],
      "execution_count": null,
      "outputs": [
        {
          "output_type": "display_data",
          "data": {
            "image/png": "[encoded data removed]",
            "text/plain": [
              "<Figure size 432x288 with 1 Axes>"
            ]
          },
          "metadata": {
            "tags": [],
            "needs_background": "light"
          }
        }
      ]
    },
    {
      "cell_type": "code",
      "metadata": {
        "id": "fETLXfOGRlO4"
      },
      "source": [
        "reverse_source_index = dict((v, k) for k, v in token.word_index.items())\n",
        "reverse_target_index = dict((v, k) for k, v in y_tok.word_index.items())"
      ],
      "execution_count": null,
      "outputs": []
    },
    {
      "cell_type": "code",
      "metadata": {
        "id": "J7tafsZ-Su7g"
      },
      "source": [
        "encoder_model = Model(inputs=enc_input, outputs=[enc_output, state_h, state_c])\n",
        "\n",
        "decoder_state_h = Input(shape=(None, ))\n",
        "decoder_state_c = Input(shape=(None, ))\n",
        "deocoder_hidden_state_input = Input(shape=(max_text_len, latent_dim))\n",
        "\n",
        "dec_emb = dec_emb_layer(dec_input)\n",
        "\n",
        "dec_outputs, dec_h, dec_c = dec_lstm(dec_emb, initial_state=[decoder_state_h, decoder_state_c])\n",
        "\n",
        "dec_outputs = dense_layer(dec_outputs)\n",
        "\n",
        "decoder_output2 = output_layer(dec_outputs)\n",
        "\n",
        "decoder_model = Model(\n",
        "    [dec_input] + [deocoder_hidden_state_input, decoder_state_h, decoder_state_c],\n",
        "    [decoder_output2] + [dec_h, dec_c]\n",
        ")"
      ],
      "execution_count": null,
      "outputs": []
    },
    {
      "cell_type": "code",
      "metadata": {
        "id": "BZWIho5ldnki"
      },
      "source": [
        "def decoder_sequence(input_seq):\n",
        "  e_o, e_h, e_c = encoder_model.predict(input_seq)\n",
        "\n",
        "  target_seq = np.zeros((1, 1))\n",
        "\n",
        "  target_seq[0, 0] = y_tok.word_index['sostok']\n",
        "\n",
        "  stop_condition = False\n",
        "\n",
        "  decoded_sentence = ''\n",
        "\n",
        "  while not stop_condition:\n",
        "\n",
        "    output_tok, h, c = decoder_model.predict([target_seq] + [e_o, e_h, e_c])\n",
        "    print(output_tok)\n",
        "    sample_token_index = np.argmax(output_tok[0,-1,:])\n",
        "\n",
        "    sampled_token = reverse_target_index[sample_token_index]\n",
        "\n",
        "    if(sampled_token != 'eostok'):\n",
        "      decoded_sentence =  decoded_sentence + sampled_token + ' '\n",
        "    \n",
        "    if((sampled_token == 'eostok')  or (len(decoded_sentence.split() >= max_title_len-1 ))):\n",
        "      stop_condition= True\n",
        "    \n",
        "    target_seq = np.zeros((1, 1))\n",
        "\n",
        "    target_seq[0, 0] = sample_token_index\n",
        "\n",
        "    e_h, e_c = h, c\n",
        "\n",
        "  return decoded_sentence.strip()"
      ],
      "execution_count": null,
      "outputs": []
    },
    {
      "cell_type": "code",
      "metadata": {
        "id": "dxepsW0g3Sck"
      },
      "source": [
        "def seq2source(input_seq):\n",
        "  new_string = ''\n",
        "  for i in input_seq:\n",
        "    if(i!=0):\n",
        "      new_string = new_string + reverse_source_index[i] + ' '\n",
        "  return new_string.strip()\n",
        "  "
      ],
      "execution_count": null,
      "outputs": []
    },
    {
      "cell_type": "code",
      "metadata": {
        "id": "lHI2aVA94m97"
      },
      "source": [
        "source = []\n",
        "\n",
        "for i in range(len(x_tst)):\n",
        "  source.append(seq2source(x_tst[i]))"
      ],
      "execution_count": null,
      "outputs": []
    },
    {
      "cell_type": "code",
      "metadata": {
        "id": "fzjABxpE5Z1V"
      },
      "source": [
        "y_tst = [' '.join(i.split()[1:-1])  for i in y_tst]"
      ],
      "execution_count": null,
      "outputs": []
    },
    {
      "cell_type": "code",
      "metadata": {
        "id": "Flj98sNC8pEP"
      },
      "source": [
        "index=[]\n",
        "for i in range(len(source)):\n",
        "  if(len(source[i].split()) >= 10):\n",
        "    index.append(i)"
      ],
      "execution_count": null,
      "outputs": []
    },
    {
      "cell_type": "code",
      "metadata": {
        "id": "5fukiJUd58uN"
      },
      "source": [
        "import random\n",
        "\n",
        "for i in random.sample(range(0, len(x_tst)+1), 20):\n",
        "  print(\"Actual Summary: \", y_tst[index[i]])\n",
        "  print(\"Predicted Summary: \", decoder_sequence(x_tst[index[i]].reshape(1, max_title_len)))\n",
        "  print(\"\\n\")"
      ],
      "execution_count": null,
      "outputs": []
    }
  ]
}