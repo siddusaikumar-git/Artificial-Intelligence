{
  "nbformat": 4,
  "nbformat_minor": 0,
  "metadata": {
    "colab": {
      "provenance": []
    },
    "kernelspec": {
      "name": "python3",
      "display_name": "Python 3"
    },
    "accelerator": "GPU"
  },
  "cells": [
    {
      "cell_type": "markdown",
      "metadata": {
        "id": "5upF0NzMvwvC"
      },
      "source": [
        "# N-gram Language Model\n",
        "\n",
        "Here's what you will learn in this project:\n",
        "\n",
        " - 3-gram language model on news documents (Reuters corpus)\n",
        " - Predict the next word in a sentence\n",
        " - Generate a random news text\n",
        " - Find probability of a sentence"
      ]
    },
    {
      "cell_type": "markdown",
      "metadata": {
        "id": "W_4ovsnCvw5B"
      },
      "source": [
        "## Loading required libraries and corpuses"
      ]
    },
    {
      "cell_type": "code",
      "metadata": {
        "id": "8D-p9OTKzXjs",
        "outputId": "57d0ad23-afe9-4e0c-8afe-6bc47a560ec6",
        "colab": {
          "base_uri": "https://localhost:8080/",
          "height": 102
        }
      },
      "source": [
        "import nltk\n",
        "from nltk.corpus import reuters\n",
        "\n",
        "# loading corpus\n",
        "nltk.download('reuters')\n",
        "nltk.download('punkt')"
      ],
      "execution_count": null,
      "outputs": [
        {
          "output_type": "stream",
          "text": [
            "[nltk_data] Downloading package reuters to /root/nltk_data...\n",
            "[nltk_data]   Package reuters is already up-to-date!\n",
            "[nltk_data] Downloading package punkt to /root/nltk_data...\n",
            "[nltk_data]   Package punkt is already up-to-date!\n"
          ],
          "name": "stdout"
        },
        {
          "output_type": "execute_result",
          "data": {
            "text/plain": [
              "True"
            ]
          },
          "metadata": {
            "tags": []
          },
          "execution_count": 11
        }
      ]
    },
    {
      "cell_type": "markdown",
      "metadata": {
        "id": "lwFAgyMbMlTs"
      },
      "source": [
        "## About the Dataset\n",
        "\n",
        "Reuters corpus is a collection of 10,788 news documents totaling 1.3 million words. "
      ]
    },
    {
      "cell_type": "code",
      "metadata": {
        "id": "YaM1_hZvlG1E",
        "outputId": "f4fef9d5-bd97-4607-fce4-27534cc5fdd6",
        "colab": {
          "base_uri": "https://localhost:8080/",
          "height": 1000
        }
      },
      "source": [
        "reuters.categories()"
      ],
      "execution_count": null,
      "outputs": [
        {
          "output_type": "execute_result",
          "data": {
            "text/plain": [
              "['acq',\n",
              " 'alum',\n",
              " 'barley',\n",
              " 'bop',\n",
              " 'carcass',\n",
              " 'castor-oil',\n",
              " 'cocoa',\n",
              " 'coconut',\n",
              " 'coconut-oil',\n",
              " 'coffee',\n",
              " 'copper',\n",
              " 'copra-cake',\n",
              " 'corn',\n",
              " 'cotton',\n",
              " 'cotton-oil',\n",
              " 'cpi',\n",
              " 'cpu',\n",
              " 'crude',\n",
              " 'dfl',\n",
              " 'dlr',\n",
              " 'dmk',\n",
              " 'earn',\n",
              " 'fuel',\n",
              " 'gas',\n",
              " 'gnp',\n",
              " 'gold',\n",
              " 'grain',\n",
              " 'groundnut',\n",
              " 'groundnut-oil',\n",
              " 'heat',\n",
              " 'hog',\n",
              " 'housing',\n",
              " 'income',\n",
              " 'instal-debt',\n",
              " 'interest',\n",
              " 'ipi',\n",
              " 'iron-steel',\n",
              " 'jet',\n",
              " 'jobs',\n",
              " 'l-cattle',\n",
              " 'lead',\n",
              " 'lei',\n",
              " 'lin-oil',\n",
              " 'livestock',\n",
              " 'lumber',\n",
              " 'meal-feed',\n",
              " 'money-fx',\n",
              " 'money-supply',\n",
              " 'naphtha',\n",
              " 'nat-gas',\n",
              " 'nickel',\n",
              " 'nkr',\n",
              " 'nzdlr',\n",
              " 'oat',\n",
              " 'oilseed',\n",
              " 'orange',\n",
              " 'palladium',\n",
              " 'palm-oil',\n",
              " 'palmkernel',\n",
              " 'pet-chem',\n",
              " 'platinum',\n",
              " 'potato',\n",
              " 'propane',\n",
              " 'rand',\n",
              " 'rape-oil',\n",
              " 'rapeseed',\n",
              " 'reserves',\n",
              " 'retail',\n",
              " 'rice',\n",
              " 'rubber',\n",
              " 'rye',\n",
              " 'ship',\n",
              " 'silver',\n",
              " 'sorghum',\n",
              " 'soy-meal',\n",
              " 'soy-oil',\n",
              " 'soybean',\n",
              " 'strategic-metal',\n",
              " 'sugar',\n",
              " 'sun-meal',\n",
              " 'sun-oil',\n",
              " 'sunseed',\n",
              " 'tea',\n",
              " 'tin',\n",
              " 'trade',\n",
              " 'veg-oil',\n",
              " 'wheat',\n",
              " 'wpi',\n",
              " 'yen',\n",
              " 'zinc']"
            ]
          },
          "metadata": {
            "tags": []
          },
          "execution_count": 5
        }
      ]
    },
    {
      "cell_type": "markdown",
      "metadata": {
        "id": "jvfCkqa_z5MY"
      },
      "source": [
        "Let's have a look at first 10 documents:"
      ]
    },
    {
      "cell_type": "code",
      "metadata": {
        "id": "82enqPftIoTA",
        "outputId": "1e37c443-ee1c-4f51-a2d1-78ba0bb46b18",
        "colab": {
          "base_uri": "https://localhost:8080/",
          "height": 207
        }
      },
      "source": [
        "# print 10 sentences of the reuters corpus\n",
        "for i, sent in enumerate(reuters.sents()[:10]):\n",
        "  print(\"sent \", i, \":\", \" \".join(sent))"
      ],
      "execution_count": null,
      "outputs": [
        {
          "output_type": "stream",
          "text": [
            "sent  0 : ASIAN EXPORTERS FEAR DAMAGE FROM U . S .- JAPAN RIFT Mounting trade friction between the U . S . And Japan has raised fears among many of Asia ' s exporting nations that the row could inflict far - reaching economic damage , businessmen and officials said .\n",
            "sent  1 : They told Reuter correspondents in Asian capitals a U . S . Move against Japan might boost protectionist sentiment in the U . S . And lead to curbs on American imports of their products .\n",
            "sent  2 : But some exporters said that while the conflict would hurt them in the long - run , in the short - term Tokyo ' s loss might be their gain .\n",
            "sent  3 : The U . S . Has said it will impose 300 mln dlrs of tariffs on imports of Japanese electronics goods on April 17 , in retaliation for Japan ' s alleged failure to stick to a pact not to sell semiconductors on world markets at below cost .\n",
            "sent  4 : Unofficial Japanese estimates put the impact of the tariffs at 10 billion dlrs and spokesmen for major electronics firms said they would virtually halt exports of products hit by the new taxes .\n",
            "sent  5 : \" We wouldn ' t be able to do business ,\" said a spokesman for leading Japanese electronics firm Matsushita Electric Industrial Co Ltd & lt ; MC . T >.\n",
            "sent  6 : \" If the tariffs remain in place for any length of time beyond a few months it will mean the complete erosion of exports ( of goods subject to tariffs ) to the U . S .,\" said Tom Murtha , a stock analyst at the Tokyo office of broker & lt ; James Capel and Co >.\n",
            "sent  7 : In Taiwan , businessmen and officials are also worried .\n",
            "sent  8 : \" We are aware of the seriousness of the U . S .\n",
            "sent  9 : Threat against Japan because it serves as a warning to us ,\" said a senior Taiwanese trade official who asked not to be named .\n"
          ],
          "name": "stdout"
        }
      ]
    },
    {
      "cell_type": "markdown",
      "metadata": {
        "id": "-jdayXnQv8od"
      },
      "source": [
        "## Model building\n",
        "\n"
      ]
    },
    {
      "cell_type": "code",
      "metadata": {
        "id": "DTdB3TiC5luw",
        "outputId": "b1efd0b3-7251-408d-aa8d-1e4af8f87fbb",
        "colab": {
          "base_uri": "https://localhost:8080/",
          "height": 85
        }
      },
      "source": [
        "from nltk import bigrams, trigrams\n",
        "\n",
        "# trigrams\n",
        "[x for x in trigrams(\"the price of petrol has dropped\".split())]"
      ],
      "execution_count": null,
      "outputs": [
        {
          "output_type": "execute_result",
          "data": {
            "text/plain": [
              "[('the', 'price', 'of'),\n",
              " ('price', 'of', 'petrol'),\n",
              " ('of', 'petrol', 'has'),\n",
              " ('petrol', 'has', 'dropped')]"
            ]
          },
          "metadata": {
            "tags": []
          },
          "execution_count": 12
        }
      ]
    },
    {
      "cell_type": "code",
      "metadata": {
        "id": "Fdy7sdy_yYf4"
      },
      "source": [
        "from nltk.corpus import reuters\n",
        "from collections import Counter, defaultdict\n",
        "\n",
        "# Create a placeholder for model\n",
        "model = defaultdict(lambda: defaultdict(lambda: 0))\n",
        "\n",
        "# Count frequency of co-occurance  \n",
        "for sentence in reuters.sents():\n",
        "    for w1, w2, w3 in trigrams(sentence, pad_right=True, pad_left=True):\n",
        "        model[(w1, w2)][w3] += 1"
      ],
      "execution_count": null,
      "outputs": []
    },
    {
      "cell_type": "markdown",
      "metadata": {
        "id": "BD2bu8AnDEg0"
      },
      "source": [
        "**Let's see this in action...here is how our model would like:**"
      ]
    },
    {
      "cell_type": "code",
      "metadata": {
        "id": "8b_KiOWeCvGy"
      },
      "source": [
        "model"
      ],
      "execution_count": null,
      "outputs": []
    },
    {
      "cell_type": "code",
      "metadata": {
        "id": "A6btw0AORJ7v",
        "outputId": "65152da5-50dc-4227-b37a-47861733a0a4",
        "colab": {
          "base_uri": "https://localhost:8080/",
          "height": 187
        }
      },
      "source": [
        "# predict the next word\n",
        "dict(model[\"world\", \"markets\"])"
      ],
      "execution_count": null,
      "outputs": [
        {
          "output_type": "execute_result",
          "data": {
            "text/plain": [
              "{',': 13,\n",
              " '.': 10,\n",
              " '.\"': 1,\n",
              " 'and': 16,\n",
              " 'at': 5,\n",
              " 'continues': 1,\n",
              " 'has': 1,\n",
              " 'helped': 1,\n",
              " 'in': 1,\n",
              " 'while': 1}"
            ]
          },
          "metadata": {
            "tags": []
          },
          "execution_count": 15
        }
      ]
    },
    {
      "cell_type": "code",
      "metadata": {
        "id": "k9Y2orCnQ7Fr"
      },
      "source": [
        "# find the overall frequency of words in the corpus\n",
        "counts = Counter(reuters.words())\n",
        "total_count = len(reuters.words())\n",
        " \n",
        "# relative frequencies\n",
        "for word in counts:\n",
        "    counts[word] /= float(total_count)\n",
        "    \n",
        "# Let's transform the counts to probabilities\n",
        "for w1_w2 in model:\n",
        "    total_count = float(sum(model[w1_w2].values()))\n",
        "    for w3 in model[w1_w2]:\n",
        "        model[w1_w2][w3] /= total_count"
      ],
      "execution_count": null,
      "outputs": []
    },
    {
      "cell_type": "code",
      "metadata": {
        "id": "S6OsvEIlS3oa",
        "outputId": "23fe1590-a57a-4c2b-c97f-80cbe8356196",
        "colab": {
          "base_uri": "https://localhost:8080/",
          "height": 187
        }
      },
      "source": [
        "# predict the next word\n",
        "dict(model[\"world\", \"markets\"])"
      ],
      "execution_count": null,
      "outputs": [
        {
          "output_type": "execute_result",
          "data": {
            "text/plain": [
              "{',': 0.26,\n",
              " '.': 0.2,\n",
              " '.\"': 0.02,\n",
              " 'and': 0.32,\n",
              " 'at': 0.1,\n",
              " 'continues': 0.02,\n",
              " 'has': 0.02,\n",
              " 'helped': 0.02,\n",
              " 'in': 0.02,\n",
              " 'while': 0.02}"
            ]
          },
          "metadata": {
            "tags": []
          },
          "execution_count": 17
        }
      ]
    },
    {
      "cell_type": "markdown",
      "metadata": {
        "id": "bVBrtagDwPBf"
      },
      "source": [
        "## Inference - Text generation"
      ]
    },
    {
      "cell_type": "code",
      "metadata": {
        "id": "XisRviHMZfzW",
        "outputId": "ab8b2fb1-7f60-4841-db13-a31bc0a9d0b6",
        "colab": {
          "base_uri": "https://localhost:8080/",
          "height": 272
        }
      },
      "source": [
        "# predict the next word\n",
        "sorted(dict(model[\"today\", \"the\"]).items(), key=lambda x: x[1], reverse=True)"
      ],
      "execution_count": null,
      "outputs": [
        {
          "output_type": "execute_result",
          "data": {
            "text/plain": [
              "[('company', 0.16666666666666666),\n",
              " ('price', 0.1111111111111111),\n",
              " ('public', 0.05555555555555555),\n",
              " ('European', 0.05555555555555555),\n",
              " ('Bank', 0.05555555555555555),\n",
              " ('emirate', 0.05555555555555555),\n",
              " ('overseas', 0.05555555555555555),\n",
              " ('newspaper', 0.05555555555555555),\n",
              " ('Turkish', 0.05555555555555555),\n",
              " ('increase', 0.05555555555555555),\n",
              " ('options', 0.05555555555555555),\n",
              " ('Higher', 0.05555555555555555),\n",
              " ('pound', 0.05555555555555555),\n",
              " ('Italian', 0.05555555555555555),\n",
              " ('time', 0.05555555555555555)]"
            ]
          },
          "metadata": {
            "tags": []
          },
          "execution_count": 126
        }
      ]
    },
    {
      "cell_type": "code",
      "metadata": {
        "id": "OeE6z6EzUb9S",
        "outputId": "bbf6f557-0070-4587-e42d-fdd92f2c9524",
        "colab": {
          "base_uri": "https://localhost:8080/",
          "height": 1000
        }
      },
      "source": [
        "sorted(dict(model[\"the\", \"price\"]).items(), key=lambda x: x[1], reverse=True)"
      ],
      "execution_count": null,
      "outputs": [
        {
          "output_type": "execute_result",
          "data": {
            "text/plain": [
              "[('of', 0.3209302325581395),\n",
              " ('it', 0.05581395348837209),\n",
              " ('to', 0.05581395348837209),\n",
              " ('for', 0.05116279069767442),\n",
              " ('.', 0.023255813953488372),\n",
              " ('at', 0.023255813953488372),\n",
              " ('adjustment', 0.023255813953488372),\n",
              " ('is', 0.018604651162790697),\n",
              " (',', 0.018604651162790697),\n",
              " ('paid', 0.013953488372093023),\n",
              " ('increases', 0.013953488372093023),\n",
              " ('per', 0.013953488372093023),\n",
              " ('the', 0.013953488372093023),\n",
              " ('will', 0.013953488372093023),\n",
              " ('cut', 0.009302325581395349),\n",
              " ('cuts', 0.009302325581395349),\n",
              " ('(', 0.009302325581395349),\n",
              " ('differentials', 0.009302325581395349),\n",
              " ('has', 0.009302325581395349),\n",
              " ('stayed', 0.009302325581395349),\n",
              " ('was', 0.009302325581395349),\n",
              " ('freeze', 0.009302325581395349),\n",
              " ('increase', 0.009302325581395349),\n",
              " ('would', 0.009302325581395349),\n",
              " ('yesterday', 0.004651162790697674),\n",
              " ('effect', 0.004651162790697674),\n",
              " ('used', 0.004651162790697674),\n",
              " ('climate', 0.004651162790697674),\n",
              " ('reductions', 0.004651162790697674),\n",
              " ('limit', 0.004651162790697674),\n",
              " ('now', 0.004651162790697674),\n",
              " ('moved', 0.004651162790697674),\n",
              " ('adjustments', 0.004651162790697674),\n",
              " ('slumped', 0.004651162790697674),\n",
              " ('move', 0.004651162790697674),\n",
              " ('evolution', 0.004651162790697674),\n",
              " ('went', 0.004651162790697674),\n",
              " ('factor', 0.004651162790697674),\n",
              " ('Royal', 0.004651162790697674),\n",
              " ('again', 0.004651162790697674),\n",
              " ('changes', 0.004651162790697674),\n",
              " ('holds', 0.004651162790697674),\n",
              " ('fall', 0.004651162790697674),\n",
              " ('-', 0.004651162790697674),\n",
              " ('from', 0.004651162790697674),\n",
              " ('base', 0.004651162790697674),\n",
              " ('on', 0.004651162790697674),\n",
              " ('review', 0.004651162790697674),\n",
              " ('while', 0.004651162790697674),\n",
              " ('collapse', 0.004651162790697674),\n",
              " ('being', 0.004651162790697674),\n",
              " ('outlook', 0.004651162790697674),\n",
              " ('rises', 0.004651162790697674),\n",
              " ('drop', 0.004651162790697674),\n",
              " ('guaranteed', 0.004651162790697674),\n",
              " (',\"', 0.004651162790697674),\n",
              " ('structure', 0.004651162790697674),\n",
              " ('and', 0.004651162790697674),\n",
              " ('could', 0.004651162790697674),\n",
              " ('related', 0.004651162790697674),\n",
              " ('hike', 0.004651162790697674),\n",
              " ('we', 0.004651162790697674),\n",
              " ('policy', 0.004651162790697674),\n",
              " ('revision', 0.004651162790697674),\n",
              " ('led', 0.004651162790697674),\n",
              " ('action', 0.004651162790697674),\n",
              " ('zone', 0.004651162790697674),\n",
              " ('slump', 0.004651162790697674),\n",
              " ('had', 0.004651162790697674),\n",
              " ('difference', 0.004651162790697674),\n",
              " ('in', 0.004651162790697674),\n",
              " ('raise', 0.004651162790697674),\n",
              " ('support', 0.004651162790697674),\n",
              " ('gap', 0.004651162790697674),\n",
              " ('projected', 0.004651162790697674),\n",
              " ('approached', 0.004651162790697674),\n",
              " ('instability', 0.004651162790697674)]"
            ]
          },
          "metadata": {
            "tags": []
          },
          "execution_count": 128
        }
      ]
    },
    {
      "cell_type": "code",
      "metadata": {
        "id": "X-IAMLP3z8L3",
        "outputId": "ac6df3ac-3575-4bc2-fc21-59526acd35d0",
        "colab": {
          "base_uri": "https://localhost:8080/",
          "height": 102
        }
      },
      "source": [
        "import random\n",
        "\n",
        "def gen_text():\n",
        "\n",
        "  # starting words\n",
        "  text = [\"today\", \"the\"]\n",
        "  sentence_finished = False\n",
        "  \n",
        "  while not sentence_finished:\n",
        "    # select a random probability threshold  \n",
        "    r = random.random()\n",
        "    accumulator = .0\n",
        "\n",
        "    for word in model[tuple(text[-2:])].keys():\n",
        "        accumulator += model[tuple(text[-2:])][word]\n",
        "\n",
        "        # select words that are above the probability threshold\n",
        "        if accumulator >= r:\n",
        "            text.append(word)\n",
        "            break\n",
        "\n",
        "    if text[-2:] == [None, None]:\n",
        "        sentence_finished = True\n",
        "  \n",
        "  print (' '.join([t for t in text if t]))\n",
        "\n",
        "for i in range(5):\n",
        "  gen_text()"
      ],
      "execution_count": null,
      "outputs": [
        {
          "output_type": "stream",
          "text": [
            "today the public ,\" said Raymond Stone , chief economist of Schroeder , Muenchmeyer , Hengst ' s land assets are growing .\n",
            "today the increase in subsidies .\n",
            "today the increase reflects high costs of restructuring , or 18 . 64 DLRS\n",
            "today the time of the split would be resolved relatively soon .\n",
            "today the overseas markets ,\" said Judy Weissman , FCOJ , mostly in West Berlin , echoing comments from bankers and economists said .\n"
          ],
          "name": "stdout"
        }
      ]
    },
    {
      "cell_type": "markdown",
      "metadata": {
        "id": "mQ6qUV6wTdu5"
      },
      "source": [
        "### 3. Sentence probability"
      ]
    },
    {
      "cell_type": "code",
      "metadata": {
        "id": "mQMjOkT80uW-"
      },
      "source": [
        "# find probability of a sentence\n",
        "\n",
        "def sent_prob(sent):\n",
        "  probs = []\n",
        "  trigram_seq = [x for x in trigrams(sent.split())]\n",
        "  for w1, w2, w3 in trigram_seq:\n",
        "      probs.append(model[w1, w2][w3])\n",
        "  return probs "
      ],
      "execution_count": null,
      "outputs": []
    },
    {
      "cell_type": "code",
      "metadata": {
        "id": "_wsSS7br1Buc",
        "outputId": "6a559c59-de1a-417d-dee6-09a41240aac7",
        "colab": {
          "base_uri": "https://localhost:8080/",
          "height": 34
        }
      },
      "source": [
        "model[\"the\", \"price\"][\"of\"]"
      ],
      "execution_count": null,
      "outputs": [
        {
          "output_type": "execute_result",
          "data": {
            "text/plain": [
              "0.3209302325581395"
            ]
          },
          "metadata": {
            "tags": []
          },
          "execution_count": 184
        }
      ]
    },
    {
      "cell_type": "code",
      "metadata": {
        "id": "h6Hqjkkq105g",
        "outputId": "45d8ec21-d27a-44f1-cae2-a71df3518b95",
        "colab": {
          "base_uri": "https://localhost:8080/",
          "height": 34
        }
      },
      "source": [
        "sent_prob(\"the price of oil has dropped\")\n",
        "# [x for x in trigrams(\"the price of oil has dropped\".split())],sent_prob(\"the price of oil has dropped\")"
      ],
      "execution_count": null,
      "outputs": [
        {
          "output_type": "execute_result",
          "data": {
            "text/plain": [
              "[0.3209302325581395, 0.04332129963898917, 0, 0]"
            ]
          },
          "metadata": {
            "tags": []
          },
          "execution_count": 192
        }
      ]
    },
    {
      "cell_type": "code",
      "metadata": {
        "id": "Cg3Ianc72EGW",
        "outputId": "17e30bad-7ee7-4803-e574-9a95003139a0",
        "colab": {
          "base_uri": "https://localhost:8080/",
          "height": 34
        }
      },
      "source": [
        "sent_prob(\"the price of all has dropped\")"
      ],
      "execution_count": null,
      "outputs": [
        {
          "output_type": "execute_result",
          "data": {
            "text/plain": [
              "[0.3209302325581395, 0.0036101083032490976, 0, 0]"
            ]
          },
          "metadata": {
            "tags": []
          },
          "execution_count": 186
        }
      ]
    },
    {
      "cell_type": "code",
      "metadata": {
        "id": "I2RzKjQo2dlF",
        "outputId": "c4f74f1c-241b-4fee-8b0d-c60162a07bb2",
        "colab": {
          "base_uri": "https://localhost:8080/",
          "height": 34
        }
      },
      "source": [
        "sent_prob(\"oil and natural gas\")\n"
      ],
      "execution_count": null,
      "outputs": [
        {
          "output_type": "execute_result",
          "data": {
            "text/plain": [
              "[0.10223642172523961, 0.9772727272727273]"
            ]
          },
          "metadata": {
            "tags": []
          },
          "execution_count": 187
        }
      ]
    },
    {
      "cell_type": "code",
      "metadata": {
        "id": "samEPDHQQGjG",
        "outputId": "388f75ee-e512-4e3a-ee15-6050137b8821",
        "colab": {
          "base_uri": "https://localhost:8080/",
          "height": 34
        }
      },
      "source": [
        "sent_prob(\"owl and natural gas\")"
      ],
      "execution_count": null,
      "outputs": [
        {
          "output_type": "execute_result",
          "data": {
            "text/plain": [
              "[0, 0.9772727272727273]"
            ]
          },
          "metadata": {
            "tags": []
          },
          "execution_count": 188
        }
      ]
    },
    {
      "cell_type": "code",
      "metadata": {
        "id": "LEHBdHW733rF",
        "outputId": "f51c1bf9-0f5b-48d1-c8f0-917b54bc7806",
        "colab": {
          "base_uri": "https://localhost:8080/",
          "height": 34
        }
      },
      "source": [
        "sent_prob(\"large price of stock\")\n"
      ],
      "execution_count": null,
      "outputs": [
        {
          "output_type": "execute_result",
          "data": {
            "text/plain": [
              "[0, 0.0036101083032490976]"
            ]
          },
          "metadata": {
            "tags": []
          },
          "execution_count": 189
        }
      ]
    },
    {
      "cell_type": "code",
      "metadata": {
        "id": "FbmYFLuI4AB3",
        "outputId": "05e8524f-e745-4ca9-8608-6476259a5b94",
        "colab": {
          "base_uri": "https://localhost:8080/",
          "height": 34
        }
      },
      "source": [
        "sent_prob(\"high price of stock\")"
      ],
      "execution_count": null,
      "outputs": [
        {
          "output_type": "execute_result",
          "data": {
            "text/plain": [
              "[0.2, 0.0036101083032490976]"
            ]
          },
          "metadata": {
            "tags": []
          },
          "execution_count": 190
        }
      ]
    },
    {
      "cell_type": "code",
      "metadata": {
        "id": "HPvtSisxNj-3"
      },
      "source": [],
      "execution_count": null,
      "outputs": []
    }
  ]
}