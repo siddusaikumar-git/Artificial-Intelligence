{
  "nbformat": 4,
  "nbformat_minor": 0,
  "metadata": {
    "colab": {
      "provenance": []
    },
    "kernelspec": {
      "name": "python3",
      "display_name": "Python 3"
    },
    "accelerator": "GPU"
  },
  "cells": [
    {
      "cell_type": "code",
      "metadata": {
        "id": "VoGuagvmhLFI",
        "colab": {
          "base_uri": "https://localhost:8080/",
          "height": 139
        },
        "outputId": "1e8dd8a5-7a7b-4979-8e6f-8d0c74213426"
      },
      "source": [
        "!pip install unidecode\n",
        "import numpy as np\n",
        "import pandas as pd\n",
        "import unidecode\n",
        "import re\n",
        "\n",
        "from sklearn.model_selection import train_test_split\n",
        "from keras.layers import Dense, Embedding, TimeDistributed, LSTM, Input\n",
        "from keras.models import Model, load_model\n",
        "from keras.preprocessing.sequence import pad_sequences\n",
        "from keras.callbacks import ModelCheckpoint, EarlyStopping"
      ],
      "execution_count": null,
      "outputs": [
        {
          "output_type": "stream",
          "text": [
            "Collecting unidecode\n",
            "\u001b[?25l  Downloading https://files.pythonhosted.org/packages/d0/42/d9edfed04228bacea2d824904cae367ee9efd05e6cce7ceaaedd0b0ad964/Unidecode-1.1.1-py2.py3-none-any.whl (238kB)\n",
            "\r\u001b[K     |█▍                              | 10kB 27.8MB/s eta 0:00:01\r\u001b[K     |██▊                             | 20kB 5.9MB/s eta 0:00:01\r\u001b[K     |████▏                           | 30kB 7.2MB/s eta 0:00:01\r\u001b[K     |█████▌                          | 40kB 8.1MB/s eta 0:00:01\r\u001b[K     |██████▉                         | 51kB 7.0MB/s eta 0:00:01\r\u001b[K     |████████▎                       | 61kB 7.9MB/s eta 0:00:01\r\u001b[K     |█████████▋                      | 71kB 8.2MB/s eta 0:00:01\r\u001b[K     |███████████                     | 81kB 8.4MB/s eta 0:00:01\r\u001b[K     |████████████▍                   | 92kB 7.9MB/s eta 0:00:01\r\u001b[K     |█████████████▊                  | 102kB 8.1MB/s eta 0:00:01\r\u001b[K     |███████████████▏                | 112kB 8.1MB/s eta 0:00:01\r\u001b[K     |████████████████▌               | 122kB 8.1MB/s eta 0:00:01\r\u001b[K     |█████████████████▉              | 133kB 8.1MB/s eta 0:00:01\r\u001b[K     |███████████████████▎            | 143kB 8.1MB/s eta 0:00:01\r\u001b[K     |████████████████████▋           | 153kB 8.1MB/s eta 0:00:01\r\u001b[K     |██████████████████████          | 163kB 8.1MB/s eta 0:00:01\r\u001b[K     |███████████████████████▍        | 174kB 8.1MB/s eta 0:00:01\r\u001b[K     |████████████████████████▊       | 184kB 8.1MB/s eta 0:00:01\r\u001b[K     |██████████████████████████▏     | 194kB 8.1MB/s eta 0:00:01\r\u001b[K     |███████████████████████████▌    | 204kB 8.1MB/s eta 0:00:01\r\u001b[K     |████████████████████████████▉   | 215kB 8.1MB/s eta 0:00:01\r\u001b[K     |██████████████████████████████▎ | 225kB 8.1MB/s eta 0:00:01\r\u001b[K     |███████████████████████████████▋| 235kB 8.1MB/s eta 0:00:01\r\u001b[K     |████████████████████████████████| 245kB 8.1MB/s \n",
            "\u001b[?25hInstalling collected packages: unidecode\n",
            "Successfully installed unidecode-1.1.1\n"
          ],
          "name": "stdout"
        },
        {
          "output_type": "stream",
          "text": [
            "Using TensorFlow backend.\n"
          ],
          "name": "stderr"
        }
      ]
    },
    {
      "cell_type": "code",
      "metadata": {
        "id": "PzH5UtI5i09e"
      },
      "source": [
        "with open('/content/drive/My Drive/ML_Data/spa.txt', mode='rt', encoding='utf-8') as f:\n",
        "  text = f.read()"
      ],
      "execution_count": null,
      "outputs": []
    },
    {
      "cell_type": "code",
      "metadata": {
        "id": "u4XRUfksjRK6"
      },
      "source": [
        "lines = text.strip().split('\\n')\n",
        "lines = [i.split('\\t') for i in lines]\n",
        "lines = np.array(lines)"
      ],
      "execution_count": null,
      "outputs": []
    },
    {
      "cell_type": "code",
      "metadata": {
        "id": "MkqDMpCWk0fL"
      },
      "source": [
        "english = []\n",
        "for i in lines[:, 0]:\n",
        "  english.append(i)\n",
        "spanish = []\n",
        "for i in lines[:, 1]:\n",
        "  spanish.append(i)"
      ],
      "execution_count": null,
      "outputs": []
    },
    {
      "cell_type": "code",
      "metadata": {
        "id": "hvTFYDK_mnxa",
        "colab": {
          "base_uri": "https://localhost:8080/",
          "height": 289
        },
        "outputId": "27c4d22b-c89d-4207-e960-479505ab5efa"
      },
      "source": [
        "def clean_text(sentence):\n",
        "  sentence = sentence.lower()\n",
        "  sentence = unidecode.unidecode(sentence)\n",
        "  sentence = re.sub(\"'\", '', sentence)\n",
        "  sentence = re.sub('[^a-zA-Z]', ' ', sentence)\n",
        "  return \" \".join(sentence.split())\n",
        "\n",
        "df = pd.DataFrame({\"spanish\":spanish, \"english\": english}) \n",
        "\n",
        "df[\"cleaned_spanish\"] = df[\"spanish\"].apply(lambda x : clean_text(x))\n",
        "df[\"cleaned_english\"] = df[\"english\"].apply(lambda x : clean_text(x))\n",
        "\n",
        "df.tail()"
      ],
      "execution_count": null,
      "outputs": [
        {
          "output_type": "execute_result",
          "data": {
            "text/html": [
              "<div>\n",
              "<style scoped>\n",
              "    .dataframe tbody tr th:only-of-type {\n",
              "        vertical-align: middle;\n",
              "    }\n",
              "\n",
              "    .dataframe tbody tr th {\n",
              "        vertical-align: top;\n",
              "    }\n",
              "\n",
              "    .dataframe thead th {\n",
              "        text-align: right;\n",
              "    }\n",
              "</style>\n",
              "<table border=\"1\" class=\"dataframe\">\n",
              "  <thead>\n",
              "    <tr style=\"text-align: right;\">\n",
              "      <th></th>\n",
              "      <th>spanish</th>\n",
              "      <th>english</th>\n",
              "      <th>cleaned_spanish</th>\n",
              "      <th>cleaned_english</th>\n",
              "    </tr>\n",
              "  </thead>\n",
              "  <tbody>\n",
              "    <tr>\n",
              "      <th>123765</th>\n",
              "      <td>Hay cuatro causas principales de muertes relac...</td>\n",
              "      <td>There are four main causes of alcohol-related ...</td>\n",
              "      <td>hay cuatro causas principales de muertes relac...</td>\n",
              "      <td>there are four main causes of alcohol related ...</td>\n",
              "    </tr>\n",
              "    <tr>\n",
              "      <th>123766</th>\n",
              "      <td>Hay madres y padres que se quedan despiertos d...</td>\n",
              "      <td>There are mothers and fathers who will lie awa...</td>\n",
              "      <td>hay madres y padres que se quedan despiertos d...</td>\n",
              "      <td>there are mothers and fathers who will lie awa...</td>\n",
              "    </tr>\n",
              "    <tr>\n",
              "      <th>123767</th>\n",
              "      <td>Una huella de carbono es la cantidad de contam...</td>\n",
              "      <td>A carbon footprint is the amount of carbon dio...</td>\n",
              "      <td>una huella de carbono es la cantidad de contam...</td>\n",
              "      <td>a carbon footprint is the amount of carbon dio...</td>\n",
              "    </tr>\n",
              "    <tr>\n",
              "      <th>123768</th>\n",
              "      <td>Como suele haber varias páginas web sobre cual...</td>\n",
              "      <td>Since there are usually multiple websites on a...</td>\n",
              "      <td>como suele haber varias paginas web sobre cual...</td>\n",
              "      <td>since there are usually multiple websites on a...</td>\n",
              "    </tr>\n",
              "    <tr>\n",
              "      <th>123769</th>\n",
              "      <td>Si quieres sonar como un hablante nativo, debe...</td>\n",
              "      <td>If you want to sound like a native speaker, yo...</td>\n",
              "      <td>si quieres sonar como un hablante nativo debes...</td>\n",
              "      <td>if you want to sound like a native speaker you...</td>\n",
              "    </tr>\n",
              "  </tbody>\n",
              "</table>\n",
              "</div>"
            ],
            "text/plain": [
              "                                                  spanish  ...                                    cleaned_english\n",
              "123765  Hay cuatro causas principales de muertes relac...  ...  there are four main causes of alcohol related ...\n",
              "123766  Hay madres y padres que se quedan despiertos d...  ...  there are mothers and fathers who will lie awa...\n",
              "123767  Una huella de carbono es la cantidad de contam...  ...  a carbon footprint is the amount of carbon dio...\n",
              "123768  Como suele haber varias páginas web sobre cual...  ...  since there are usually multiple websites on a...\n",
              "123769  Si quieres sonar como un hablante nativo, debe...  ...  if you want to sound like a native speaker you...\n",
              "\n",
              "[5 rows x 4 columns]"
            ]
          },
          "metadata": {
            "tags": []
          },
          "execution_count": 5
        }
      ]
    },
    {
      "cell_type": "code",
      "metadata": {
        "id": "y0MEXgKcn4aA"
      },
      "source": [
        "spanish_freq = {}\n",
        "\n",
        "for sent in df[\"cleaned_spanish\"].values:\n",
        "  for word in sent.split():\n",
        "    try:\n",
        "      spanish_freq[word] +=1\n",
        "    except KeyError:\n",
        "      spanish_freq[word] = 1\n",
        "\n",
        "english_freq = {}\n",
        "\n",
        "for sent in df[\"cleaned_english\"].values:\n",
        "  for word in sent.split():\n",
        "    try:\n",
        "      english_freq[word] += 1\n",
        "    except KeyError:\n",
        "      english_freq[word] = 1"
      ],
      "execution_count": null,
      "outputs": []
    },
    {
      "cell_type": "code",
      "metadata": {
        "id": "g4F5Fn46quz8",
        "colab": {
          "base_uri": "https://localhost:8080/",
          "height": 51
        },
        "outputId": "bc59722e-3bf4-4612-9294-888631f1b007"
      },
      "source": [
        "thresold = 2\n",
        "\n",
        "cnt = 0\n",
        "tot_cnt = 0\n",
        "freq = 0\n",
        "tot_freq = 0\n",
        "\n",
        "for key, val in english_freq.items():\n",
        "  tot_cnt += 1\n",
        "  tot_freq += val\n",
        "\n",
        "  if(val < thresold):\n",
        "    cnt += 1\n",
        "    freq += 1\n",
        "print(\"percentage of less frequency words in english doc\", cnt/tot_cnt)\n",
        "print(\"percentage of contribution of less frequency words in english doc\", freq/tot_freq)"
      ],
      "execution_count": null,
      "outputs": [
        {
          "output_type": "stream",
          "text": [
            "percentage of less frequency words in english doc 0.32153927572389807\n",
            "percentage of contribution of less frequency words in english doc 0.0054589328575645945\n"
          ],
          "name": "stdout"
        }
      ]
    },
    {
      "cell_type": "code",
      "metadata": {
        "id": "g15qFVGItMiY",
        "colab": {
          "base_uri": "https://localhost:8080/",
          "height": 51
        },
        "outputId": "b56ca2a1-ab83-4b82-d9f9-eeca6daa03d5"
      },
      "source": [
        "thresold = 2\n",
        "\n",
        "cnt = 0\n",
        "tot_cnt = 0\n",
        "freq = 0\n",
        "tot_freq = 0\n",
        "\n",
        "for key, val in spanish_freq.items():\n",
        "  tot_cnt += 1\n",
        "  tot_freq += val\n",
        "\n",
        "  if(val < thresold):\n",
        "    cnt += 1\n",
        "    freq += 1\n",
        "print(\"percentage of less frequency words in spanish doc\", cnt/tot_cnt)\n",
        "print(\"percentage of contribution of less frequency words in spanish doc\", freq/tot_freq)"
      ],
      "execution_count": null,
      "outputs": [
        {
          "output_type": "stream",
          "text": [
            "percentage of less frequency words in spanish doc 0.4031868088311071\n",
            "percentage of contribution of less frequency words in spanish doc 0.013557099217921174\n"
          ],
          "name": "stdout"
        }
      ]
    },
    {
      "cell_type": "code",
      "metadata": {
        "id": "Slp_46WttZGl"
      },
      "source": [
        "english_vocab = {}\n",
        "\n",
        "english_corpus = [k for k, v in english_freq.items()]\n",
        "cnt = 4\n",
        "for i in english_corpus:\n",
        "  if(english_freq[i] >= thresold):\n",
        "    english_vocab[i] = cnt\n",
        "    cnt += 1\n",
        "\n",
        "spanish_vocab = {}\n",
        "\n",
        "spanish_corpus = [k for k, v in spanish_freq.items()]\n",
        "cnt = 2\n",
        "for i in spanish_corpus:\n",
        "  if(spanish_freq[i] >= thresold):\n",
        "    spanish_vocab[i] = cnt\n",
        "    cnt += 1"
      ],
      "execution_count": null,
      "outputs": []
    },
    {
      "cell_type": "code",
      "metadata": {
        "id": "HYvnTrcNwDBh"
      },
      "source": [
        "english_vocab['<pad>'] = 0\n",
        "english_vocab['<unk>'] = 1\n",
        "spanish_vocab['<pad>'] = 0\n",
        "spanish_vocab['<unk>'] = 1\n",
        "\n",
        "\n",
        "spanish_sentences = []\n",
        "for i in df[\"cleaned_spanish\"].values:\n",
        "  sent = []\n",
        "  for j in i.split():\n",
        "    if(j not in spanish_corpus):\n",
        "      sent.append(spanish_vocab['<unk>'])\n",
        "    elif(spanish_freq[j] < thresold):\n",
        "      sent.append(spanish_vocab['<unk>'])\n",
        "    else:\n",
        "      sent.append(spanish_vocab[j])\n",
        "  spanish_sentences.append(sent)\n",
        "\n",
        "\n",
        "english_sentences = []\n",
        "for i in df[\"cleaned_english\"].values:\n",
        "  sent = []\n",
        "  for j in i.split():\n",
        "    if(j not in english_corpus):\n",
        "      sent.append(english_vocab['<unk>'])\n",
        "    elif(english_freq[j] < thresold):\n",
        "      sent.append(english_vocab['<unk>'])\n",
        "    else:\n",
        "      sent.append(english_vocab[j])\n",
        "  english_sentences.append(sent)\n"
      ],
      "execution_count": null,
      "outputs": []
    },
    {
      "cell_type": "code",
      "metadata": {
        "id": "-J_PFeU2yMWF",
        "colab": {
          "base_uri": "https://localhost:8080/",
          "height": 281
        },
        "outputId": "8467db8d-c42f-445d-ec1f-8b289c75e996"
      },
      "source": [
        "english_sent_len = []\n",
        "spanish_sent_len = []\n",
        "\n",
        "for i in spanish_sentences:\n",
        "  spanish_sent_len.append(len(i))\n",
        "for i in english_sentences:\n",
        "  english_sent_len.append(len(i))\n",
        "\n",
        "import matplotlib.pyplot as plt\n",
        "%matplotlib inline\n",
        "\n",
        "length_df = pd.DataFrame({\"english_len\":english_sent_len, \"spanish_len\":spanish_sent_len})\n",
        "\n",
        "length_df.hist(bins=30)\n",
        "plt.show()"
      ],
      "execution_count": null,
      "outputs": [
        {
          "output_type": "display_data",
          "data": {
            "image/png": "[encoded data removed]",
            "text/plain": [
              "<Figure size 432x288 with 2 Axes>"
            ]
          },
          "metadata": {
            "tags": [],
            "needs_background": "light"
          }
        }
      ]
    },
    {
      "cell_type": "code",
      "metadata": {
        "id": "lsr6q4732kTH"
      },
      "source": [
        "spanish_pad_sentences = pad_sequences(spanish_sentences, maxlen=15, padding='post', truncating='post')\n",
        "english_pad_sentences = pad_sequences(english_sentences, maxlen=15, padding='post', truncating='post')"
      ],
      "execution_count": null,
      "outputs": []
    },
    {
      "cell_type": "code",
      "metadata": {
        "id": "mZZgHlGY5g_d",
        "colab": {
          "base_uri": "https://localhost:8080/",
          "height": 136
        },
        "outputId": "4ef51995-beb0-4f08-b42b-95100e18ee60"
      },
      "source": [
        "english_vocab['<start>'] = 2\n",
        "english_vocab['<end>'] = 3\n",
        "\n",
        "tar_sentences = []\n",
        "for i in english_pad_sentences:\n",
        "  tar_sentences.append(np.insert(i, 0, english_vocab['<start>']))\n",
        "target_sentences = []\n",
        "for i in tar_sentences:\n",
        "  if(0 in i):\n",
        "    target_sentences.append(np.insert(i, list(i).index(0), english_vocab['<end>']))\n",
        "  else:\n",
        "    target_sentences.append(np.insert(i, len(i), english_vocab['<end>']))\n",
        "target_sentences = np.array(target_sentences)\n",
        "\n",
        "target_sentences"
      ],
      "execution_count": null,
      "outputs": [
        {
          "output_type": "execute_result",
          "data": {
            "text/plain": [
              "array([[   2,    4,    3, ...,    0,    0,    0],\n",
              "       [   2,    4,    3, ...,    0,    0,    0],\n",
              "       [   2,    4,    3, ...,    0,    0,    0],\n",
              "       ...,\n",
              "       [   2,  120, 8679, ...,  573,  120,    3],\n",
              "       [   2, 5122,  339, ..., 2710,  735,    3],\n",
              "       [   2, 1659,  103, ...,  255, 1689,    3]], dtype=int32)"
            ]
          },
          "metadata": {
            "tags": []
          },
          "execution_count": 13
        }
      ]
    },
    {
      "cell_type": "code",
      "metadata": {
        "id": "8iU-84kI8G4v"
      },
      "source": [
        "source_train, source_valid, target_train, target_valid = train_test_split(english_pad_sentences, target_sentences, test_size=0.2, random_state=42)"
      ],
      "execution_count": null,
      "outputs": []
    },
    {
      "cell_type": "code",
      "metadata": {
        "id": "jMrX-qWd9We9"
      },
      "source": [
        "max_spa_len = 15\n",
        "max_eng_len = 17\n",
        "\n",
        "\n",
        "latent_dim = 150\n",
        "embedding_dim = 200\n",
        "\n",
        "x_voc = len(spanish_vocab)\n",
        "y_voc = len(english_vocab)"
      ],
      "execution_count": null,
      "outputs": []
    },
    {
      "cell_type": "code",
      "metadata": {
        "id": "OM4dki2R8oMD"
      },
      "source": [
        "enc_input = Input(shape=(max_spa_len, ))\n",
        "enc_emb = Embedding(x_voc, embedding_dim, trainable=True)(enc_input)\n",
        "enc_lstm = LSTM(latent_dim, return_sequences=True, return_state=True)\n",
        "enc_output, enc_h, enc_c = enc_lstm(enc_emb)"
      ],
      "execution_count": null,
      "outputs": []
    },
    {
      "cell_type": "code",
      "metadata": {
        "id": "Y9fqEUps-3h9"
      },
      "source": [
        "dec_input = Input(shape=(max_eng_len-1, ))\n",
        "dec_emb_layer = Embedding(y_voc, embedding_dim, trainable=True)\n",
        "dec_emb = dec_emb_layer(dec_input)\n",
        "dec_lstm = LSTM(latent_dim, return_sequences=True, return_state=True)\n",
        "dec_output, dec_h, dec_c = dec_lstm(dec_emb, initial_state=[enc_h, enc_c])\n",
        "dec_dense = TimeDistributed(Dense(y_voc, activation='softmax'))\n",
        "dec_outputs = dec_dense(dec_output)"
      ],
      "execution_count": null,
      "outputs": []
    },
    {
      "cell_type": "code",
      "metadata": {
        "id": "Gv8rMVN2AZWh",
        "colab": {
          "base_uri": "https://localhost:8080/",
          "height": 425
        },
        "outputId": "3991d2e3-86b9-4ffa-ec42-86c3ef7dfed8"
      },
      "source": [
        "model = Model([enc_input, dec_input], dec_outputs)\n",
        "model.summary()"
      ],
      "execution_count": null,
      "outputs": [
        {
          "output_type": "stream",
          "text": [
            "Model: \"model_1\"\n",
            "__________________________________________________________________________________________________\n",
            "Layer (type)                    Output Shape         Param #     Connected to                     \n",
            "==================================================================================================\n",
            "input_1 (InputLayer)            (None, 15)           0                                            \n",
            "__________________________________________________________________________________________________\n",
            "input_2 (InputLayer)            (None, 16)           0                                            \n",
            "__________________________________________________________________________________________________\n",
            "embedding_1 (Embedding)         (None, 15, 200)      3011800     input_1[0][0]                    \n",
            "__________________________________________________________________________________________________\n",
            "embedding_2 (Embedding)         (None, 16, 200)      1795600     input_2[0][0]                    \n",
            "__________________________________________________________________________________________________\n",
            "lstm_1 (LSTM)                   [(None, 15, 150), (N 210600      embedding_1[0][0]                \n",
            "__________________________________________________________________________________________________\n",
            "lstm_2 (LSTM)                   [(None, 16, 150), (N 210600      embedding_2[0][0]                \n",
            "                                                                 lstm_1[0][1]                     \n",
            "                                                                 lstm_1[0][2]                     \n",
            "__________________________________________________________________________________________________\n",
            "time_distributed_1 (TimeDistrib (None, 16, 8978)     1355678     lstm_2[0][0]                     \n",
            "==================================================================================================\n",
            "Total params: 6,584,278\n",
            "Trainable params: 6,584,278\n",
            "Non-trainable params: 0\n",
            "__________________________________________________________________________________________________\n"
          ],
          "name": "stdout"
        }
      ]
    },
    {
      "cell_type": "code",
      "metadata": {
        "id": "irYziB_oAmu-"
      },
      "source": [
        "model.compile(optimizer='adam', loss='sparse_categorical_crossentropy')"
      ],
      "execution_count": null,
      "outputs": []
    },
    {
      "cell_type": "code",
      "metadata": {
        "id": "J3SGcRGxBZO6"
      },
      "source": [
        "es = EarlyStopping(monitor='val_loss', mode='min', verbose=1, patience=3, min_delta=0.0001)\n",
        "mc = ModelCheckpoint('best_model.h5', monitor='val_loss', mode='min', verbose=1, save_best_only=True)"
      ],
      "execution_count": null,
      "outputs": []
    },
    {
      "cell_type": "code",
      "metadata": {
        "id": "-SzgSpYNA1U5"
      },
      "source": [
        "history = model.fit([source_train, target_train[:,:-1]], target_train.reshape(target_train.shape[0], target_train.shape[1], 1)[:, 1:], \n",
        "          epochs=100, batch_size=512, callbacks=[es, mc], validation_data=([source_valid, target_valid[:, :-1]], target_valid.reshape(target_valid.shape[0], target_valid.shape[1], 1)[:,1:]))"
      ],
      "execution_count": null,
      "outputs": []
    },
    {
      "cell_type": "code",
      "metadata": {
        "id": "ImOihjBgBBXZ",
        "colab": {
          "base_uri": "https://localhost:8080/",
          "height": 71
        },
        "outputId": "f296c820-4b1d-4eca-e759-499cfd05bc14"
      },
      "source": [
        "model = load_model('best_model.h5')\n",
        "model.save_weights('best_model_weights.h5')"
      ],
      "execution_count": null,
      "outputs": [
        {
          "output_type": "stream",
          "text": [
            "/usr/local/lib/python3.6/dist-packages/tensorflow/python/framework/indexed_slices.py:434: UserWarning: Converting sparse IndexedSlices to a dense Tensor of unknown shape. This may consume a large amount of memory.\n",
            "  \"Converting sparse IndexedSlices to a dense Tensor of unknown shape. \"\n"
          ],
          "name": "stderr"
        }
      ]
    },
    {
      "cell_type": "code",
      "metadata": {
        "id": "N2E2ItD5FCaN"
      },
      "source": [
        "reverse_source_index = dict((val, key) for key, val in spanish_vocab.items())\n",
        "reverse_target_index = dict((val, key) for key, val in english_vocab.items())"
      ],
      "execution_count": null,
      "outputs": []
    },
    {
      "cell_type": "code",
      "metadata": {
        "id": "4Q2zbXjqGqvj"
      },
      "source": [
        "encoder_model = Model(inputs=enc_input, outputs=[enc_output, enc_h, enc_c])\n",
        "\n",
        "decoder_state_h = Input(shape=(latent_dim, ))\n",
        "decoder_state_c = Input(shape=(latent_dim, ))\n",
        "\n",
        "decoder_input = Input(shape=(None, ))\n",
        "decoder_emb = dec_emb_layer(decoder_input)\n",
        "\n",
        "decoder_output , decoder_h, decoder_c = dec_lstm(decoder_emb, initial_state=[decoder_state_h, decoder_state_c])\n",
        "\n",
        "decoder_output = dec_dense(decoder_output)\n",
        "\n",
        "decoder_model = Model(\n",
        "    [decoder_input] + [decoder_state_h, decoder_state_c],\n",
        "    [decoder_output] + [decoder_h, decoder_c]\n",
        ")"
      ],
      "execution_count": null,
      "outputs": []
    },
    {
      "cell_type": "code",
      "metadata": {
        "id": "gAbe_j8kKAPq"
      },
      "source": [
        "def predict_sentence(input_seq):\n",
        "\n",
        "  e_output, h, c = encoder_model.predict(input_seq)\n",
        "\n",
        "  target_seq = np.zeros((1, 1))\n",
        "  target_seq[0, 0] = english_vocab['<start>']\n",
        "\n",
        "  stop_condition = False\n",
        "  decoded_sentence = ''\n",
        "\n",
        "  while not stop_condition:\n",
        "\n",
        "    d_output, d_h, d_c = decoder_model.predict([target_seq] + [h, c])\n",
        "\n",
        "    sample_token_index = np.argmax(d_output[0, -1, :])\n",
        "    sample_token = reverse_target_index[sample_token_index]\n",
        "\n",
        "    if(sample_token != '<end>'):\n",
        "      decoded_sentence = decoded_sentence + sample_token + \" \"\n",
        "    \n",
        "    if(sample_token == '<end>' or (len(decoded_sentence.split()) >= max_eng_len-1)):\n",
        "      stop_condition = True\n",
        "\n",
        "    target_seq = np.zeros((1, 1))\n",
        "    target_seq[0, 0] = sample_token_index\n",
        "\n",
        "    h, c = d_h, d_c\n",
        "\n",
        "  return decoded_sentence.strip()\n"
      ],
      "execution_count": null,
      "outputs": []
    },
    {
      "cell_type": "code",
      "metadata": {
        "id": "iVvK1GVuNm-V"
      },
      "source": [
        "source = []\n",
        "for i in source_valid[1000:1050]:\n",
        "  s= ''\n",
        "  for j in i:\n",
        "    if( j != 0 ):\n",
        "      s = s + reverse_source_index[j] + ' '\n",
        "  source.append(s)\n",
        "\n",
        "source = np.array(source)\n",
        "\n",
        "target = []\n",
        "for i in target_valid[1000: 1050]:\n",
        "  s=''\n",
        "  for j in i:\n",
        "    if((j != 0) and (j != 2) and (j!= 3)):\n",
        "      s = s + reverse_target_index[j] + ' '\n",
        "  target.append(s)\n",
        "\n",
        "target = np.array(target)"
      ],
      "execution_count": null,
      "outputs": []
    },
    {
      "cell_type": "code",
      "metadata": {
        "id": "goVhKRSEUspz",
        "colab": {
          "base_uri": "https://localhost:8080/",
          "height": 204
        },
        "outputId": "8f6c4ab6-757b-41da-b695-073ad4642945"
      },
      "source": [
        "final = pd.DataFrame({\"source\": source, \"target\":target})\n",
        "\n",
        "predicted = []\n",
        "for i in source_valid[1000:1050]:\n",
        "  predicted.append(predict_sentence(i.reshape(1, max_spa_len)))\n",
        "\n",
        "final[\"predicted\"] = predicted\n",
        "\n",
        "final.head()"
      ],
      "execution_count": null,
      "outputs": [
        {
          "output_type": "execute_result",
          "data": {
            "text/html": [
              "<div>\n",
              "<style scoped>\n",
              "    .dataframe tbody tr th:only-of-type {\n",
              "        vertical-align: middle;\n",
              "    }\n",
              "\n",
              "    .dataframe tbody tr th {\n",
              "        vertical-align: top;\n",
              "    }\n",
              "\n",
              "    .dataframe thead th {\n",
              "        text-align: right;\n",
              "    }\n",
              "</style>\n",
              "<table border=\"1\" class=\"dataframe\">\n",
              "  <thead>\n",
              "    <tr style=\"text-align: right;\">\n",
              "      <th></th>\n",
              "      <th>source</th>\n",
              "      <th>target</th>\n",
              "      <th>predicted</th>\n",
              "    </tr>\n",
              "  </thead>\n",
              "  <tbody>\n",
              "    <tr>\n",
              "      <th>0</th>\n",
              "      <td>es los grima gota corri</td>\n",
              "      <td>please do something about it</td>\n",
              "      <td>please do something about it</td>\n",
              "    </tr>\n",
              "    <tr>\n",
              "      <th>1</th>\n",
              "      <td>perdio pruebalo dispare</td>\n",
              "      <td>are you lost</td>\n",
              "      <td>are you lost</td>\n",
              "    </tr>\n",
              "    <tr>\n",
              "      <th>2</th>\n",
              "      <td>entendiste saludo jugaba hara</td>\n",
              "      <td>tom often breaks promises</td>\n",
              "      <td>tom often breaks promises</td>\n",
              "    </tr>\n",
              "    <tr>\n",
              "      <th>3</th>\n",
              "      <td>ayuda baja lee prueba</td>\n",
              "      <td>i disagree with that</td>\n",
              "      <td>i disagree with that</td>\n",
              "    </tr>\n",
              "    <tr>\n",
              "      <th>4</th>\n",
              "      <td>amable traed dijo se odia salga perdi</td>\n",
              "      <td>the rain kept us from going out</td>\n",
              "      <td>the rain almost made is snowing until</td>\n",
              "    </tr>\n",
              "  </tbody>\n",
              "</table>\n",
              "</div>"
            ],
            "text/plain": [
              "                                   source  ...                              predicted\n",
              "0                es los grima gota corri   ...           please do something about it\n",
              "1                perdio pruebalo dispare   ...                           are you lost\n",
              "2          entendiste saludo jugaba hara   ...              tom often breaks promises\n",
              "3                  ayuda baja lee prueba   ...                   i disagree with that\n",
              "4  amable traed dijo se odia salga perdi   ...  the rain almost made is snowing until\n",
              "\n",
              "[5 rows x 3 columns]"
            ]
          },
          "metadata": {
            "tags": []
          },
          "execution_count": 42
        }
      ]
    },
    {
      "cell_type": "code",
      "metadata": {
        "id": "KlWCSycDYCMg",
        "colab": {
          "base_uri": "https://localhost:8080/",
          "height": 1000
        },
        "outputId": "ca2f8a23-73d5-4686-9a75-45b184583cd1"
      },
      "source": [
        "final"
      ],
      "execution_count": null,
      "outputs": [
        {
          "output_type": "execute_result",
          "data": {
            "text/html": [
              "<div>\n",
              "<style scoped>\n",
              "    .dataframe tbody tr th:only-of-type {\n",
              "        vertical-align: middle;\n",
              "    }\n",
              "\n",
              "    .dataframe tbody tr th {\n",
              "        vertical-align: top;\n",
              "    }\n",
              "\n",
              "    .dataframe thead th {\n",
              "        text-align: right;\n",
              "    }\n",
              "</style>\n",
              "<table border=\"1\" class=\"dataframe\">\n",
              "  <thead>\n",
              "    <tr style=\"text-align: right;\">\n",
              "      <th></th>\n",
              "      <th>source</th>\n",
              "      <th>target</th>\n",
              "      <th>predicted</th>\n",
              "    </tr>\n",
              "  </thead>\n",
              "  <tbody>\n",
              "    <tr>\n",
              "      <th>0</th>\n",
              "      <td>es los grima gota corri</td>\n",
              "      <td>please do something about it</td>\n",
              "      <td>please do something about it</td>\n",
              "    </tr>\n",
              "    <tr>\n",
              "      <th>1</th>\n",
              "      <td>perdio pruebalo dispare</td>\n",
              "      <td>are you lost</td>\n",
              "      <td>are you lost</td>\n",
              "    </tr>\n",
              "    <tr>\n",
              "      <th>2</th>\n",
              "      <td>entendiste saludo jugaba hara</td>\n",
              "      <td>tom often breaks promises</td>\n",
              "      <td>tom often breaks promises</td>\n",
              "    </tr>\n",
              "    <tr>\n",
              "      <th>3</th>\n",
              "      <td>ayuda baja lee prueba</td>\n",
              "      <td>i disagree with that</td>\n",
              "      <td>i disagree with that</td>\n",
              "    </tr>\n",
              "    <tr>\n",
              "      <th>4</th>\n",
              "      <td>amable traed dijo se odia salga perdi</td>\n",
              "      <td>the rain kept us from going out</td>\n",
              "      <td>the rain almost made is snowing until</td>\n",
              "    </tr>\n",
              "    <tr>\n",
              "      <th>5</th>\n",
              "      <td>entendiste tonto problemas platos quedar</td>\n",
              "      <td>tom couldnt understand marys joke</td>\n",
              "      <td>tom couldnt understand marys joke</td>\n",
              "    </tr>\n",
              "    <tr>\n",
              "      <th>6</th>\n",
              "      <td>entendiste leed para ignoraron gane preocupart...</td>\n",
              "      <td>tom has no intention of apologizing to mary</td>\n",
              "      <td>tom has no intention of mary committed anything</td>\n",
              "    </tr>\n",
              "    <tr>\n",
              "      <th>7</th>\n",
              "      <td>levanta prometisteis incendio</td>\n",
              "      <td>im catching on</td>\n",
              "      <td>im catching on</td>\n",
              "    </tr>\n",
              "    <tr>\n",
              "      <th>8</th>\n",
              "      <td>llamenlo los pruebalo cogerlo hablo tome</td>\n",
              "      <td>what do you want to buy</td>\n",
              "      <td>what do you want to buy</td>\n",
              "    </tr>\n",
              "    <tr>\n",
              "      <th>9</th>\n",
              "      <td>entendiste hay sea pensar</td>\n",
              "      <td>tom is a creep</td>\n",
              "      <td>tom is a creep</td>\n",
              "    </tr>\n",
              "    <tr>\n",
              "      <th>10</th>\n",
              "      <td>de salta bueno hablo antiguedades buenos</td>\n",
              "      <td>ill try not to doze off</td>\n",
              "      <td>ill not try to arrive quickly</td>\n",
              "    </tr>\n",
              "    <tr>\n",
              "      <th>11</th>\n",
              "      <td>nade hay digo dia banquero odia escondi</td>\n",
              "      <td>christmas is just two weeks from now</td>\n",
              "      <td>christmas letter is just alive with two</td>\n",
              "    </tr>\n",
              "    <tr>\n",
              "      <th>12</th>\n",
              "      <td>entendiste corras corria cd con llamenlo amo i...</td>\n",
              "      <td>tom said he didnt know what mary wanted him to...</td>\n",
              "      <td>tom said he didnt know what mary wanted to buy...</td>\n",
              "    </tr>\n",
              "    <tr>\n",
              "      <th>13</th>\n",
              "      <td>llamenlo rindo los pruebalo siguenos hay amabl...</td>\n",
              "      <td>what sport do you think is the most dangerous</td>\n",
              "      <td>what sport do you think is the most dangerous</td>\n",
              "    </tr>\n",
              "    <tr>\n",
              "      <th>14</th>\n",
              "      <td>hay besen inmune odiaba</td>\n",
              "      <td>is there another door</td>\n",
              "      <td>is there another door</td>\n",
              "    </tr>\n",
              "    <tr>\n",
              "      <th>15</th>\n",
              "      <td>despiertate graciosisimo sin grites boston com...</td>\n",
              "      <td>she spent more money than usual</td>\n",
              "      <td>she spent more money than usual</td>\n",
              "    </tr>\n",
              "    <tr>\n",
              "      <th>16</th>\n",
              "      <td>amable red choque ten boca salvavidas buscar</td>\n",
              "      <td>the poison spread through his whole body</td>\n",
              "      <td>the went through an percent that sentence</td>\n",
              "    </tr>\n",
              "    <tr>\n",
              "      <th>17</th>\n",
              "      <td>sali renuncie</td>\n",
              "      <td>come home</td>\n",
              "      <td>come home</td>\n",
              "    </tr>\n",
              "    <tr>\n",
              "      <th>18</th>\n",
              "      <td>tengo perdio pruebalo preguntale ayudarte</td>\n",
              "      <td>why are you so exhausted</td>\n",
              "      <td>why are you so exhausted</td>\n",
              "    </tr>\n",
              "    <tr>\n",
              "      <th>19</th>\n",
              "      <td>amable preguntare afectado perdio irresistible...</td>\n",
              "      <td>the people here are accustomed to the cold</td>\n",
              "      <td>the people here is the time may not</td>\n",
              "    </tr>\n",
              "    <tr>\n",
              "      <th>20</th>\n",
              "      <td>levanta bueno amable resbalo arreglo corre ayu...</td>\n",
              "      <td>im not the only one who can do that</td>\n",
              "      <td>im not the only one who can do that</td>\n",
              "    </tr>\n",
              "    <tr>\n",
              "      <th>21</th>\n",
              "      <td>ayuda vaya hablo amable mirare</td>\n",
              "      <td>i go to the park</td>\n",
              "      <td>i go to the park</td>\n",
              "    </tr>\n",
              "    <tr>\n",
              "      <th>22</th>\n",
              "      <td>amable solido hay &lt;unk&gt;</td>\n",
              "      <td>the truth is &lt;unk&gt;</td>\n",
              "      <td>the truth is &lt;unk&gt;</td>\n",
              "    </tr>\n",
              "    <tr>\n",
              "      <th>23</th>\n",
              "      <td>ayuda cogerlo hablo gracias entendiste intento...</td>\n",
              "      <td>i want to see tom in my office</td>\n",
              "      <td>i want to see tom in my office</td>\n",
              "    </tr>\n",
              "    <tr>\n",
              "      <th>24</th>\n",
              "      <td>vamonos enferma metio corri</td>\n",
              "      <td>thats true isnt it</td>\n",
              "      <td>thats true isnt it</td>\n",
              "    </tr>\n",
              "    <tr>\n",
              "      <th>25</th>\n",
              "      <td>ayuda da amaba cayo bueno suelo empieza suelo ...</td>\n",
              "      <td>i cant believe youre not as excited as i am</td>\n",
              "      <td>i cant believe youre not as every day you will...</td>\n",
              "    </tr>\n",
              "    <tr>\n",
              "      <th>26</th>\n",
              "      <td>ayuda hele llamenlo pruebalo una</td>\n",
              "      <td>i saw what you did</td>\n",
              "      <td>i saw what you did</td>\n",
              "    </tr>\n",
              "    <tr>\n",
              "      <th>27</th>\n",
              "      <td>espero tientes camina pague bailo examina</td>\n",
              "      <td>my father likes pizza very much</td>\n",
              "      <td>father my father likes some soft</td>\n",
              "    </tr>\n",
              "    <tr>\n",
              "      <th>28</th>\n",
              "      <td>corria camina deberia</td>\n",
              "      <td>he likes soccer</td>\n",
              "      <td>he likes soccer</td>\n",
              "    </tr>\n",
              "    <tr>\n",
              "      <th>29</th>\n",
              "      <td>ayuda ir desesperado ladran olvidadizo</td>\n",
              "      <td>i like chocolate ice cream</td>\n",
              "      <td>i like chocolate ice cream</td>\n",
              "    </tr>\n",
              "    <tr>\n",
              "      <th>30</th>\n",
              "      <td>despiertate cd ir venid cuenteme</td>\n",
              "      <td>she didnt like her husband</td>\n",
              "      <td>she didnt like her husband</td>\n",
              "    </tr>\n",
              "    <tr>\n",
              "      <th>31</th>\n",
              "      <td>algo ir hablo hondo sea lapicera cogio</td>\n",
              "      <td>id like to rent a compact car</td>\n",
              "      <td>id like to rent a car anywhere</td>\n",
              "    </tr>\n",
              "    <tr>\n",
              "      <th>32</th>\n",
              "      <td>metio prueba tiene</td>\n",
              "      <td>isnt that annoying</td>\n",
              "      <td>isnt that annoying</td>\n",
              "    </tr>\n",
              "    <tr>\n",
              "      <th>33</th>\n",
              "      <td>ayuda siguenos pruebalo boliche ganado amable ...</td>\n",
              "      <td>i think you sent me the wrong document</td>\n",
              "      <td>i think you sent me the wrong radio</td>\n",
              "    </tr>\n",
              "    <tr>\n",
              "      <th>34</th>\n",
              "      <td>ayuda da lloren un hablo amenazo venid ahogando</td>\n",
              "      <td>i cant remember how to spell her name</td>\n",
              "      <td>i cant remember how to spell her name</td>\n",
              "    </tr>\n",
              "    <tr>\n",
              "      <th>35</th>\n",
              "      <td>ayuda cama aburren golpea llamenlo cantando</td>\n",
              "      <td>i was stunned by what happened</td>\n",
              "      <td>i was stunned by what happened</td>\n",
              "    </tr>\n",
              "    <tr>\n",
              "      <th>36</th>\n",
              "      <td>es tranquilo amable serpiente llamalo miradas ...</td>\n",
              "      <td>please wash the lettuce well before you eat it</td>\n",
              "      <td>please wash the table and you eat hes closer</td>\n",
              "    </tr>\n",
              "    <tr>\n",
              "      <th>37</th>\n",
              "      <td>ayuda pacientes ire agradas miente</td>\n",
              "      <td>i havent done anything wrong</td>\n",
              "      <td>i havent done anything wrong</td>\n",
              "    </tr>\n",
              "    <tr>\n",
              "      <th>38</th>\n",
              "      <td>guarde escondia sea detente hablo adulto</td>\n",
              "      <td>youve got a lot to learn</td>\n",
              "      <td>youve got a lot to learn</td>\n",
              "    </tr>\n",
              "    <tr>\n",
              "      <th>39</th>\n",
              "      <td>ayuda ir les iras</td>\n",
              "      <td>i like your friends</td>\n",
              "      <td>i like your friends</td>\n",
              "    </tr>\n",
              "    <tr>\n",
              "      <th>40</th>\n",
              "      <td>entendiste voto idea hablo gracias amo llevate</td>\n",
              "      <td>tom never wanted to see mary again</td>\n",
              "      <td>tom never wanted to see mary again</td>\n",
              "    </tr>\n",
              "    <tr>\n",
              "      <th>41</th>\n",
              "      <td>sueltalo alejate ganado</td>\n",
              "      <td>dont blame me</td>\n",
              "      <td>dont blame me</td>\n",
              "    </tr>\n",
              "    <tr>\n",
              "      <th>42</th>\n",
              "      <td>ayuda preocupamos vendo mudando vale</td>\n",
              "      <td>i speak french every day</td>\n",
              "      <td>i speak french every day</td>\n",
              "    </tr>\n",
              "    <tr>\n",
              "      <th>43</th>\n",
              "      <td>sueltalo corrio tienes</td>\n",
              "      <td>dont be nervous</td>\n",
              "      <td>dont be nervous</td>\n",
              "    </tr>\n",
              "    <tr>\n",
              "      <th>44</th>\n",
              "      <td>corri cama boca estudiar</td>\n",
              "      <td>it was his decision</td>\n",
              "      <td>it was his decision</td>\n",
              "    </tr>\n",
              "    <tr>\n",
              "      <th>45</th>\n",
              "      <td>ayudaremos obeso</td>\n",
              "      <td>someone called</td>\n",
              "      <td>someone called</td>\n",
              "    </tr>\n",
              "    <tr>\n",
              "      <th>46</th>\n",
              "      <td>espero estudiamos autista hay abra malo</td>\n",
              "      <td>my older brother is watching tv</td>\n",
              "      <td>my brother is older watching tv</td>\n",
              "    </tr>\n",
              "    <tr>\n",
              "      <th>47</th>\n",
              "      <td>pruebalo casa siesta voy</td>\n",
              "      <td>you have been busy</td>\n",
              "      <td>you have been busy</td>\n",
              "    </tr>\n",
              "    <tr>\n",
              "      <th>48</th>\n",
              "      <td>perdio pruebalo bastante escondi</td>\n",
              "      <td>are you tired now</td>\n",
              "      <td>are you tired now</td>\n",
              "    </tr>\n",
              "    <tr>\n",
              "      <th>49</th>\n",
              "      <td>levanta sientese ayuda da corred pruebalo esco...</td>\n",
              "      <td>im afraid i cant help you now</td>\n",
              "      <td>im afraid i cant help you now</td>\n",
              "    </tr>\n",
              "  </tbody>\n",
              "</table>\n",
              "</div>"
            ],
            "text/plain": [
              "                                               source  ...                                          predicted\n",
              "0                            es los grima gota corri   ...                       please do something about it\n",
              "1                            perdio pruebalo dispare   ...                                       are you lost\n",
              "2                      entendiste saludo jugaba hara   ...                          tom often breaks promises\n",
              "3                              ayuda baja lee prueba   ...                               i disagree with that\n",
              "4              amable traed dijo se odia salga perdi   ...              the rain almost made is snowing until\n",
              "5           entendiste tonto problemas platos quedar   ...                  tom couldnt understand marys joke\n",
              "6   entendiste leed para ignoraron gane preocupart...  ...    tom has no intention of mary committed anything\n",
              "7                      levanta prometisteis incendio   ...                                     im catching on\n",
              "8           llamenlo los pruebalo cogerlo hablo tome   ...                            what do you want to buy\n",
              "9                          entendiste hay sea pensar   ...                                     tom is a creep\n",
              "10          de salta bueno hablo antiguedades buenos   ...                      ill not try to arrive quickly\n",
              "11           nade hay digo dia banquero odia escondi   ...            christmas letter is just alive with two\n",
              "12  entendiste corras corria cd con llamenlo amo i...  ...  tom said he didnt know what mary wanted to buy...\n",
              "13  llamenlo rindo los pruebalo siguenos hay amabl...  ...      what sport do you think is the most dangerous\n",
              "14                           hay besen inmune odiaba   ...                              is there another door\n",
              "15  despiertate graciosisimo sin grites boston com...  ...                    she spent more money than usual\n",
              "16      amable red choque ten boca salvavidas buscar   ...          the went through an percent that sentence\n",
              "17                                     sali renuncie   ...                                          come home\n",
              "18         tengo perdio pruebalo preguntale ayudarte   ...                           why are you so exhausted\n",
              "19  amable preguntare afectado perdio irresistible...  ...                the people here is the time may not\n",
              "20  levanta bueno amable resbalo arreglo corre ayu...  ...                im not the only one who can do that\n",
              "21                    ayuda vaya hablo amable mirare   ...                                   i go to the park\n",
              "22                           amable solido hay <unk>   ...                                 the truth is <unk>\n",
              "23  ayuda cogerlo hablo gracias entendiste intento...  ...                     i want to see tom in my office\n",
              "24                       vamonos enferma metio corri   ...                                 thats true isnt it\n",
              "25  ayuda da amaba cayo bueno suelo empieza suelo ...  ...  i cant believe youre not as every day you will...\n",
              "26                  ayuda hele llamenlo pruebalo una   ...                                 i saw what you did\n",
              "27         espero tientes camina pague bailo examina   ...                   father my father likes some soft\n",
              "28                             corria camina deberia   ...                                    he likes soccer\n",
              "29            ayuda ir desesperado ladran olvidadizo   ...                         i like chocolate ice cream\n",
              "30                  despiertate cd ir venid cuenteme   ...                         she didnt like her husband\n",
              "31            algo ir hablo hondo sea lapicera cogio   ...                     id like to rent a car anywhere\n",
              "32                                metio prueba tiene   ...                                 isnt that annoying\n",
              "33  ayuda siguenos pruebalo boliche ganado amable ...  ...                i think you sent me the wrong radio\n",
              "34   ayuda da lloren un hablo amenazo venid ahogando   ...              i cant remember how to spell her name\n",
              "35       ayuda cama aburren golpea llamenlo cantando   ...                     i was stunned by what happened\n",
              "36  es tranquilo amable serpiente llamalo miradas ...  ...       please wash the table and you eat hes closer\n",
              "37                ayuda pacientes ire agradas miente   ...                       i havent done anything wrong\n",
              "38          guarde escondia sea detente hablo adulto   ...                           youve got a lot to learn\n",
              "39                                 ayuda ir les iras   ...                                i like your friends\n",
              "40    entendiste voto idea hablo gracias amo llevate   ...                 tom never wanted to see mary again\n",
              "41                           sueltalo alejate ganado   ...                                      dont blame me\n",
              "42              ayuda preocupamos vendo mudando vale   ...                           i speak french every day\n",
              "43                            sueltalo corrio tienes   ...                                    dont be nervous\n",
              "44                          corri cama boca estudiar   ...                                it was his decision\n",
              "45                                  ayudaremos obeso   ...                                     someone called\n",
              "46           espero estudiamos autista hay abra malo   ...                    my brother is older watching tv\n",
              "47                          pruebalo casa siesta voy   ...                                 you have been busy\n",
              "48                  perdio pruebalo bastante escondi   ...                                  are you tired now\n",
              "49  levanta sientese ayuda da corred pruebalo esco...  ...                      im afraid i cant help you now\n",
              "\n",
              "[50 rows x 3 columns]"
            ]
          },
          "metadata": {
            "tags": []
          },
          "execution_count": 43
        }
      ]
    }
  ]
}