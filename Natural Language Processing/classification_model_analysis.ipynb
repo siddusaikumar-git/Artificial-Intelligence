{
  "nbformat": 4,
  "nbformat_minor": 0,
  "metadata": {
    "colab": {
      "provenance": []
    },
    "kernelspec": {
      "name": "python3",
      "display_name": "Python 3"
    }
  },
  "cells": [
    {
      "cell_type": "code",
      "metadata": {
        "id": "MAkxXErd9NqX",
        "outputId": "790d5bc1-3dd1-45f6-9f53-35031d0c041d",
        "colab": {
          "base_uri": "https://localhost:8080/",
          "height": 870
        }
      },
      "source": [
        "'''\n",
        "Data Info : Sentiment analysis on twitter data, input is string and output is (positive/negative/neutral), \n",
        "\n",
        "Models Used: Keras Tokenizer, LSTM, sklearn LabelEncoder\n",
        "\n",
        "Accuracy : 64%\n",
        "'''\n",
        "\n",
        "import pandas as pd\n",
        "import numpy as np\n",
        "import nltk\n",
        "import re\n",
        "nltk.download('stopwords')\n",
        "nltk.download('wordnet')\n",
        "nltk.download('punkt')\n",
        "from sklearn.preprocessing import LabelEncoder\n",
        "from sklearn.model_selection import train_test_split\n",
        "\n",
        "from keras.layers import LSTM, Dense, Dropout, Embedding\n",
        "from keras.models import Sequential, Model\n",
        "from keras.preprocessing.text import Tokenizer\n",
        "\n",
        "from keras.preprocessing.sequence import pad_sequences\n",
        "from keras.utils import to_categorical\n",
        "from keras.callbacks import EarlyStopping, ModelCheckpoint\n",
        "\n",
        "df = pd.read_csv('/content/drive/My Drive/ML_Data/Sentiment.csv')\n",
        "df.drop(['id', 'relevant_yn', 'relevant_yn_confidence', 'candidate', 'candidate_confidence', 'sentiment_confidence', 'subject_matter', 'subject_matter_confidence', 'candidate_gold', 'name','relevant_yn_gold','retweet_count', 'sentiment_gold',\t'subject_matter_gold', 'tweet_coord', 'tweet_created', 'tweet_id',\t'tweet_location',\t'user_timezone'], axis=1, inplace=True)\n",
        "\n",
        "\n",
        "import re\n",
        "def clean_text(sentence):\n",
        "  sentence = sentence.split()\n",
        "  lst = [\"RT\", \"@\", \"#\"]\n",
        "  sentence = [val for val in sentence if lst[0] not in val]\n",
        "  sentence = [val for val in sentence if lst[1] not in val]\n",
        "  sentence = [val for val in sentence if lst[2] not in val]\n",
        "  sentence = \" \".join(sentence)\n",
        "  return sentence\n",
        "df['text'] = df['text'].apply(lambda x: clean_text(x))\n",
        "df.head()\n",
        "\n",
        "x = df.text\n",
        "y = df.sentiment\n",
        "\n",
        "y = y.apply(lambda x: x.lower())\n",
        "\n",
        "label = LabelEncoder()\n",
        "y = label.fit_transform(y)\n",
        "\n",
        "token = Tokenizer()\n",
        "token.fit_on_texts(x)\n",
        "total_words = len(token.word_index) + 1\n",
        "\n",
        "x = token.texts_to_sequences(x)\n",
        "\n",
        "count = 0\n",
        "for i in x:\n",
        "  if len(i) > count:\n",
        "    count = len(i)\n",
        "\n",
        "x = pad_sequences(x, maxlen=count, padding='pre')\n",
        "\n",
        "x_train, x_test, y_train, y_test = train_test_split(x, y, test_size=0.2)\n",
        "y_train = to_categorical(y_train)\n",
        "\n",
        "model = Sequential()\n",
        "model.add(Embedding(input_dim=total_words, output_dim=100, input_length=count))\n",
        "model.add(LSTM(120))\n",
        "model.add(Dense(3, activation='softmax'))\n",
        "model.compile(optimizer='adam', loss='categorical_crossentropy', metrics=['accuracy'])\n",
        "model.summary()\n",
        "\n",
        "callbacks = [EarlyStopping(patience=5), ModelCheckpoint(filepath='/content/drive/My Drive/ML_Data/hello.h5',save_best_only=True)]\n",
        "model.fit(x_train, y_train, validation_split=0.2, epochs=10, callbacks=callbacks)\n",
        "\n",
        "y_pred = model.predict_classes(x_test)\n",
        "\n",
        "\n",
        "from sklearn.metrics import accuracy_score, f1_score, classification_report\n",
        "\n",
        "print(accuracy_score(y_pred, y_test))\n",
        "print(classification_report(y_pred, y_test))\n",
        "print(f1_score(y_test, y_pred, average='micro'))"
      ],
      "execution_count": null,
      "outputs": [
        {
          "output_type": "stream",
          "text": [
            "[nltk_data] Downloading package stopwords to /root/nltk_data...\n",
            "[nltk_data]   Package stopwords is already up-to-date!\n",
            "[nltk_data] Downloading package wordnet to /root/nltk_data...\n",
            "[nltk_data]   Package wordnet is already up-to-date!\n",
            "[nltk_data] Downloading package punkt to /root/nltk_data...\n",
            "[nltk_data]   Unzipping tokenizers/punkt.zip.\n",
            "Model: \"sequential_1\"\n",
            "_________________________________________________________________\n",
            "Layer (type)                 Output Shape              Param #   \n",
            "=================================================================\n",
            "embedding_1 (Embedding)      (None, 29, 100)           1420800   \n",
            "_________________________________________________________________\n",
            "lstm_1 (LSTM)                (None, 120)               106080    \n",
            "_________________________________________________________________\n",
            "dense_1 (Dense)              (None, 3)                 363       \n",
            "=================================================================\n",
            "Total params: 1,527,243\n",
            "Trainable params: 1,527,243\n",
            "Non-trainable params: 0\n",
            "_________________________________________________________________\n"
          ],
          "name": "stdout"
        },
        {
          "output_type": "stream",
          "text": [
            "/usr/local/lib/python3.6/dist-packages/tensorflow/python/framework/indexed_slices.py:434: UserWarning: Converting sparse IndexedSlices to a dense Tensor of unknown shape. This may consume a large amount of memory.\n",
            "  \"Converting sparse IndexedSlices to a dense Tensor of unknown shape. \"\n"
          ],
          "name": "stderr"
        },
        {
          "output_type": "stream",
          "text": [
            "Train on 8876 samples, validate on 2220 samples\n",
            "Epoch 1/10\n",
            "8876/8876 [==============================] - 17s 2ms/step - loss: 0.8378 - accuracy: 0.6416 - val_loss: 0.7555 - val_accuracy: 0.6635\n",
            "Epoch 2/10\n",
            "8876/8876 [==============================] - 16s 2ms/step - loss: 0.6267 - accuracy: 0.7402 - val_loss: 0.7311 - val_accuracy: 0.6919\n",
            "Epoch 3/10\n",
            "8876/8876 [==============================] - 16s 2ms/step - loss: 0.4277 - accuracy: 0.8373 - val_loss: 0.7991 - val_accuracy: 0.6721\n",
            "Epoch 4/10\n",
            "8876/8876 [==============================] - 16s 2ms/step - loss: 0.3027 - accuracy: 0.8869 - val_loss: 0.9002 - val_accuracy: 0.6662\n",
            "Epoch 5/10\n",
            "8876/8876 [==============================] - 16s 2ms/step - loss: 0.2457 - accuracy: 0.9066 - val_loss: 0.9677 - val_accuracy: 0.6622\n",
            "Epoch 6/10\n",
            "8876/8876 [==============================] - 16s 2ms/step - loss: 0.2161 - accuracy: 0.9140 - val_loss: 1.0546 - val_accuracy: 0.6694\n",
            "Epoch 7/10\n",
            "8876/8876 [==============================] - 16s 2ms/step - loss: 0.1971 - accuracy: 0.9198 - val_loss: 1.0232 - val_accuracy: 0.6635\n",
            "0.6598198198198199\n",
            "              precision    recall  f1-score   support\n",
            "\n",
            "           0       0.77      0.77      0.77      1719\n",
            "           1       0.45      0.43      0.44       622\n",
            "           2       0.51      0.56      0.53       434\n",
            "\n",
            "    accuracy                           0.66      2775\n",
            "   macro avg       0.58      0.59      0.58      2775\n",
            "weighted avg       0.66      0.66      0.66      2775\n",
            "\n",
            "0.6598198198198199\n"
          ],
          "name": "stdout"
        }
      ]
    },
    {
      "cell_type": "code",
      "metadata": {
        "id": "BW4jBzcQGyl2",
        "outputId": "3e5deb62-3411-4150-e3e5-1e27de389ab5",
        "colab": {
          "base_uri": "https://localhost:8080/",
          "height": 289
        }
      },
      "source": [
        "'''\n",
        "Data Info : Sentiment analysis on twitter data, input is string and output is (positive/negative/neutral), \n",
        "\n",
        "Models Used: Lemmatizer, sklearn LabelEncoder(output), keras Tokenizer, MultinomialNB\n",
        "\n",
        "Accuracy : 52%\n",
        "'''\n",
        "\n",
        "\n",
        "lemma = WordNetLemmatizer()\n",
        "\n",
        "def clean_text(sentence):\n",
        "  sentence = sentence.split()\n",
        "  lst = [\"RT\", \"@\", \"#\"]\n",
        "  sentence = [val for val in sentence if lst[0] not in val]\n",
        "  sentence = [val for val in sentence if lst[1] not in val]\n",
        "  sentence = [val for val in sentence if lst[2] not in val]\n",
        "  sentence = [lemma.lemmatize(x) for x in sentence if x not in stopwords.words('english')]\n",
        "  sentence = \" \".join(sentence)\n",
        "  return sentence\n",
        "\n",
        "df['text'] = df['text'].apply(lambda x: clean_text(x))\n",
        "df.head()\n",
        "\n",
        "x = df.text\n",
        "y = df.sentiment\n",
        "\n",
        "y = y.apply(lambda x: x.lower())\n",
        "\n",
        "label = LabelEncoder()\n",
        "y = label.fit_transform(y)\n",
        "\n",
        "token = Tokenizer()\n",
        "token.fit_on_texts(x)\n",
        "total_words = len(token.word_index) + 1\n",
        "\n",
        "x = token.texts_to_sequences(x)\n",
        "\n",
        "count = 0\n",
        "for i in x:\n",
        "  if len(i) > count:\n",
        "    count = len(i)\n",
        "\n",
        "x = pad_sequences(x, maxlen=count, padding='pre')\n",
        "\n",
        "x_train, x_test, y_train, y_test = train_test_split(x, y, test_size=0.2)\n",
        "\n",
        "naive = MultinomialNB()\n",
        "\n",
        "naive.fit(x_train, y_train)\n",
        "\n",
        "y_pred = naive.predict(x_test)\n",
        "\n",
        "from sklearn.metrics import accuracy_score, f1_score, classification_report\n",
        "\n",
        "print(accuracy_score(y_pred, y_test))\n",
        "print(classification_report(y_pred, y_test))\n",
        "print(f1_score(y_test, y_pred, average='micro'))"
      ],
      "execution_count": null,
      "outputs": [
        {
          "output_type": "stream",
          "text": [
            "[nltk_data] Downloading package stopwords to /root/nltk_data...\n",
            "[nltk_data]   Package stopwords is already up-to-date!\n",
            "[nltk_data] Downloading package wordnet to /root/nltk_data...\n",
            "[nltk_data]   Unzipping corpora/wordnet.zip.\n",
            "0.5232432432432432\n",
            "              precision    recall  f1-score   support\n",
            "\n",
            "           0       0.67      0.66      0.66      1724\n",
            "           1       0.44      0.33      0.38       834\n",
            "           2       0.08      0.17      0.11       217\n",
            "\n",
            "    accuracy                           0.52      2775\n",
            "   macro avg       0.40      0.39      0.39      2775\n",
            "weighted avg       0.55      0.52      0.53      2775\n",
            "\n",
            "0.5232432432432432\n"
          ],
          "name": "stdout"
        }
      ]
    },
    {
      "cell_type": "code",
      "metadata": {
        "id": "Sm66i5iSKstR",
        "outputId": "cf2b6e39-f674-4a1d-8d3c-08b688f33747",
        "colab": {
          "base_uri": "https://localhost:8080/",
          "height": 289
        }
      },
      "source": [
        "'''\n",
        "Data Info : Sentiment analysis on twitter data, input is string and output is (positive/negative/neutral), \n",
        "\n",
        "Models Used: Lemmatizer, sklearn LabelEncoder, TfidfVectorizer, MultinomialNB, stopwords removed\n",
        "              no punctuation removed.\n",
        "\n",
        "Accuracy : 63.85%\n",
        "'''\n",
        "\n",
        "lemma = WordNetLemmatizer()\n",
        "\n",
        "def clean_text(sentence):\n",
        "  sentence = sentence.split()\n",
        "  lst = [\"RT\", \"@\", \"#\"]\n",
        "  sentence = [val for val in sentence if lst[0] not in val]\n",
        "  sentence = [val for val in sentence if lst[1] not in val]\n",
        "  sentence = [val for val in sentence if lst[2] not in val]\n",
        "  sentence = [lemma.lemmatize(x) for x in sentence if x not in stopwords.words('english')]\n",
        "  sentence = \" \".join(sentence)\n",
        "  return sentence\n",
        "\n",
        "df['text'] = df['text'].apply(lambda x: clean_text(x))\n",
        "df.head()\n",
        "\n",
        "x = df.text\n",
        "y = df.sentiment\n",
        "\n",
        "y = y.apply(lambda x: x.lower())\n",
        "\n",
        "label = LabelEncoder()\n",
        "y = label.fit_transform(y)\n",
        "\n",
        "token = Tokenizer()\n",
        "token.fit_on_texts(x)\n",
        "total_words = len(token.word_index) + 1\n",
        "\n",
        "word_tfidf = TfidfVectorizer(max_features = 14000)\n",
        "x = word_tfidf.fit_transform(x)\n",
        "\n",
        "x_train, x_test, y_train, y_test = train_test_split(x, y, test_size=0.2)\n",
        "\n",
        "naive = MultinomialNB()\n",
        "\n",
        "naive.fit(x_train, y_train)\n",
        "\n",
        "y_pred = naive.predict(x_test)\n",
        "\n",
        "from sklearn.metrics import accuracy_score, f1_score, classification_report\n",
        "\n",
        "print(accuracy_score(y_pred, y_test))\n",
        "print(classification_report(y_pred, y_test))\n",
        "print(f1_score(y_test, y_pred, average='micro'))"
      ],
      "execution_count": null,
      "outputs": [
        {
          "output_type": "stream",
          "text": [
            "[nltk_data] Downloading package stopwords to /root/nltk_data...\n",
            "[nltk_data]   Package stopwords is already up-to-date!\n",
            "[nltk_data] Downloading package wordnet to /root/nltk_data...\n",
            "[nltk_data]   Package wordnet is already up-to-date!\n",
            "0.6385585585585586\n",
            "              precision    recall  f1-score   support\n",
            "\n",
            "           0       0.98      0.63      0.77      2590\n",
            "           1       0.10      0.70      0.18        97\n",
            "           2       0.15      0.74      0.25        88\n",
            "\n",
            "    accuracy                           0.64      2775\n",
            "   macro avg       0.41      0.69      0.40      2775\n",
            "weighted avg       0.92      0.64      0.73      2775\n",
            "\n",
            "0.6385585585585586\n"
          ],
          "name": "stdout"
        }
      ]
    },
    {
      "cell_type": "code",
      "metadata": {
        "id": "1_5qSbMUSJHL",
        "outputId": "ee9ed68b-7af0-4ac8-8999-cdcebb1a9f2e",
        "colab": {
          "base_uri": "https://localhost:8080/",
          "height": 221
        }
      },
      "source": [
        "'''\n",
        "Data Info : Sentiment analysis on twitter data, input is string and output is (positive/negative/neutral), \n",
        "\n",
        "Models Used: sklearn LabelEncoder, TfidfVectorizer, MultinomialNB, punctuation removed, no stopwords removed, \n",
        "             no lemmatier\n",
        "Accuracy : 63.71%\n",
        "'''\n",
        "\n",
        "\n",
        "def clean_text(sentence):\n",
        "  val = str.maketrans('', '', string.punctuation)\n",
        "  sentence = [w.translate(val) for w in sentence]\n",
        "  \"\".join(sentence)\n",
        "  return sentence\n",
        "\n",
        "\n",
        "df['text'].apply(lambda x : clean_text(x))\n",
        "\n",
        "x = df['text']\n",
        "y = df['sentiment']\n",
        "\n",
        "word_tfidf = TfidfVectorizer()\n",
        "\n",
        "x = word_tfidf.fit_transform(x)\n",
        "\n",
        "label = LabelEncoder()\n",
        "y = label.fit_transform(y)\n",
        "\n",
        "x_train, x_test, y_train, y_test = train_test_split(x, y, test_size=0.2)\n",
        "\n",
        "from sklearn.naive_bayes import MultinomialNB\n",
        "\n",
        "mnb = MultinomialNB()\n",
        "\n",
        "\n",
        "mnb.fit(x_train, y_train)\n",
        "\n",
        "y_pred = mnb.predict(x_test)\n",
        "\n",
        "from sklearn.metrics import f1_score, classification_report, accuracy_score\n",
        "\n",
        "print(accuracy_score(y_pred, y_test))\n",
        "print(f1_score(y_pred, y_test, average='micro'))\n",
        "print(classification_report(y_pred, y_test))"
      ],
      "execution_count": null,
      "outputs": [
        {
          "output_type": "stream",
          "text": [
            "0.6371171171171172\n",
            "0.6371171171171172\n",
            "              precision    recall  f1-score   support\n",
            "\n",
            "           0       0.99      0.63      0.77      2644\n",
            "           1       0.08      0.62      0.14        82\n",
            "           2       0.09      0.82      0.16        49\n",
            "\n",
            "    accuracy                           0.64      2775\n",
            "   macro avg       0.39      0.69      0.36      2775\n",
            "weighted avg       0.94      0.64      0.74      2775\n",
            "\n"
          ],
          "name": "stdout"
        }
      ]
    },
    {
      "cell_type": "code",
      "metadata": {
        "id": "mk6HHYlfZA6N",
        "outputId": "65b4dc7a-02f6-44b5-c76a-bcb3d89852f5",
        "colab": {
          "base_uri": "https://localhost:8080/",
          "height": 255
        }
      },
      "source": [
        "'''\n",
        "Data Info : Sentiment analysis on twitter data, input is string and output is (positive/negative/neutral), \n",
        "\n",
        "Models Used: sklearn LabelEncoder, TfidfVectorizer, MultinomialNB, punctuation removed, Lemmatizer, no stopwords removed\n",
        "\n",
        "Accuracy : 64.68%\n",
        "'''\n",
        "\n",
        "\n",
        "lemma = WordNetLemmatizer()\n",
        "\n",
        "def clean_text(sentence):\n",
        "  val = str.maketrans('', '', string.punctuation)\n",
        "  sentence = [w.translate(val) for w in sentence]\n",
        "  \"\".join(sentence)\n",
        "  sentence = [lemma.lemmatize(w) for w in sentence]\n",
        "  \" \".join(sentence)\n",
        "  return sentence\n",
        "\n",
        "\n",
        "df['text'].apply(lambda x : clean_text(x))\n",
        "\n",
        "x = df['text']\n",
        "y = df['sentiment']\n",
        "\n",
        "word_tfidf = TfidfVectorizer()\n",
        "\n",
        "x = word_tfidf.fit_transform(x)\n",
        "\n",
        "label = LabelEncoder()\n",
        "y = label.fit_transform(y)\n",
        "\n",
        "x_train, x_test, y_train, y_test = train_test_split(x, y, test_size=0.2)\n",
        "\n",
        "from sklearn.naive_bayes import MultinomialNB\n",
        "\n",
        "mnb = MultinomialNB()\n",
        "\n",
        "\n",
        "mnb.fit(x_train, y_train)\n",
        "\n",
        "y_pred = mnb.predict(x_test)\n",
        "\n",
        "from sklearn.metrics import f1_score, classification_report, accuracy_score\n",
        "\n",
        "print(accuracy_score(y_pred, y_test))\n",
        "print(f1_score(y_pred, y_test, average='micro'))\n",
        "print(classification_report(y_pred, y_test))\n"
      ],
      "execution_count": null,
      "outputs": [
        {
          "output_type": "stream",
          "text": [
            "[nltk_data] Downloading package wordnet to /root/nltk_data...\n",
            "[nltk_data]   Unzipping corpora/wordnet.zip.\n",
            "0.6468468468468469\n",
            "0.6468468468468469\n",
            "              precision    recall  f1-score   support\n",
            "\n",
            "           0       0.99      0.64      0.78      2647\n",
            "           1       0.09      0.76      0.16        74\n",
            "           2       0.11      0.93      0.20        54\n",
            "\n",
            "    accuracy                           0.65      2775\n",
            "   macro avg       0.40      0.77      0.38      2775\n",
            "weighted avg       0.95      0.65      0.75      2775\n",
            "\n"
          ],
          "name": "stdout"
        }
      ]
    },
    {
      "cell_type": "code",
      "metadata": {
        "id": "qpWaKKAPuwHT",
        "outputId": "49c9ee92-ee9d-42ce-e92f-6e7071c805b1",
        "colab": {
          "base_uri": "https://localhost:8080/",
          "height": 306
        }
      },
      "source": [
        "'''\n",
        "Data Info : Sentiment analysis on twitter data, input is string and output is (positive/negative/neutral), \n",
        "\n",
        "Models Used: sklearn LabelEncoder, TfidfVectorizer, MultinomialNB, punctuation removed, Lemmatizer, stopwords removed\n",
        "\n",
        "Accuracy : 64.82%\n",
        "'''\n",
        "\n",
        "import pandas as pd\n",
        "import numpy as np\n",
        "import nltk\n",
        "nltk.download('wordnet')\n",
        "nltk.download('stopwords')\n",
        "import re\n",
        "import string\n",
        "\n",
        "from sklearn.model_selection import train_test_split\n",
        "from sklearn.preprocessing import LabelEncoder\n",
        "from sklearn.feature_extraction.text import TfidfVectorizer\n",
        "\n",
        "from keras.preprocessing.text import Tokenizer\n",
        "from keras.preprocessing.sequence import pad_sequences\n",
        "from keras.utils import to_categorical\n",
        "\n",
        "from nltk.stem.wordnet import WordNetLemmatizer\n",
        "from nltk.corpus import stopwords\n",
        "\n",
        "df = pd.read_csv('/content/drive/My Drive/ML_Data/Sentiment.csv')\n",
        "df.drop(['id', 'relevant_yn', 'relevant_yn_confidence', 'candidate', 'candidate_confidence', 'sentiment_confidence', 'subject_matter', 'subject_matter_confidence', 'candidate_gold', 'name','relevant_yn_gold','retweet_count', 'sentiment_gold',\t'subject_matter_gold', 'tweet_coord', 'tweet_created', 'tweet_id',\t'tweet_location',\t'user_timezone'], axis=1, inplace=True)\n",
        "\n",
        "df.head()\n",
        "\n",
        "lemma = WordNetLemmatizer()\n",
        "\n",
        "def clean_text(sentence):\n",
        "  val = str.maketrans('', '', string.punctuation)\n",
        "  sentence = [w.translate(val) for w in sentence]\n",
        "  sentence = \"\".join(sentence)\n",
        "  sentence = [lemma.lemmatize(w) for w in sentence.split(\" \") if w not in stopwords.words('english')]\n",
        "  \" \".join(sentence)\n",
        "  return sentence\n",
        "\n",
        "df['text'].apply(lambda x : clean_text(x))\n",
        "\n",
        "x = df['text']\n",
        "y = df['sentiment']\n",
        "\n",
        "word_tfidf = TfidfVectorizer()\n",
        "\n",
        "x = word_tfidf.fit_transform(x)\n",
        "\n",
        "label = LabelEncoder()\n",
        "y = label.fit_transform(y)\n",
        "\n",
        "x_train, x_test, y_train, y_test = train_test_split(x, y, test_size=0.2)\n",
        "\n",
        "from sklearn.naive_bayes import MultinomialNB\n",
        "\n",
        "mnb = MultinomialNB()\n",
        "\n",
        "mnb.fit(x_train, y_train)\n",
        "\n",
        "y_pred = mnb.predict(x_test)\n",
        "\n",
        "from sklearn.metrics import f1_score, classification_report, accuracy_score\n",
        "\n",
        "print(accuracy_score(y_pred, y_test))\n",
        "print(f1_score(y_pred, y_test, average='micro'))\n",
        "print(classification_report(y_pred, y_test))\n"
      ],
      "execution_count": null,
      "outputs": [
        {
          "output_type": "stream",
          "text": [
            "[nltk_data] Downloading package wordnet to /root/nltk_data...\n",
            "[nltk_data]   Unzipping corpora/wordnet.zip.\n",
            "[nltk_data] Downloading package stopwords to /root/nltk_data...\n",
            "[nltk_data]   Unzipping corpora/stopwords.zip.\n"
          ],
          "name": "stdout"
        },
        {
          "output_type": "stream",
          "text": [
            "Using TensorFlow backend.\n"
          ],
          "name": "stderr"
        },
        {
          "output_type": "stream",
          "text": [
            "0.6493693693693694\n",
            "0.6493693693693694\n",
            "              precision    recall  f1-score   support\n",
            "\n",
            "           0       0.99      0.64      0.78      2647\n",
            "           1       0.10      0.78      0.17        74\n",
            "           2       0.10      0.85      0.18        54\n",
            "\n",
            "    accuracy                           0.65      2775\n",
            "   macro avg       0.40      0.76      0.38      2775\n",
            "weighted avg       0.95      0.65      0.75      2775\n",
            "\n"
          ],
          "name": "stdout"
        }
      ]
    },
    {
      "cell_type": "code",
      "metadata": {
        "id": "JfCoiCJHr7Et",
        "colab": {
          "base_uri": "https://localhost:8080/",
          "height": 34
        },
        "outputId": "2efcdbf3-8fae-4715-ed7b-bf8325aead9d"
      },
      "source": [
        "import pandas as pd\n",
        "import numpy as np\n",
        "import warnings\n",
        "warnings.filterwarnings(\"ignore\")\n",
        "\n",
        "from sklearn import model_selection, naive_bayes, svm, metrics, preprocessing, linear_model\n",
        "from sklearn.feature_extraction.text import TfidfVectorizer, CountVectorizer\n",
        "from sklearn.model_selection import train_test_split\n",
        "from sklearn import decomposition, ensemble\n",
        "\n",
        "from keras.preprocessing.sequence import pad_sequences\n",
        "\n",
        "\n",
        "df = pd.read_csv('/content/drive/My Drive/ML_Data/Sentiment.csv')\n",
        "df.drop(['id', 'relevant_yn', 'relevant_yn_confidence', 'candidate', 'candidate_confidence', 'sentiment_confidence', 'subject_matter', 'subject_matter_confidence', 'candidate_gold', 'name','relevant_yn_gold','retweet_count', 'sentiment_gold',\t'subject_matter_gold', 'tweet_coord', 'tweet_created', 'tweet_id',\t'tweet_location',\t'user_timezone'], axis=1, inplace=True)\n",
        "\n",
        "\n",
        "\n",
        "def clean_data(sentence):\n",
        "  sentence = [w for w in sentence.split(\" \") if \"RT\" not in w]\n",
        "  sentence = [w for w in sentence if \":\" not in w]\n",
        "  sentence = [w for w in sentence if \"#\" not in w]\n",
        "  sentence = [w for w in sentence if \"@\" not in w]\n",
        "  sentence = \" \".join(sentence)\n",
        "  return sentence\n",
        "\n",
        "df[\"text\"] = df[\"text\"].apply(lambda x: clean_data(x))\n",
        "\n",
        "x = df.text\n",
        "y = df.sentiment\n",
        "\n",
        "label = preprocessing.LabelEncoder()\n",
        "\n",
        "y = label.fit_transform(y)\n"
      ],
      "execution_count": null,
      "outputs": [
        {
          "output_type": "stream",
          "text": [
            "Using TensorFlow backend.\n"
          ],
          "name": "stderr"
        }
      ]
    },
    {
      "cell_type": "code",
      "metadata": {
        "id": "EcaEBZqag4H_"
      },
      "source": [
        "# Encoding the input text\n",
        "\n",
        "count_label = CountVectorizer(analyzer='word', token_pattern=r'\\w{1,}')\n",
        "\n",
        "x_count = count_label.fit_transform(x)\n",
        "\n",
        "\n",
        "tfidf_word_label = TfidfVectorizer(analyzer='word', token_pattern=r'\\w{1,}', max_features=5000)\n",
        "\n",
        "x_tfidf_word = tfidf_word_label.fit_transform(x)\n",
        "\n",
        "\n",
        "tfidf_ngram_word_label = TfidfVectorizer(analyzer='word', ngram_range=(2, 3), token_pattern=r'\\w{1,}', max_features=5000)\n",
        "\n",
        "x_ngram_tfidf_word = tfidf_ngram_word_label.fit_transform(x)\n",
        "\n",
        "\n",
        "tfidf_char_label = TfidfVectorizer(analyzer='char', token_pattern=r'\\w{1,}', max_features=5000)\n",
        "\n",
        "x_tfidf_char = tfidf_char_label.fit_transform(x)\n",
        "\n",
        "\n",
        "tfidf_ngram_char_label = TfidfVectorizer(analyzer='char', ngram_range=(2, 3), token_pattern=r'\\w{1,}', max_features=5000)\n",
        "\n",
        "x_ngram_tfidf_char = tfidf_ngram_char_label.fit_transform(x)\n"
      ],
      "execution_count": null,
      "outputs": []
    },
    {
      "cell_type": "code",
      "metadata": {
        "id": "76NWbWVCt09a"
      },
      "source": [
        "x_train_count, x_test_count, y_train, y_test = train_test_split(x_count, y, test_size=0.2, random_state=42)\n",
        "x_train_tfidf_word, x_test_tfidf_word, y_train, y_test = train_test_split(x_tfidf_word, y, test_size=0.2, random_state=42)\n",
        "x_train_ngram_tfidf_word, x_test_ngram_tfidf_word, y_train, y_test = train_test_split(x_ngram_tfidf_word, y, test_size=0.2, random_state=42)\n",
        "x_train_tfidf_char,  x_test_tfidf_char, y_train, y_test = train_test_split(x_tfidf_char, y, test_size=0.2, random_state=42)\n",
        "x_train_ngram_tfidf_char,  x_test_ngram_tfidf_char, y_train, y_test = train_test_split(x_ngram_tfidf_char, y, test_size=0.2, random_state=42)"
      ],
      "execution_count": null,
      "outputs": []
    },
    {
      "cell_type": "code",
      "metadata": {
        "id": "olNqgFSPn2Cr"
      },
      "source": [
        "def model_training(model, x_train, y_train, x_test, y_test):\n",
        "\n",
        "  model.fit(x_train, y_train)\n",
        "  y_pred = model.predict(x_test)\n",
        "  accuracy = metrics.accuracy_score(y_pred, y_test)\n",
        "\n",
        "  return accuracy"
      ],
      "execution_count": null,
      "outputs": []
    },
    {
      "cell_type": "code",
      "metadata": {
        "id": "KpnH9G66eMUn",
        "outputId": "1574ffa6-0100-4a7f-a167-3767fcd4ae0e",
        "colab": {
          "base_uri": "https://localhost:8080/",
          "height": 102
        }
      },
      "source": [
        "accuracyAnalysis = {}\n",
        "accuracy = model_training(naive_bayes.MultinomialNB(), x_train_count, y_train, x_test_count, y_test)\n",
        "print(\"NB countVectorizer: \", accuracy)\n",
        "accuracyAnalysis[\"NB countVectorizer\"] = accuracy\n",
        "\n",
        "accuracy = model_training(naive_bayes.MultinomialNB(), x_train_tfidf_word, y_train, x_test_tfidf_word, y_test)\n",
        "print(\"NB Tfidf word: \", accuracy)\n",
        "accuracyAnalysis[\"NB Tfidf word\"] = accuracy\n",
        "\n",
        "accuracy = model_training(naive_bayes.MultinomialNB(), x_train_ngram_tfidf_word, y_train, x_test_ngram_tfidf_word, y_test)\n",
        "print(\"NB ngram countVectorizer: \", accuracy)\n",
        "accuracyAnalysis[\"NB ngram countVectorizer\"] = accuracy\n",
        "\n",
        "accuracy = model_training(naive_bayes.MultinomialNB(), x_train_tfidf_char, y_train, x_test_tfidf_char, y_test)\n",
        "print(\"NB Tfidf char: \", accuracy)\n",
        "accuracyAnalysis[\"NB Tfidf char\"] = accuracy\n",
        "\n",
        "accuracy = model_training(naive_bayes.MultinomialNB(), x_train_ngram_tfidf_char, y_train, x_test_ngram_tfidf_char, y_test)\n",
        "print(\"NB ngram Tfidf char: \", accuracy)\n",
        "accuracyAnalysis[\"NB ngram Tfidf char\"] = accuracy"
      ],
      "execution_count": null,
      "outputs": [
        {
          "output_type": "stream",
          "text": [
            "NB countVectorizer:  0.6396396396396397\n",
            "NB Tfidf word:  0.6590990990990991\n",
            "NB ngram countVectorizer:  0.652972972972973\n",
            "NB Tfidf char:  0.623063063063063\n",
            "NB ngram Tfidf char:  0.6443243243243243\n"
          ],
          "name": "stdout"
        }
      ]
    },
    {
      "cell_type": "code",
      "metadata": {
        "id": "m_Bj_ZdToynG",
        "outputId": "c9f7515c-8dbf-476a-eb26-117eae7ad4ad",
        "colab": {
          "base_uri": "https://localhost:8080/",
          "height": 102
        }
      },
      "source": [
        "accuracy = model_training(svm.SVC(), x_train_count, y_train, x_test_count, y_test)\n",
        "print(\"SVM countVectorizer: \", accuracy)\n",
        "accuracyAnalysis[\"SVM countVectorizer\"] = accuracy\n",
        "\n",
        "accuracy = model_training(svm.SVC(), x_train_tfidf_word, y_train, x_test_tfidf_word, y_test)\n",
        "print(\"SVM Tfidf word: \", accuracy)\n",
        "accuracyAnalysis[\"SVM Tfidf word\"] = accuracy\n",
        "\n",
        "accuracy = model_training(svm.SVC(), x_train_ngram_tfidf_word, y_train, x_test_ngram_tfidf_word, y_test)\n",
        "print(\"SVM ngram countVectorizer: \", accuracy)\n",
        "accuracyAnalysis[\"SVM ngram countVectorizer\"] = accuracy\n",
        "\n",
        "accuracy = model_training(svm.SVC(), x_train_tfidf_char, y_train, x_test_tfidf_char, y_test)\n",
        "print(\"SVM Tfidf char: \", accuracy)\n",
        "accuracyAnalysis[\"SVM Tfidf char\"] = accuracy\n",
        "\n",
        "accuracy = model_training(svm.SVC(), x_train_ngram_tfidf_char, y_train, x_test_ngram_tfidf_char, y_test)\n",
        "print(\"SVM ngram Tfidf char: \", accuracy)\n",
        "accuracyAnalysis[\"SVM ngram Tfidf char\"] = accuracy"
      ],
      "execution_count": null,
      "outputs": [
        {
          "output_type": "stream",
          "text": [
            "SVM countVectorizer:  0.6785585585585585\n",
            "SVM Tfidf word:  0.6958558558558559\n",
            "SVM ngram countVectorizer:  0.6666666666666666\n",
            "SVM Tfidf char:  0.6374774774774775\n",
            "SVM ngram Tfidf char:  0.6796396396396397\n"
          ],
          "name": "stdout"
        }
      ]
    },
    {
      "cell_type": "code",
      "metadata": {
        "id": "INGyvF5Zvg37",
        "outputId": "dcb82128-2f04-4df4-b46e-380255c2f64f",
        "colab": {
          "base_uri": "https://localhost:8080/",
          "height": 102
        }
      },
      "source": [
        "accuracy = model_training(linear_model.LogisticRegression(), x_train_count, y_train, x_test_count, y_test)\n",
        "print(\"LR countVectorizer: \", accuracy)\n",
        "accuracyAnalysis[\"LR countVectorizer\"] = accuracy\n",
        "\n",
        "accuracy = model_training(linear_model.LogisticRegression(), x_train_tfidf_word, y_train, x_test_tfidf_word, y_test)\n",
        "print(\"LR Tfidf word: \", accuracy)\n",
        "accuracyAnalysis[\"LR Tfidf word\"] = accuracy\n",
        "\n",
        "accuracy = model_training(linear_model.LogisticRegression(), x_train_ngram_tfidf_word, y_train, x_test_ngram_tfidf_word, y_test)\n",
        "print(\"LR ngram countVectorizer: \", accuracy)\n",
        "accuracyAnalysis[\"LR ngram countVectorizer\"] = accuracy\n",
        "\n",
        "accuracy = model_training(linear_model.LogisticRegression(), x_train_tfidf_char, y_train, x_test_tfidf_char, y_test)\n",
        "print(\"LR Tfidf char: \", accuracy)\n",
        "accuracyAnalysis[\"LR Tfidf char\"] = accuracy\n",
        "\n",
        "accuracy = model_training(linear_model.LogisticRegression(), x_train_ngram_tfidf_char, y_train, x_test_ngram_tfidf_char, y_test)\n",
        "print(\"LR ngram Tfidf char: \", accuracy)\n",
        "accuracyAnalysis[\"LR ngram Tfidf char\"] = accuracy"
      ],
      "execution_count": null,
      "outputs": [
        {
          "output_type": "stream",
          "text": [
            "LR countVectorizer:  0.6753153153153153\n",
            "LR Tfidf word:  0.6861261261261261\n",
            "LR ngram countVectorizer:  0.6554954954954955\n",
            "LR Tfidf char:  0.6295495495495496\n",
            "LR ngram Tfidf char:  0.6763963963963964\n"
          ],
          "name": "stdout"
        }
      ]
    },
    {
      "cell_type": "code",
      "metadata": {
        "id": "m_rhiL2lyzJ7",
        "outputId": "ae9ced9f-2bb4-4831-863b-72b5cc20313c",
        "colab": {
          "base_uri": "https://localhost:8080/",
          "height": 102
        }
      },
      "source": [
        "accuracy = model_training(ensemble.RandomForestClassifier(), x_train_count, y_train, x_test_count, y_test)\n",
        "print(\"RF countVectorizer: \", accuracy)\n",
        "accuracyAnalysis[\"RF countVectorizer\"] = accuracy\n",
        "\n",
        "accuracy = model_training(ensemble.RandomForestClassifier(), x_train_tfidf_word, y_train, x_test_tfidf_word, y_test)\n",
        "print(\"RF Tfidf word: \", accuracy)\n",
        "accuracyAnalysis[\"RF Tfidf word\"] = accuracy\n",
        "\n",
        "accuracy = model_training(ensemble.RandomForestClassifier(), x_train_ngram_tfidf_word, y_train, x_test_ngram_tfidf_word, y_test)\n",
        "print(\"RF ngram countVectorizer: \", accuracy)\n",
        "accuracyAnalysis[\"RF ngram countVectorizer\"] = accuracy\n",
        "\n",
        "accuracy = model_training(ensemble.RandomForestClassifier(), x_train_tfidf_char, y_train, x_test_tfidf_char, y_test)\n",
        "print(\"RF Tfidf char: \", accuracy)\n",
        "accuracyAnalysis[\"RF Tfidf char\"] = accuracy\n",
        "\n",
        "accuracy = model_training(ensemble.RandomForestClassifier(), x_train_ngram_tfidf_char, y_train, x_test_ngram_tfidf_char, y_test)\n",
        "print(\"RF ngram Tfidf char: \", accuracy)\n",
        "accuracyAnalysis[\"RF ngram Tfidf char\"] = accuracy"
      ],
      "execution_count": null,
      "outputs": [
        {
          "output_type": "stream",
          "text": [
            "RF countVectorizer:  0.6781981981981982\n",
            "RF Tfidf word:  0.6763963963963964\n",
            "RF ngram countVectorizer:  0.6482882882882883\n",
            "RF Tfidf char:  0.6605405405405406\n",
            "RF ngram Tfidf char:  0.6717117117117117\n"
          ],
          "name": "stdout"
        }
      ]
    },
    {
      "cell_type": "code",
      "metadata": {
        "id": "PbvwskvszFHP",
        "outputId": "38252385-6b1d-4549-86e3-2e44f2eaeefa",
        "colab": {
          "base_uri": "https://localhost:8080/",
          "height": 102
        }
      },
      "source": [
        "accuracy = model_training(ensemble.AdaBoostClassifier(), x_train_count, y_train, x_test_count, y_test)\n",
        "print(\"AB countVectorizer: \", accuracy)\n",
        "accuracyAnalysis[\"AB countVectorizer\"] = accuracy\n",
        "\n",
        "accuracy = model_training(ensemble.AdaBoostClassifier(), x_train_tfidf_word, y_train, x_test_tfidf_word, y_test)\n",
        "print(\"AB Tfidf word: \", accuracy)\n",
        "accuracyAnalysis[\"AB Tfidf word\"] = accuracy\n",
        "\n",
        "accuracy = model_training(ensemble.AdaBoostClassifier(), x_train_ngram_tfidf_word, y_train, x_test_ngram_tfidf_word, y_test)\n",
        "print(\"AB ngram countVectorizer: \", accuracy)\n",
        "accuracyAnalysis[\"AB ngram countVectorizer\"] = accuracy\n",
        "\n",
        "accuracy = model_training(ensemble.AdaBoostClassifier(), x_train_tfidf_char, y_train, x_test_tfidf_char, y_test)\n",
        "print(\"AB Tfidf char: \", accuracy)\n",
        "accuracyAnalysis[\"AB Tfidf char\"] = accuracy\n",
        "\n",
        "accuracy = model_training(ensemble.AdaBoostClassifier(), x_train_ngram_tfidf_char, y_train, x_test_ngram_tfidf_char, y_test)\n",
        "print(\"AB ngram Tfidf char: \", accuracy)\n",
        "accuracyAnalysis[\"AB ngram Tfidf char\"] = accuracy"
      ],
      "execution_count": null,
      "outputs": [
        {
          "output_type": "stream",
          "text": [
            "AB countVectorizer:  0.649009009009009\n",
            "AB Tfidf word:  0.6418018018018018\n",
            "AB ngram countVectorizer:  0.6295495495495496\n",
            "AB Tfidf char:  0.6335135135135135\n",
            "AB ngram Tfidf char:  0.6335135135135135\n"
          ],
          "name": "stdout"
        }
      ]
    },
    {
      "cell_type": "code",
      "metadata": {
        "id": "EiX-BqxI6nXv"
      },
      "source": [
        "metrics = sorted(accuracyAnalysis.items(), key=lambda x: x[1], reverse=True)\n",
        "metrics"
      ],
      "execution_count": null,
      "outputs": []
    },
    {
      "cell_type": "code",
      "metadata": {
        "id": "ObIwiGx1q0co",
        "colab": {
          "base_uri": "https://localhost:8080/",
          "height": 408
        },
        "outputId": "4348c421-413b-47e0-d87b-91e19e1c5f05"
      },
      "source": [
        "import matplotlib.pyplot as plt\n",
        "!matplotlib inline\n",
        "\n",
        "x_metrics = []\n",
        "y_metrics = []\n",
        "\n",
        "for i in metrics:\n",
        "  x_metrics.append(i[0])\n",
        "  y_metrics.append(i[1])\n",
        "\n",
        "\n",
        "plt.xlabel(\"Classification Models for text Data\")\n",
        "plt.ylabel(\"Accuracy Score\")\n",
        "# plt.plot(x_metrics, y_metrics)\n",
        "plt.bar(x_metrics, y_metrics)\n",
        "plt.xticks(x_metrics, rotation='vertical')\n",
        "plt.show()"
      ],
      "execution_count": null,
      "outputs": [
        {
          "output_type": "display_data",
          "data": {
            "image/png": "[encoded data removed]",
            "text/plain": [
              "<Figure size 432x288 with 1 Axes>"
            ]
          },
          "metadata": {
            "tags": [],
            "needs_background": "light"
          }
        }
      ]
    }
  ]
}