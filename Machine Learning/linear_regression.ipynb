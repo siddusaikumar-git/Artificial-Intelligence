{
  "nbformat": 4,
  "nbformat_minor": 0,
  "metadata": {
    "colab": {
      "provenance": []
    },
    "kernelspec": {
      "name": "python3",
      "display_name": "Python 3"
    },
    "language_info": {
      "name": "python"
    }
  },
  "cells": [
    {
      "cell_type": "code",
      "execution_count": null,
      "metadata": {
        "id": "QsmyY8UzpIEd"
      },
      "outputs": [],
      "source": [
        "# importing numpy and linear regression library\n",
        "import numpy as np\n",
        "from sklearn.linear_model import LinearRegression"
      ]
    },
    {
      "cell_type": "code",
      "source": [
        "# input values (yearl) to the linear regression model\n",
        "x = np.array([2006, 2007, 2008, 2009, 2010, 2011, 2012, 2013]).reshape((-1, 1))\n",
        "\n",
        "# ouput values to the linear regression model\n",
        "y = np.array([43, 67, 34, 76, 71, 85, 88, 96])"
      ],
      "metadata": {
        "id": "oOC6N3b0pO4N"
      },
      "execution_count": null,
      "outputs": []
    },
    {
      "cell_type": "code",
      "source": [
        "# Training the linear regression model with given input dependent and independent variables.\n",
        "model = LinearRegression().fit(x, y)\n"
      ],
      "metadata": {
        "colab": {
          "base_uri": "https://localhost:8080/"
        },
        "id": "mJTZlUr_pjzz",
        "outputId": "934a392a-aca2-4448-e8c1-7adb6c356499"
      },
      "execution_count": null,
      "outputs": [
        {
          "output_type": "execute_result",
          "data": {
            "text/plain": [
              "array([44.        , 51.42857143, 58.85714286, 66.28571429, 73.71428571,\n",
              "       81.14285714, 88.57142857, 96.        ])"
            ]
          },
          "metadata": {},
          "execution_count": 6
        }
      ]
    },
    {
      "cell_type": "code",
      "source": [
        "# predicting the output production values for the input new years.\n",
        "\n",
        "y_pred = model.predict([[2014], [2015]])\n",
        "y_pred"
      ],
      "metadata": {
        "colab": {
          "base_uri": "https://localhost:8080/"
        },
        "id": "ft9HwkeKp5sp",
        "outputId": "ca4203c8-ca45-4fc3-eaac-137091321c39"
      },
      "execution_count": null,
      "outputs": [
        {
          "output_type": "execute_result",
          "data": {
            "text/plain": [
              "array([103.42857143, 110.85714286])"
            ]
          },
          "metadata": {},
          "execution_count": 10
        }
      ]
    },
    {
      "cell_type": "code",
      "source": [
        "# import matplotlib library to line plot the input years and production values.\n",
        "import matplotlib.pyplot as plt\n",
        "\n",
        "# trainable dependent and indepenedent values\n",
        "x = np.array([2006, 2007, 2008, 2009, 2010, 2011, 2012, 2013])\n",
        "y = np.array([43, 67, 34, 76, 71, 85, 88, 96])\n",
        "\n",
        "# plotting the output values w.r.t input values.\n",
        "plt.plot(x, y, 'o')\n",
        "\n",
        "# calculate the slope and intercept for given input values to form line equation.\n",
        "m, b = np.polyfit(x, y, 1)\n",
        "\n",
        "# plot the line equation w.r.t input years.\n",
        "plt.plot(x, m*x + b)\n",
        "\n",
        "# plot the line equation and values.\n",
        "plt.show()"
      ],
      "metadata": {
        "colab": {
          "base_uri": "https://localhost:8080/",
          "height": 265
        },
        "id": "TMS5dVccqLaz",
        "outputId": "be69b2bd-e166-48c6-c652-1ee734a1f465"
      },
      "execution_count": null,
      "outputs": [
        {
          "output_type": "display_data",
          "data": {
            "image/png": "[encoded data removed]",
            "text/plain": [
              "<Figure size 432x288 with 1 Axes>"
            ]
          },
          "metadata": {
            "needs_background": "light"
          }
        }
      ]
    },
    {
      "cell_type": "code",
      "source": [
        "# plot the given years and output values.\n",
        "\n",
        "x = np.array([2006, 2007, 2008, 2009, 2010, 2011, 2012, 2013, 2014, 2015])\n",
        "y = [43, 67, 34, 76, 71, 85, 88, 96]\n",
        "\n",
        "# added the predicted values of years 2014 and 2015 and plotted the graph\n",
        "y.extend(list(y_pred))\n",
        "y = np.array(y)\n",
        "plt.plot(x, y, 'o')\n",
        "m, b = np.polyfit(x, y, 1)\n",
        "plt.plot(x, m*x + b)\n",
        "plt.show()"
      ],
      "metadata": {
        "colab": {
          "base_uri": "https://localhost:8080/",
          "height": 265
        },
        "id": "4EmPWr2escxI",
        "outputId": "905717c5-c06b-44cb-a4d1-094654243d5c"
      },
      "execution_count": null,
      "outputs": [
        {
          "output_type": "display_data",
          "data": {
            "image/png": "[encoded data removed]",
            "text/plain": [
              "<Figure size 432x288 with 1 Axes>"
            ]
          },
          "metadata": {
            "needs_background": "light"
          }
        }
      ]
    }
  ]
}