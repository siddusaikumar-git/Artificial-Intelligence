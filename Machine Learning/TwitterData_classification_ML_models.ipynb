{
  "nbformat": 4,
  "nbformat_minor": 0,
  "metadata": {
    "colab": {
      "provenance": []
    },
    "kernelspec": {
      "name": "python3",
      "display_name": "Python 3"
    }
  },
  "cells": [
    {
      "cell_type": "markdown",
      "metadata": {
        "id": "LN09lpdo8zXt"
      },
      "source": [
        "#Machine Learning Models\n",
        "1. Naive Bayes\n",
        "2. Support Vector Machines\n",
        "3. Logistic Regression\n",
        "4. Random Forest\n",
        "5. Ada Boost\n",
        "6. XG Boost\n"
      ]
    },
    {
      "cell_type": "code",
      "metadata": {
        "id": "JfCoiCJHr7Et"
      },
      "source": [
        "import pandas as pd\n",
        "import numpy as np\n",
        "import warnings\n",
        "warnings.filterwarnings(\"ignore\")\n",
        "\n",
        "from sklearn import model_selection, naive_bayes, svm, metrics, preprocessing, linear_model\n",
        "from sklearn.feature_extraction.text import TfidfVectorizer, CountVectorizer\n",
        "from sklearn.model_selection import train_test_split\n",
        "from sklearn import decomposition, ensemble\n",
        "\n",
        "from keras.preprocessing.sequence import pad_sequences\n",
        "\n",
        "\n",
        "df = pd.read_csv('/content/drive/My Drive/ML_Data/Sentiment.csv')\n",
        "df.drop(['id', 'relevant_yn', 'relevant_yn_confidence', 'candidate', 'candidate_confidence', 'sentiment_confidence', 'subject_matter', 'subject_matter_confidence', 'candidate_gold', 'name','relevant_yn_gold','retweet_count', 'sentiment_gold',\t'subject_matter_gold', 'tweet_coord', 'tweet_created', 'tweet_id',\t'tweet_location',\t'user_timezone'], axis=1, inplace=True)\n",
        "\n",
        "\n",
        "\n",
        "def clean_data(sentence):\n",
        "  sentence = [w for w in sentence.split(\" \") if \"RT\" not in w]\n",
        "  sentence = [w for w in sentence if \":\" not in w]\n",
        "  sentence = [w for w in sentence if \"#\" not in w]\n",
        "  sentence = [w for w in sentence if \"@\" not in w]\n",
        "  sentence = \" \".join(sentence)\n",
        "  return sentence\n",
        "\n",
        "df[\"text\"] = df[\"text\"].apply(lambda x: clean_data(x))\n",
        "\n",
        "x = df.text\n",
        "y = df.sentiment\n",
        "\n",
        "label = preprocessing.LabelEncoder()\n",
        "\n",
        "y = label.fit_transform(y)\n"
      ],
      "execution_count": null,
      "outputs": []
    },
    {
      "cell_type": "code",
      "metadata": {
        "id": "_0UGPXgepXZZ"
      },
      "source": [
        "# Encoding the input text\n",
        "\n",
        "count_label = CountVectorizer(analyzer='word', token_pattern=r'\\w{1,}')\n",
        "\n",
        "x_count = count_label.fit_transform(x)\n",
        "\n",
        "\n",
        "tfidf_word_label = TfidfVectorizer(analyzer='word', token_pattern=r'\\w{1,}', max_features=5000)\n",
        "\n",
        "x_tfidf_word = tfidf_word_label.fit_transform(x)\n",
        "\n",
        "\n",
        "tfidf_ngram_word_label = TfidfVectorizer(analyzer='word', ngram_range=(2, 3), token_pattern=r'\\w{1,}', max_features=5000)\n",
        "\n",
        "x_ngram_tfidf_word = tfidf_ngram_word_label.fit_transform(x)\n",
        "\n",
        "\n",
        "tfidf_char_label = TfidfVectorizer(analyzer='char', token_pattern=r'\\w{1,}', max_features=5000)\n",
        "\n",
        "x_tfidf_char = tfidf_char_label.fit_transform(x)\n",
        "\n",
        "\n",
        "tfidf_ngram_char_label = TfidfVectorizer(analyzer='char', ngram_range=(2, 3), token_pattern=r'\\w{1,}', max_features=5000)\n",
        "\n",
        "x_ngram_tfidf_char = tfidf_ngram_char_label.fit_transform(x)\n"
      ],
      "execution_count": null,
      "outputs": []
    },
    {
      "cell_type": "code",
      "metadata": {
        "id": "pIiw4Jj_pYKJ"
      },
      "source": [
        "x_train_count, x_test_count, y_train, y_test = train_test_split(x_count, y, test_size=0.2, random_state=42)\n",
        "x_train_tfidf_word, x_test_tfidf_word, y_train, y_test = train_test_split(x_tfidf_word, y, test_size=0.2, random_state=42)\n",
        "x_train_ngram_tfidf_word, x_test_ngram_tfidf_word, y_train, y_test = train_test_split(x_ngram_tfidf_word, y, test_size=0.2, random_state=42)\n",
        "x_train_tfidf_char,  x_test_tfidf_char, y_train, y_test = train_test_split(x_tfidf_char, y, test_size=0.2, random_state=42)\n",
        "x_train_ngram_tfidf_char,  x_test_ngram_tfidf_char, y_train, y_test = train_test_split(x_ngram_tfidf_char, y, test_size=0.2, random_state=42)"
      ],
      "execution_count": null,
      "outputs": []
    },
    {
      "cell_type": "code",
      "metadata": {
        "id": "xcVV68GApaDS"
      },
      "source": [
        "def model_training(model, x_train, y_train, x_test, y_test):\n",
        "\n",
        "  model.fit(x_train, y_train)\n",
        "  y_pred = model.predict(x_test)\n",
        "  accuracy = metrics.accuracy_score(y_pred, y_test)\n",
        "\n",
        "  return accuracy"
      ],
      "execution_count": null,
      "outputs": []
    },
    {
      "cell_type": "code",
      "metadata": {
        "id": "Y78uoI-7pc7l",
        "outputId": "e249eb76-753a-489a-b776-daad00650273",
        "colab": {
          "base_uri": "https://localhost:8080/",
          "height": 102
        }
      },
      "source": [
        "accuracyAnalysis = {}\n",
        "accuracy = model_training(naive_bayes.MultinomialNB(), x_train_count, y_train, x_test_count, y_test)\n",
        "print(\"NB countVectorizer: \", accuracy)\n",
        "accuracyAnalysis[\"NB countVectorizer\"] = accuracy\n",
        "\n",
        "accuracy = model_training(naive_bayes.MultinomialNB(), x_train_tfidf_word, y_train, x_test_tfidf_word, y_test)\n",
        "print(\"NB Tfidf word: \", accuracy)\n",
        "accuracyAnalysis[\"NB Tfidf word\"] = accuracy\n",
        "\n",
        "accuracy = model_training(naive_bayes.MultinomialNB(), x_train_ngram_tfidf_word, y_train, x_test_ngram_tfidf_word, y_test)\n",
        "print(\"NB ngram countVectorizer: \", accuracy)\n",
        "accuracyAnalysis[\"NB ngram countVectorizer\"] = accuracy\n",
        "\n",
        "accuracy = model_training(naive_bayes.MultinomialNB(), x_train_tfidf_char, y_train, x_test_tfidf_char, y_test)\n",
        "print(\"NB Tfidf char: \", accuracy)\n",
        "accuracyAnalysis[\"NB Tfidf char\"] = accuracy\n",
        "\n",
        "accuracy = model_training(naive_bayes.MultinomialNB(), x_train_ngram_tfidf_char, y_train, x_test_ngram_tfidf_char, y_test)\n",
        "print(\"NB ngram Tfidf char: \", accuracy)\n",
        "accuracyAnalysis[\"NB ngram Tfidf char\"] = accuracy"
      ],
      "execution_count": null,
      "outputs": [
        {
          "output_type": "stream",
          "text": [
            "NB countVectorizer:  0.6396396396396397\n",
            "NB Tfidf word:  0.6590990990990991\n",
            "NB ngram countVectorizer:  0.652972972972973\n",
            "NB Tfidf char:  0.623063063063063\n",
            "NB ngram Tfidf char:  0.6443243243243243\n"
          ],
          "name": "stdout"
        }
      ]
    },
    {
      "cell_type": "code",
      "metadata": {
        "id": "OC9E-7USpgKa",
        "outputId": "8a31d27d-67f4-4355-fcae-3be86eae2b37",
        "colab": {
          "base_uri": "https://localhost:8080/",
          "height": 102
        }
      },
      "source": [
        "accuracy = model_training(svm.SVC(), x_train_count, y_train, x_test_count, y_test)\n",
        "print(\"SVM countVectorizer: \", accuracy)\n",
        "accuracyAnalysis[\"SVM countVectorizer\"] = accuracy\n",
        "\n",
        "accuracy = model_training(svm.SVC(), x_train_tfidf_word, y_train, x_test_tfidf_word, y_test)\n",
        "print(\"SVM Tfidf word: \", accuracy)\n",
        "accuracyAnalysis[\"SVM Tfidf word\"] = accuracy\n",
        "\n",
        "accuracy = model_training(svm.SVC(), x_train_ngram_tfidf_word, y_train, x_test_ngram_tfidf_word, y_test)\n",
        "print(\"SVM ngram countVectorizer: \", accuracy)\n",
        "accuracyAnalysis[\"SVM ngram countVectorizer\"] = accuracy\n",
        "\n",
        "accuracy = model_training(svm.SVC(), x_train_tfidf_char, y_train, x_test_tfidf_char, y_test)\n",
        "print(\"SVM Tfidf char: \", accuracy)\n",
        "accuracyAnalysis[\"SVM Tfidf char\"] = accuracy\n",
        "\n",
        "accuracy = model_training(svm.SVC(), x_train_ngram_tfidf_char, y_train, x_test_ngram_tfidf_char, y_test)\n",
        "print(\"SVM ngram Tfidf char: \", accuracy)\n",
        "accuracyAnalysis[\"SVM ngram Tfidf char\"] = accuracy"
      ],
      "execution_count": null,
      "outputs": [
        {
          "output_type": "stream",
          "text": [
            "SVM countVectorizer:  0.6785585585585585\n",
            "SVM Tfidf word:  0.6958558558558559\n",
            "SVM ngram countVectorizer:  0.6666666666666666\n",
            "SVM Tfidf char:  0.6374774774774775\n",
            "SVM ngram Tfidf char:  0.6796396396396397\n"
          ],
          "name": "stdout"
        }
      ]
    },
    {
      "cell_type": "code",
      "metadata": {
        "id": "y4GDhDJBpjFO",
        "outputId": "6da025bd-0320-4841-9c13-638b3b75c5c4",
        "colab": {
          "base_uri": "https://localhost:8080/",
          "height": 102
        }
      },
      "source": [
        "accuracy = model_training(linear_model.LogisticRegression(), x_train_count, y_train, x_test_count, y_test)\n",
        "print(\"LR countVectorizer: \", accuracy)\n",
        "accuracyAnalysis[\"LR countVectorizer\"] = accuracy\n",
        "\n",
        "accuracy = model_training(linear_model.LogisticRegression(), x_train_tfidf_word, y_train, x_test_tfidf_word, y_test)\n",
        "print(\"LR Tfidf word: \", accuracy)\n",
        "accuracyAnalysis[\"LR Tfidf word\"] = accuracy\n",
        "\n",
        "accuracy = model_training(linear_model.LogisticRegression(), x_train_ngram_tfidf_word, y_train, x_test_ngram_tfidf_word, y_test)\n",
        "print(\"LR ngram countVectorizer: \", accuracy)\n",
        "accuracyAnalysis[\"LR ngram countVectorizer\"] = accuracy\n",
        "\n",
        "accuracy = model_training(linear_model.LogisticRegression(), x_train_tfidf_char, y_train, x_test_tfidf_char, y_test)\n",
        "print(\"LR Tfidf char: \", accuracy)\n",
        "accuracyAnalysis[\"LR Tfidf char\"] = accuracy\n",
        "\n",
        "accuracy = model_training(linear_model.LogisticRegression(), x_train_ngram_tfidf_char, y_train, x_test_ngram_tfidf_char, y_test)\n",
        "print(\"LR ngram Tfidf char: \", accuracy)\n",
        "accuracyAnalysis[\"LR ngram Tfidf char\"] = accuracy"
      ],
      "execution_count": null,
      "outputs": [
        {
          "output_type": "stream",
          "text": [
            "LR countVectorizer:  0.6753153153153153\n",
            "LR Tfidf word:  0.6861261261261261\n",
            "LR ngram countVectorizer:  0.6554954954954955\n",
            "LR Tfidf char:  0.6295495495495496\n",
            "LR ngram Tfidf char:  0.6763963963963964\n"
          ],
          "name": "stdout"
        }
      ]
    },
    {
      "cell_type": "code",
      "metadata": {
        "id": "ipjCx0h5plLD",
        "outputId": "8e38f54c-c48a-4914-c57b-289ced8a9089",
        "colab": {
          "base_uri": "https://localhost:8080/",
          "height": 102
        }
      },
      "source": [
        "accuracy = model_training(ensemble.RandomForestClassifier(), x_train_count, y_train, x_test_count, y_test)\n",
        "print(\"RF countVectorizer: \", accuracy)\n",
        "accuracyAnalysis[\"RF countVectorizer\"] = accuracy\n",
        "\n",
        "accuracy = model_training(ensemble.RandomForestClassifier(), x_train_tfidf_word, y_train, x_test_tfidf_word, y_test)\n",
        "print(\"RF Tfidf word: \", accuracy)\n",
        "accuracyAnalysis[\"RF Tfidf word\"] = accuracy\n",
        "\n",
        "accuracy = model_training(ensemble.RandomForestClassifier(), x_train_ngram_tfidf_word, y_train, x_test_ngram_tfidf_word, y_test)\n",
        "print(\"RF ngram countVectorizer: \", accuracy)\n",
        "accuracyAnalysis[\"RF ngram countVectorizer\"] = accuracy\n",
        "\n",
        "accuracy = model_training(ensemble.RandomForestClassifier(), x_train_tfidf_char, y_train, x_test_tfidf_char, y_test)\n",
        "print(\"RF Tfidf char: \", accuracy)\n",
        "accuracyAnalysis[\"RF Tfidf char\"] = accuracy\n",
        "\n",
        "accuracy = model_training(ensemble.RandomForestClassifier(), x_train_ngram_tfidf_char, y_train, x_test_ngram_tfidf_char, y_test)\n",
        "print(\"RF ngram Tfidf char: \", accuracy)\n",
        "accuracyAnalysis[\"RF ngram Tfidf char\"] = accuracy"
      ],
      "execution_count": null,
      "outputs": [
        {
          "output_type": "stream",
          "text": [
            "RF countVectorizer:  0.6771171171171171\n",
            "RF Tfidf word:  0.6771171171171171\n",
            "RF ngram countVectorizer:  0.6464864864864864\n",
            "RF Tfidf char:  0.6623423423423423\n",
            "RF ngram Tfidf char:  0.670990990990991\n"
          ],
          "name": "stdout"
        }
      ]
    },
    {
      "cell_type": "code",
      "metadata": {
        "id": "Nf3uwU9XpnNI",
        "outputId": "e69b1794-6106-4e7d-f916-d4e30bcf5ac8",
        "colab": {
          "base_uri": "https://localhost:8080/",
          "height": 102
        }
      },
      "source": [
        "accuracy = model_training(ensemble.AdaBoostClassifier(), x_train_count, y_train, x_test_count, y_test)\n",
        "print(\"AB countVectorizer: \", accuracy)\n",
        "accuracyAnalysis[\"AB countVectorizer\"] = accuracy\n",
        "\n",
        "accuracy = model_training(ensemble.AdaBoostClassifier(), x_train_tfidf_word, y_train, x_test_tfidf_word, y_test)\n",
        "print(\"AB Tfidf word: \", accuracy)\n",
        "accuracyAnalysis[\"AB Tfidf word\"] = accuracy\n",
        "\n",
        "accuracy = model_training(ensemble.AdaBoostClassifier(), x_train_ngram_tfidf_word, y_train, x_test_ngram_tfidf_word, y_test)\n",
        "print(\"AB ngram countVectorizer: \", accuracy)\n",
        "accuracyAnalysis[\"AB ngram countVectorizer\"] = accuracy\n",
        "\n",
        "accuracy = model_training(ensemble.AdaBoostClassifier(), x_train_tfidf_char, y_train, x_test_tfidf_char, y_test)\n",
        "print(\"AB Tfidf char: \", accuracy)\n",
        "accuracyAnalysis[\"AB Tfidf char\"] = accuracy\n",
        "\n",
        "accuracy = model_training(ensemble.AdaBoostClassifier(), x_train_ngram_tfidf_char, y_train, x_test_ngram_tfidf_char, y_test)\n",
        "print(\"AB ngram Tfidf char: \", accuracy)\n",
        "accuracyAnalysis[\"AB ngram Tfidf char\"] = accuracy"
      ],
      "execution_count": null,
      "outputs": [
        {
          "output_type": "stream",
          "text": [
            "AB countVectorizer:  0.649009009009009\n",
            "AB Tfidf word:  0.6418018018018018\n",
            "AB ngram countVectorizer:  0.6295495495495496\n",
            "AB Tfidf char:  0.6335135135135135\n",
            "AB ngram Tfidf char:  0.6335135135135135\n"
          ],
          "name": "stdout"
        }
      ]
    },
    {
      "cell_type": "code",
      "metadata": {
        "id": "1szBz09C7LER",
        "outputId": "9feb7fa2-96d9-45dd-a115-2ad037939402",
        "colab": {
          "base_uri": "https://localhost:8080/",
          "height": 102
        }
      },
      "source": [
        "accuracy = model_training(xgboost.XGBClassifier(), x_train_count, y_train, x_test_count, y_test)\n",
        "print(\"XGB countVectorizer: \", accuracy)\n",
        "accuracyAnalysis[\"XGB countVectorizer\"] = accuracy\n",
        "\n",
        "accuracy = model_training(xgboost.XGBClassifier(), x_train_tfidf_word, y_train, x_test_tfidf_word, y_test)\n",
        "print(\"XGB Tfidf word: \", accuracy)\n",
        "accuracyAnalysis[\"XGB Tfidf word\"] = accuracy\n",
        "\n",
        "accuracy = model_training(xgboost.XGBClassifier(), x_train_ngram_tfidf_word, y_train, x_test_ngram_tfidf_word, y_test)\n",
        "print(\"XGB ngram countVectorizer: \", accuracy)\n",
        "accuracyAnalysis[\"XGB ngram countVectorizer\"] = accuracy\n",
        "\n",
        "accuracy = model_training(xgboost.XGBClassifier(), x_train_tfidf_char, y_train, x_test_tfidf_char, y_test)\n",
        "print(\"XGB Tfidf char: \", accuracy)\n",
        "accuracyAnalysis[\"XGB Tfidf char\"] = accuracy\n",
        "\n",
        "accuracy = model_training(xgboost.XGBClassifier(), x_train_ngram_tfidf_char, y_train, x_test_ngram_tfidf_char, y_test)\n",
        "print(\"XGB ngram Tfidf char: \", accuracy)\n",
        "accuracyAnalysis[\"XGB ngram Tfidf char\"] = accuracy"
      ],
      "execution_count": null,
      "outputs": [
        {
          "output_type": "stream",
          "text": [
            "XGB countVectorizer:  0.6421621621621622\n",
            "XGB Tfidf word:  0.6526126126126126\n",
            "XGB ngram countVectorizer:  0.6414414414414414\n",
            "XGB Tfidf char:  0.645045045045045\n",
            "XGB ngram Tfidf char:  0.6645045045045045\n"
          ],
          "name": "stdout"
        }
      ]
    },
    {
      "cell_type": "code",
      "metadata": {
        "id": "u3-Ukn-Iprde",
        "outputId": "4a712651-5111-41f6-ae87-f4ab2b621e4f",
        "colab": {
          "base_uri": "https://localhost:8080/",
          "height": 527
        }
      },
      "source": [
        "metrics = sorted(accuracyAnalysis.items(), key=lambda x: x[1], reverse=True)\n",
        "metrics"
      ],
      "execution_count": null,
      "outputs": [
        {
          "output_type": "execute_result",
          "data": {
            "text/plain": [
              "[('SVM Tfidf word', 0.6958558558558559),\n",
              " ('LR Tfidf word', 0.6861261261261261),\n",
              " ('SVM ngram Tfidf char', 0.6796396396396397),\n",
              " ('SVM countVectorizer', 0.6785585585585585),\n",
              " ('RF countVectorizer', 0.6771171171171171),\n",
              " ('RF Tfidf word', 0.6771171171171171),\n",
              " ('LR ngram Tfidf char', 0.6763963963963964),\n",
              " ('LR countVectorizer', 0.6753153153153153),\n",
              " ('RF ngram Tfidf char', 0.670990990990991),\n",
              " ('SVM ngram countVectorizer', 0.6666666666666666),\n",
              " ('XGB ngram Tfidf char', 0.6645045045045045),\n",
              " ('RF Tfidf char', 0.6623423423423423),\n",
              " ('NB Tfidf word', 0.6590990990990991),\n",
              " ('LR ngram countVectorizer', 0.6554954954954955),\n",
              " ('NB ngram countVectorizer', 0.652972972972973),\n",
              " ('XGB Tfidf word', 0.6526126126126126),\n",
              " ('AB countVectorizer', 0.649009009009009),\n",
              " ('RF ngram countVectorizer', 0.6464864864864864),\n",
              " ('XGB Tfidf char', 0.645045045045045),\n",
              " ('NB ngram Tfidf char', 0.6443243243243243),\n",
              " ('XGB countVectorizer', 0.6421621621621622),\n",
              " ('AB Tfidf word', 0.6418018018018018),\n",
              " ('XGB ngram countVectorizer', 0.6414414414414414),\n",
              " ('NB countVectorizer', 0.6396396396396397),\n",
              " ('SVM Tfidf char', 0.6374774774774775),\n",
              " ('AB Tfidf char', 0.6335135135135135),\n",
              " ('AB ngram Tfidf char', 0.6335135135135135),\n",
              " ('LR Tfidf char', 0.6295495495495496),\n",
              " ('AB ngram countVectorizer', 0.6295495495495496),\n",
              " ('NB Tfidf char', 0.623063063063063)]"
            ]
          },
          "metadata": {
            "tags": []
          },
          "execution_count": 33
        }
      ]
    },
    {
      "cell_type": "code",
      "metadata": {
        "id": "zO3Gw8x6uzNQ",
        "outputId": "a7f3cec6-5abb-46e4-fcf2-382d6b2102a8",
        "colab": {
          "base_uri": "https://localhost:8080/",
          "height": 425
        }
      },
      "source": [
        "import matplotlib.pyplot as plt\n",
        "!matplotlib inline\n",
        "\n",
        "x_metrics = []\n",
        "y_metrics = []\n",
        "\n",
        "for i in metrics:\n",
        "  x_metrics.append(i[0])\n",
        "  y_metrics.append(i[1])\n",
        "\n",
        "\n",
        "plt.xlabel(\"Classification Models for text Data\")\n",
        "plt.ylabel(\"Accuracy Score\")\n",
        "# plt.plot(x_metrics, y_metrics)\n",
        "plt.bar(x_metrics, y_metrics)\n",
        "plt.xticks(x_metrics, rotation='vertical')\n",
        "plt.show()"
      ],
      "execution_count": null,
      "outputs": [
        {
          "output_type": "stream",
          "text": [
            "/bin/bash: matplotlib: command not found\n"
          ],
          "name": "stdout"
        },
        {
          "output_type": "display_data",
          "data": {
            "image/png": "[encoded data removed]",
            "text/plain": [
              "<Figure size 432x288 with 1 Axes>"
            ]
          },
          "metadata": {
            "tags": [],
            "needs_background": "light"
          }
        }
      ]
    },
    {
      "cell_type": "markdown",
      "metadata": {
        "id": "bcp3-yLdEjZ6"
      },
      "source": [
        "#Lemmatiztion added to Machine Learning Models"
      ]
    },
    {
      "cell_type": "code",
      "metadata": {
        "id": "vbBxP5s6Eta7",
        "outputId": "4b8f796a-5b54-4d0e-8081-2bbc57a23af1",
        "colab": {
          "base_uri": "https://localhost:8080/",
          "height": 85
        }
      },
      "source": [
        "import pandas as pd\n",
        "import numpy as np\n",
        "import warnings\n",
        "import nltk\n",
        "warnings.filterwarnings(\"ignore\")\n",
        "\n",
        "from sklearn import model_selection, naive_bayes, svm, metrics, preprocessing, linear_model\n",
        "from sklearn.feature_extraction.text import TfidfVectorizer, CountVectorizer\n",
        "from sklearn.model_selection import train_test_split\n",
        "from sklearn import decomposition, ensemble\n",
        "\n",
        "from nltk.stem import WordNetLemmatizer\n",
        "from nltk.corpus import stopwords\n",
        "nltk.download('stopwords')\n",
        "nltk.download('wordnet')\n",
        "\n",
        "lemma = WordNetLemmatizer()\n",
        "from keras.preprocessing.sequence import pad_sequences\n",
        "\n",
        "\n",
        "df = pd.read_csv('/content/drive/My Drive/ML_Data/Sentiment.csv')\n",
        "df.drop(['id', 'relevant_yn', 'relevant_yn_confidence', 'candidate', 'candidate_confidence', 'sentiment_confidence', 'subject_matter', 'subject_matter_confidence', 'candidate_gold', 'name','relevant_yn_gold','retweet_count', 'sentiment_gold',\t'subject_matter_gold', 'tweet_coord', 'tweet_created', 'tweet_id',\t'tweet_location',\t'user_timezone'], axis=1, inplace=True)\n",
        "\n",
        "\n",
        "def clean_data(sentence):\n",
        "  sentence = [w for w in sentence.split(\" \") if \"RT\" not in w]\n",
        "  sentence = [w for w in sentence if \":\" not in w]\n",
        "  sentence = [w for w in sentence if \"#\" not in w]\n",
        "  sentence = [w for w in sentence if \"@\" not in w]\n",
        "  sentence = [lemma.lemmatize(w) for w in sentence if w not in stopwords.words('english')]\n",
        "  sentence = \" \".join(sentence)\n",
        "  return sentence\n",
        "\n",
        "df[\"text\"] = df[\"text\"].apply(lambda x: clean_data(x))\n",
        "\n",
        "x = df.text\n",
        "y = df.sentiment\n",
        "\n",
        "label = preprocessing.LabelEncoder()\n",
        "\n",
        "y = label.fit_transform(y)\n"
      ],
      "execution_count": null,
      "outputs": [
        {
          "output_type": "stream",
          "text": [
            "[nltk_data] Downloading package stopwords to /root/nltk_data...\n",
            "[nltk_data]   Package stopwords is already up-to-date!\n",
            "[nltk_data] Downloading package wordnet to /root/nltk_data...\n",
            "[nltk_data]   Package wordnet is already up-to-date!\n"
          ],
          "name": "stdout"
        }
      ]
    },
    {
      "cell_type": "code",
      "metadata": {
        "id": "0qcBTQLDEtbA"
      },
      "source": [
        "# Encoding the input text\n",
        "\n",
        "count_label = CountVectorizer(analyzer='word', token_pattern=r'\\w{1,}')\n",
        "\n",
        "x_count = count_label.fit_transform(x)\n",
        "\n",
        "\n",
        "tfidf_word_label = TfidfVectorizer(analyzer='word', token_pattern=r'\\w{1,}', max_features=5000)\n",
        "\n",
        "x_tfidf_word = tfidf_word_label.fit_transform(x)\n",
        "\n",
        "\n",
        "tfidf_ngram_word_label = TfidfVectorizer(analyzer='word', ngram_range=(2, 3), token_pattern=r'\\w{1,}', max_features=5000)\n",
        "\n",
        "x_ngram_tfidf_word = tfidf_ngram_word_label.fit_transform(x)\n",
        "\n",
        "\n",
        "tfidf_char_label = TfidfVectorizer(analyzer='char', token_pattern=r'\\w{1,}', max_features=5000)\n",
        "\n",
        "x_tfidf_char = tfidf_char_label.fit_transform(x)\n",
        "\n",
        "\n",
        "tfidf_ngram_char_label = TfidfVectorizer(analyzer='char', ngram_range=(2, 3), token_pattern=r'\\w{1,}', max_features=5000)\n",
        "\n",
        "x_ngram_tfidf_char = tfidf_ngram_char_label.fit_transform(x)\n"
      ],
      "execution_count": null,
      "outputs": []
    },
    {
      "cell_type": "code",
      "metadata": {
        "id": "vBtjGJwgEtbD"
      },
      "source": [
        "x_train_count, x_test_count, y_train, y_test = train_test_split(x_count, y, test_size=0.2, random_state=42)\n",
        "x_train_tfidf_word, x_test_tfidf_word, y_train, y_test = train_test_split(x_tfidf_word, y, test_size=0.2, random_state=42)\n",
        "x_train_ngram_tfidf_word, x_test_ngram_tfidf_word, y_train, y_test = train_test_split(x_ngram_tfidf_word, y, test_size=0.2, random_state=42)\n",
        "x_train_tfidf_char,  x_test_tfidf_char, y_train, y_test = train_test_split(x_tfidf_char, y, test_size=0.2, random_state=42)\n",
        "x_train_ngram_tfidf_char,  x_test_ngram_tfidf_char, y_train, y_test = train_test_split(x_ngram_tfidf_char, y, test_size=0.2, random_state=42)"
      ],
      "execution_count": null,
      "outputs": []
    },
    {
      "cell_type": "code",
      "metadata": {
        "id": "UdCivmwyEtbF"
      },
      "source": [
        "def model_training(model, x_train, y_train, x_test, y_test):\n",
        "\n",
        "  model.fit(x_train, y_train)\n",
        "  y_pred = model.predict(x_test)\n",
        "  accuracy = metrics.accuracy_score(y_pred, y_test)\n",
        "\n",
        "  return accuracy"
      ],
      "execution_count": null,
      "outputs": []
    },
    {
      "cell_type": "code",
      "metadata": {
        "outputId": "175cd716-3a6f-456d-9bea-de8665780c41",
        "id": "_nj8gN7VEtbL",
        "colab": {
          "base_uri": "https://localhost:8080/",
          "height": 102
        }
      },
      "source": [
        "accuracyAnalysis = {}\n",
        "accuracy = model_training(naive_bayes.MultinomialNB(), x_train_count, y_train, x_test_count, y_test)\n",
        "print(\"NB countVectorizer: \", accuracy)\n",
        "accuracyAnalysis[\"NB countVectorizer\"] = accuracy\n",
        "\n",
        "accuracy = model_training(naive_bayes.MultinomialNB(), x_train_tfidf_word, y_train, x_test_tfidf_word, y_test)\n",
        "print(\"NB Tfidf word: \", accuracy)\n",
        "accuracyAnalysis[\"NB Tfidf word\"] = accuracy\n",
        "\n",
        "accuracy = model_training(naive_bayes.MultinomialNB(), x_train_ngram_tfidf_word, y_train, x_test_ngram_tfidf_word, y_test)\n",
        "print(\"NB ngram countVectorizer: \", accuracy)\n",
        "accuracyAnalysis[\"NB ngram countVectorizer\"] = accuracy\n",
        "\n",
        "accuracy = model_training(naive_bayes.MultinomialNB(), x_train_tfidf_char, y_train, x_test_tfidf_char, y_test)\n",
        "print(\"NB Tfidf char: \", accuracy)\n",
        "accuracyAnalysis[\"NB Tfidf char\"] = accuracy\n",
        "\n",
        "accuracy = model_training(naive_bayes.MultinomialNB(), x_train_ngram_tfidf_char, y_train, x_test_ngram_tfidf_char, y_test)\n",
        "print(\"NB ngram Tfidf char: \", accuracy)\n",
        "accuracyAnalysis[\"NB ngram Tfidf char\"] = accuracy"
      ],
      "execution_count": null,
      "outputs": [
        {
          "output_type": "stream",
          "text": [
            "NB countVectorizer:  0.6392792792792793\n",
            "NB Tfidf word:  0.6580180180180181\n",
            "NB ngram countVectorizer:  0.6374774774774775\n",
            "NB Tfidf char:  0.6234234234234234\n",
            "NB ngram Tfidf char:  0.6500900900900901\n"
          ],
          "name": "stdout"
        }
      ]
    },
    {
      "cell_type": "code",
      "metadata": {
        "outputId": "a8d1e07b-6552-4510-862b-4e8b21d8c295",
        "id": "IoOEB6dLEtbO",
        "colab": {
          "base_uri": "https://localhost:8080/",
          "height": 102
        }
      },
      "source": [
        "accuracy = model_training(svm.SVC(), x_train_count, y_train, x_test_count, y_test)\n",
        "print(\"SVM countVectorizer: \", accuracy)\n",
        "accuracyAnalysis[\"SVM countVectorizer\"] = accuracy\n",
        "\n",
        "accuracy = model_training(svm.SVC(), x_train_tfidf_word, y_train, x_test_tfidf_word, y_test)\n",
        "print(\"SVM Tfidf word: \", accuracy)\n",
        "accuracyAnalysis[\"SVM Tfidf word\"] = accuracy\n",
        "\n",
        "accuracy = model_training(svm.SVC(), x_train_ngram_tfidf_word, y_train, x_test_ngram_tfidf_word, y_test)\n",
        "print(\"SVM ngram countVectorizer: \", accuracy)\n",
        "accuracyAnalysis[\"SVM ngram countVectorizer\"] = accuracy\n",
        "\n",
        "accuracy = model_training(svm.SVC(), x_train_tfidf_char, y_train, x_test_tfidf_char, y_test)\n",
        "print(\"SVM Tfidf char: \", accuracy)\n",
        "accuracyAnalysis[\"SVM Tfidf char\"] = accuracy\n",
        "\n",
        "accuracy = model_training(svm.SVC(), x_train_ngram_tfidf_char, y_train, x_test_ngram_tfidf_char, y_test)\n",
        "print(\"SVM ngram Tfidf char: \", accuracy)\n",
        "accuracyAnalysis[\"SVM ngram Tfidf char\"] = accuracy"
      ],
      "execution_count": null,
      "outputs": [
        {
          "output_type": "stream",
          "text": [
            "SVM countVectorizer:  0.6767567567567567\n",
            "SVM Tfidf word:  0.6868468468468468\n",
            "SVM ngram countVectorizer:  0.6594594594594595\n",
            "SVM Tfidf char:  0.6443243243243243\n",
            "SVM ngram Tfidf char:  0.6778378378378378\n"
          ],
          "name": "stdout"
        }
      ]
    },
    {
      "cell_type": "code",
      "metadata": {
        "outputId": "420465c0-82c6-4e32-e1ef-450cb3474518",
        "id": "p5VZk2e6EtbQ",
        "colab": {
          "base_uri": "https://localhost:8080/",
          "height": 102
        }
      },
      "source": [
        "accuracy = model_training(linear_model.LogisticRegression(), x_train_count, y_train, x_test_count, y_test)\n",
        "print(\"LR countVectorizer: \", accuracy)\n",
        "accuracyAnalysis[\"LR countVectorizer\"] = accuracy\n",
        "\n",
        "accuracy = model_training(linear_model.LogisticRegression(), x_train_tfidf_word, y_train, x_test_tfidf_word, y_test)\n",
        "print(\"LR Tfidf word: \", accuracy)\n",
        "accuracyAnalysis[\"LR Tfidf word\"] = accuracy\n",
        "\n",
        "accuracy = model_training(linear_model.LogisticRegression(), x_train_ngram_tfidf_word, y_train, x_test_ngram_tfidf_word, y_test)\n",
        "print(\"LR ngram countVectorizer: \", accuracy)\n",
        "accuracyAnalysis[\"LR ngram countVectorizer\"] = accuracy\n",
        "\n",
        "accuracy = model_training(linear_model.LogisticRegression(), x_train_tfidf_char, y_train, x_test_tfidf_char, y_test)\n",
        "print(\"LR Tfidf char: \", accuracy)\n",
        "accuracyAnalysis[\"LR Tfidf char\"] = accuracy\n",
        "\n",
        "accuracy = model_training(linear_model.LogisticRegression(), x_train_ngram_tfidf_char, y_train, x_test_ngram_tfidf_char, y_test)\n",
        "print(\"LR ngram Tfidf char: \", accuracy)\n",
        "accuracyAnalysis[\"LR ngram Tfidf char\"] = accuracy"
      ],
      "execution_count": null,
      "outputs": [
        {
          "output_type": "stream",
          "text": [
            "LR countVectorizer:  0.6695495495495496\n",
            "LR Tfidf word:  0.6789189189189189\n",
            "LR ngram countVectorizer:  0.6522522522522523\n",
            "LR Tfidf char:  0.6288288288288288\n",
            "LR ngram Tfidf char:  0.6778378378378378\n"
          ],
          "name": "stdout"
        }
      ]
    },
    {
      "cell_type": "code",
      "metadata": {
        "outputId": "2fed9846-d5b7-4a35-9d17-f6b61fe66eae",
        "id": "K3V1l1cnEtbS",
        "colab": {
          "base_uri": "https://localhost:8080/",
          "height": 102
        }
      },
      "source": [
        "accuracy = model_training(ensemble.RandomForestClassifier(), x_train_count, y_train, x_test_count, y_test)\n",
        "print(\"RF countVectorizer: \", accuracy)\n",
        "accuracyAnalysis[\"RF countVectorizer\"] = accuracy\n",
        "\n",
        "accuracy = model_training(ensemble.RandomForestClassifier(), x_train_tfidf_word, y_train, x_test_tfidf_word, y_test)\n",
        "print(\"RF Tfidf word: \", accuracy)\n",
        "accuracyAnalysis[\"RF Tfidf word\"] = accuracy\n",
        "\n",
        "accuracy = model_training(ensemble.RandomForestClassifier(), x_train_ngram_tfidf_word, y_train, x_test_ngram_tfidf_word, y_test)\n",
        "print(\"RF ngram countVectorizer: \", accuracy)\n",
        "accuracyAnalysis[\"RF ngram countVectorizer\"] = accuracy\n",
        "\n",
        "accuracy = model_training(ensemble.RandomForestClassifier(), x_train_tfidf_char, y_train, x_test_tfidf_char, y_test)\n",
        "print(\"RF Tfidf char: \", accuracy)\n",
        "accuracyAnalysis[\"RF Tfidf char\"] = accuracy\n",
        "\n",
        "accuracy = model_training(ensemble.RandomForestClassifier(), x_train_ngram_tfidf_char, y_train, x_test_ngram_tfidf_char, y_test)\n",
        "print(\"RF ngram Tfidf char: \", accuracy)\n",
        "accuracyAnalysis[\"RF ngram Tfidf char\"] = accuracy"
      ],
      "execution_count": null,
      "outputs": [
        {
          "output_type": "stream",
          "text": [
            "RF countVectorizer:  0.6792792792792792\n",
            "RF Tfidf word:  0.6753153153153153\n",
            "RF ngram countVectorizer:  0.6500900900900901\n",
            "RF Tfidf char:  0.6684684684684684\n",
            "RF ngram Tfidf char:  0.6738738738738739\n"
          ],
          "name": "stdout"
        }
      ]
    },
    {
      "cell_type": "code",
      "metadata": {
        "outputId": "b254593b-6665-4928-a568-498ce97d1db9",
        "id": "DU315m7yEtbV",
        "colab": {
          "base_uri": "https://localhost:8080/",
          "height": 102
        }
      },
      "source": [
        "accuracy = model_training(ensemble.AdaBoostClassifier(), x_train_count, y_train, x_test_count, y_test)\n",
        "print(\"AB countVectorizer: \", accuracy)\n",
        "accuracyAnalysis[\"AB countVectorizer\"] = accuracy\n",
        "\n",
        "accuracy = model_training(ensemble.AdaBoostClassifier(), x_train_tfidf_word, y_train, x_test_tfidf_word, y_test)\n",
        "print(\"AB Tfidf word: \", accuracy)\n",
        "accuracyAnalysis[\"AB Tfidf word\"] = accuracy\n",
        "\n",
        "accuracy = model_training(ensemble.AdaBoostClassifier(), x_train_ngram_tfidf_word, y_train, x_test_ngram_tfidf_word, y_test)\n",
        "print(\"AB ngram countVectorizer: \", accuracy)\n",
        "accuracyAnalysis[\"AB ngram countVectorizer\"] = accuracy\n",
        "\n",
        "accuracy = model_training(ensemble.AdaBoostClassifier(), x_train_tfidf_char, y_train, x_test_tfidf_char, y_test)\n",
        "print(\"AB Tfidf char: \", accuracy)\n",
        "accuracyAnalysis[\"AB Tfidf char\"] = accuracy\n",
        "\n",
        "accuracy = model_training(ensemble.AdaBoostClassifier(), x_train_ngram_tfidf_char, y_train, x_test_ngram_tfidf_char, y_test)\n",
        "print(\"AB ngram Tfidf char: \", accuracy)\n",
        "accuracyAnalysis[\"AB ngram Tfidf char\"] = accuracy"
      ],
      "execution_count": null,
      "outputs": [
        {
          "output_type": "stream",
          "text": [
            "AB countVectorizer:  0.6428828828828829\n",
            "AB Tfidf word:  0.6457657657657657\n",
            "AB ngram countVectorizer:  0.64\n",
            "AB Tfidf char:  0.6389189189189189\n",
            "AB ngram Tfidf char:  0.6446846846846847\n"
          ],
          "name": "stdout"
        }
      ]
    },
    {
      "cell_type": "code",
      "metadata": {
        "outputId": "99ee40fc-5dd4-41fe-e96c-d70ece670ad1",
        "id": "083m77KAEtbX",
        "colab": {
          "base_uri": "https://localhost:8080/",
          "height": 102
        }
      },
      "source": [
        "accuracy = model_training(xgboost.XGBClassifier(), x_train_count, y_train, x_test_count, y_test)\n",
        "print(\"XGB countVectorizer: \", accuracy)\n",
        "accuracyAnalysis[\"XGB countVectorizer\"] = accuracy\n",
        "\n",
        "accuracy = model_training(xgboost.XGBClassifier(), x_train_tfidf_word, y_train, x_test_tfidf_word, y_test)\n",
        "print(\"XGB Tfidf word: \", accuracy)\n",
        "accuracyAnalysis[\"XGB Tfidf word\"] = accuracy\n",
        "\n",
        "accuracy = model_training(xgboost.XGBClassifier(), x_train_ngram_tfidf_word, y_train, x_test_ngram_tfidf_word, y_test)\n",
        "print(\"XGB ngram countVectorizer: \", accuracy)\n",
        "accuracyAnalysis[\"XGB ngram countVectorizer\"] = accuracy\n",
        "\n",
        "accuracy = model_training(xgboost.XGBClassifier(), x_train_tfidf_char, y_train, x_test_tfidf_char, y_test)\n",
        "print(\"XGB Tfidf char: \", accuracy)\n",
        "accuracyAnalysis[\"XGB Tfidf char\"] = accuracy\n",
        "\n",
        "accuracy = model_training(xgboost.XGBClassifier(), x_train_ngram_tfidf_char, y_train, x_test_ngram_tfidf_char, y_test)\n",
        "print(\"XGB ngram Tfidf char: \", accuracy)\n",
        "accuracyAnalysis[\"XGB ngram Tfidf char\"] = accuracy"
      ],
      "execution_count": null,
      "outputs": [
        {
          "output_type": "stream",
          "text": [
            "XGB countVectorizer:  0.6396396396396397\n",
            "XGB Tfidf word:  0.6446846846846847\n",
            "XGB ngram countVectorizer:  0.6363963963963964\n",
            "XGB Tfidf char:  0.6508108108108108\n",
            "XGB ngram Tfidf char:  0.6558558558558558\n"
          ],
          "name": "stdout"
        }
      ]
    },
    {
      "cell_type": "code",
      "metadata": {
        "outputId": "cb834f87-f906-4c60-e983-0765f8fb90e5",
        "id": "1eGlsnuVEtba",
        "colab": {
          "base_uri": "https://localhost:8080/",
          "height": 527
        }
      },
      "source": [
        "metrics = sorted(accuracyAnalysis.items(), key=lambda x: x[1], reverse=True)\n",
        "metrics"
      ],
      "execution_count": null,
      "outputs": [
        {
          "output_type": "execute_result",
          "data": {
            "text/plain": [
              "[('SVM Tfidf word', 0.6868468468468468),\n",
              " ('RF countVectorizer', 0.6792792792792792),\n",
              " ('LR Tfidf word', 0.6789189189189189),\n",
              " ('SVM ngram Tfidf char', 0.6778378378378378),\n",
              " ('LR ngram Tfidf char', 0.6778378378378378),\n",
              " ('SVM countVectorizer', 0.6767567567567567),\n",
              " ('RF Tfidf word', 0.6753153153153153),\n",
              " ('RF ngram Tfidf char', 0.6738738738738739),\n",
              " ('LR countVectorizer', 0.6695495495495496),\n",
              " ('RF Tfidf char', 0.6684684684684684),\n",
              " ('SVM ngram countVectorizer', 0.6594594594594595),\n",
              " ('NB Tfidf word', 0.6580180180180181),\n",
              " ('XGB ngram Tfidf char', 0.6558558558558558),\n",
              " ('LR ngram countVectorizer', 0.6522522522522523),\n",
              " ('XGB Tfidf char', 0.6508108108108108),\n",
              " ('NB ngram Tfidf char', 0.6500900900900901),\n",
              " ('RF ngram countVectorizer', 0.6500900900900901),\n",
              " ('AB Tfidf word', 0.6457657657657657),\n",
              " ('AB ngram Tfidf char', 0.6446846846846847),\n",
              " ('XGB Tfidf word', 0.6446846846846847),\n",
              " ('SVM Tfidf char', 0.6443243243243243),\n",
              " ('AB countVectorizer', 0.6428828828828829),\n",
              " ('AB ngram countVectorizer', 0.64),\n",
              " ('XGB countVectorizer', 0.6396396396396397),\n",
              " ('NB countVectorizer', 0.6392792792792793),\n",
              " ('AB Tfidf char', 0.6389189189189189),\n",
              " ('NB ngram countVectorizer', 0.6374774774774775),\n",
              " ('XGB ngram countVectorizer', 0.6363963963963964),\n",
              " ('LR Tfidf char', 0.6288288288288288),\n",
              " ('NB Tfidf char', 0.6234234234234234)]"
            ]
          },
          "metadata": {
            "tags": []
          },
          "execution_count": 45
        }
      ]
    },
    {
      "cell_type": "code",
      "metadata": {
        "outputId": "a5bf6f45-00c3-40f4-8921-1943a232ca75",
        "id": "Nc-l_AZiEtbd",
        "colab": {
          "base_uri": "https://localhost:8080/",
          "height": 425
        }
      },
      "source": [
        "import matplotlib.pyplot as plt\n",
        "!matplotlib inline\n",
        "\n",
        "x_metrics_lemmet = []\n",
        "y_metrics_lemmet = []\n",
        "\n",
        "for i in metrics:\n",
        "  x_metrics_lemmet.append(i[0])\n",
        "  y_metrics_lemmet.append(i[1])\n",
        "\n",
        "\n",
        "plt.xlabel(\"Classification Models for text Data With Lemmatization and Stopwords\")\n",
        "plt.ylabel(\"Accuracy Score\")\n",
        "# plt.plot(x_metrics_lemmet, y_metrics_lemmet)\n",
        "plt.bar(x_metrics_lemmet, y_metrics_lemmet)\n",
        "plt.xticks(x_metrics_lemmet, rotation='vertical')\n",
        "plt.show()"
      ],
      "execution_count": null,
      "outputs": [
        {
          "output_type": "stream",
          "text": [
            "/bin/bash: matplotlib: command not found\n"
          ],
          "name": "stdout"
        },
        {
          "output_type": "display_data",
          "data": {
            "image/png": "[encoded data removed]",
            "text/plain": [
              "<Figure size 432x288 with 1 Axes>"
            ]
          },
          "metadata": {
            "tags": [],
            "needs_background": "light"
          }
        }
      ]
    },
    {
      "cell_type": "markdown",
      "metadata": {
        "id": "uhTSZWRxHopo"
      },
      "source": [
        "#Accuracy Measures of Models with and without (Lemmatization and Stopwords)"
      ]
    },
    {
      "cell_type": "code",
      "metadata": {
        "id": "mLeW4ZpBH2va",
        "outputId": "ec8a8be8-a777-471b-dc16-b5520c5c6925",
        "colab": {
          "base_uri": "https://localhost:8080/",
          "height": 408
        }
      },
      "source": [
        "plt.xlabel(\"Classification Models for text Data With Lemmatization and Stopwords\")\n",
        "plt.ylabel(\"Accuracy Score\")\n",
        "# plt.plot(x_metrics, y_metrics)\n",
        "plt.bar(x_metrics, y_metrics)\n",
        "plt.xticks(x_metrics, rotation='vertical')\n",
        "plt.show()"
      ],
      "execution_count": null,
      "outputs": [
        {
          "output_type": "display_data",
          "data": {
            "image/png": "[encoded data removed]",
            "text/plain": [
              "<Figure size 432x288 with 1 Axes>"
            ]
          },
          "metadata": {
            "tags": [],
            "needs_background": "light"
          }
        }
      ]
    },
    {
      "cell_type": "code",
      "metadata": {
        "id": "lyvRBwKQHxS-",
        "outputId": "5eff3eed-e978-4c63-c1f2-9328924ae2a3",
        "colab": {
          "base_uri": "https://localhost:8080/",
          "height": 408
        }
      },
      "source": [
        "plt.xlabel(\"Classification Models for text Data With Lemmatization and Stopwords\")\n",
        "plt.ylabel(\"Accuracy Score\")\n",
        "# plt.plot(x_metrics_lemmet, y_metrics_lemmet)\n",
        "plt.bar(x_metrics_lemmet, y_metrics_lemmet)\n",
        "plt.xticks(x_metrics_lemmet, rotation='vertical')\n",
        "plt.show()"
      ],
      "execution_count": null,
      "outputs": [
        {
          "output_type": "display_data",
          "data": {
            "image/png": "[encoded data removed]",
            "text/plain": [
              "<Figure size 432x288 with 1 Axes>"
            ]
          },
          "metadata": {
            "tags": [],
            "needs_background": "light"
          }
        }
      ]
    }
  ]
}