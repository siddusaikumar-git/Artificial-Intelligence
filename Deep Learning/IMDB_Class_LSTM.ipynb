{
  "nbformat": 4,
  "nbformat_minor": 0,
  "metadata": {
    "colab": {
      "provenance": []
    },
    "kernelspec": {
      "name": "python3",
      "display_name": "Python 3"
    },
    "accelerator": "TPU"
  },
  "cells": [
    {
      "cell_type": "code",
      "metadata": {
        "id": "KrQgreUlMqj4"
      },
      "source": [
        "import pandas as pd\n",
        "import numpy as np\n",
        "\n",
        "from sklearn.model_selection import train_test_split\n",
        "from sklearn.preprocessing import LabelEncoder\n",
        "\n",
        "from keras.preprocessing.text import Tokenizer\n",
        "from keras.layers import LSTM, Dense, Dropout, Embedding\n",
        "from keras.models import Model, Sequential\n",
        "from keras.preprocessing.sequence import pad_sequences\n"
      ],
      "execution_count": null,
      "outputs": []
    },
    {
      "cell_type": "code",
      "metadata": {
        "id": "pjQg2PE1N0JC",
        "colab": {
          "base_uri": "https://localhost:8080/",
          "height": 51
        },
        "outputId": "dc6714fb-0f71-45d3-b080-eddd1c91ec49"
      },
      "source": [
        "from keras.datasets import imdb\n",
        "top_words = 5000\n",
        "(x_train, y_train), (x_test, y_test) = imdb.load_data(nb_words=top_words)"
      ],
      "execution_count": null,
      "outputs": [
        {
          "output_type": "stream",
          "text": [
            "/usr/local/lib/python3.6/dist-packages/keras/datasets/imdb.py:49: UserWarning: The `nb_words` argument in `load_data` has been renamed `num_words`.\n",
            "  warnings.warn('The `nb_words` argument in `load_data` '\n"
          ],
          "name": "stderr"
        }
      ]
    },
    {
      "cell_type": "code",
      "metadata": {
        "id": "sNgS5OP4PZfP",
        "colab": {
          "base_uri": "https://localhost:8080/",
          "height": 34
        },
        "outputId": "162a48b3-e1d4-4ee6-b301-845ace964b0b"
      },
      "source": [
        "top_words"
      ],
      "execution_count": null,
      "outputs": [
        {
          "output_type": "execute_result",
          "data": {
            "text/plain": [
              "5000"
            ]
          },
          "metadata": {
            "tags": []
          },
          "execution_count": 10
        }
      ]
    },
    {
      "cell_type": "code",
      "metadata": {
        "id": "jRLcR7IuOI-y",
        "colab": {
          "base_uri": "https://localhost:8080/",
          "height": 952
        },
        "outputId": "9c5463ad-3f66-404e-bd6e-120bcacb1ef1"
      },
      "source": [
        "x_train = pad_sequences(x_train, maxlen=600)\n",
        "x_test = pad_sequences(x_test, maxlen=600)\n",
        "x_train[0]"
      ],
      "execution_count": null,
      "outputs": [
        {
          "output_type": "execute_result",
          "data": {
            "text/plain": [
              "array([   0,    0,    0,    0,    0,    0,    0,    0,    0,    0,    0,\n",
              "          0,    0,    0,    0,    0,    0,    0,    0,    0,    0,    0,\n",
              "          0,    0,    0,    0,    0,    0,    0,    0,    0,    0,    0,\n",
              "          0,    0,    0,    0,    0,    0,    0,    0,    0,    0,    0,\n",
              "          0,    0,    0,    0,    0,    0,    0,    0,    0,    0,    0,\n",
              "          0,    0,    0,    0,    0,    0,    0,    0,    0,    0,    0,\n",
              "          0,    0,    0,    0,    0,    0,    0,    0,    0,    0,    0,\n",
              "          0,    0,    0,    0,    0,    0,    0,    0,    0,    0,    0,\n",
              "          0,    0,    0,    0,    0,    0,    0,    0,    0,    0,    0,\n",
              "          0,    0,    0,    0,    0,    0,    0,    0,    0,    0,    0,\n",
              "          0,    0,    0,    0,    0,    0,    0,    0,    0,    0,    0,\n",
              "          0,    0,    0,    0,    0,    0,    0,    0,    0,    0,    0,\n",
              "          0,    0,    0,    0,    0,    0,    0,    0,    0,    0,    0,\n",
              "          0,    0,    0,    0,    0,    0,    0,    0,    0,    0,    0,\n",
              "          0,    0,    0,    0,    0,    0,    0,    0,    0,    0,    0,\n",
              "          0,    0,    0,    0,    0,    0,    0,    0,    0,    0,    0,\n",
              "          0,    0,    0,    0,    0,    0,    0,    0,    0,    0,    0,\n",
              "          0,    0,    0,    0,    0,    0,    0,    0,    0,    0,    0,\n",
              "          0,    0,    0,    0,    0,    0,    0,    0,    0,    0,    0,\n",
              "          0,    0,    0,    0,    0,    0,    0,    0,    0,    0,    0,\n",
              "          0,    0,    0,    0,    0,    0,    0,    0,    0,    0,    0,\n",
              "          0,    0,    0,    0,    0,    0,    0,    0,    0,    0,    0,\n",
              "          0,    0,    0,    0,    0,    0,    0,    0,    0,    0,    0,\n",
              "          0,    0,    0,    0,    0,    0,    0,    0,    0,    0,    0,\n",
              "          0,    0,    0,    0,    0,    0,    0,    0,    0,    0,    0,\n",
              "          0,    0,    0,    0,    0,    0,    0,    0,    0,    0,    0,\n",
              "          0,    0,    0,    0,    0,    0,    0,    0,    0,    0,    0,\n",
              "          0,    0,    0,    0,    0,    0,    0,    0,    0,    0,    0,\n",
              "          0,    0,    0,    0,    0,    0,    0,    0,    0,    0,    0,\n",
              "          0,    0,    0,    0,    0,    0,    0,    0,    0,    0,    0,\n",
              "          0,    0,    0,    0,    0,    0,    0,    0,    0,    0,    0,\n",
              "          0,    0,    0,    0,    0,    0,    0,    0,    0,    0,    0,\n",
              "          0,    0,    0,    0,    0,    0,    0,    0,    0,    0,    0,\n",
              "          0,    0,    0,    0,    0,    0,    0,    0,    0,    0,    0,\n",
              "          0,    0,    0,    0,    0,    0,    0,    0,    1,   14,   22,\n",
              "         16,   43,  530,  973, 1622, 1385,   65,  458, 4468,   66, 3941,\n",
              "          4,  173,   36,  256,    5,   25,  100,   43,  838,  112,   50,\n",
              "        670,    2,    9,   35,  480,  284,    5,  150,    4,  172,  112,\n",
              "        167,    2,  336,  385,   39,    4,  172, 4536, 1111,   17,  546,\n",
              "         38,   13,  447,    4,  192,   50,   16,    6,  147, 2025,   19,\n",
              "         14,   22,    4, 1920, 4613,  469,    4,   22,   71,   87,   12,\n",
              "         16,   43,  530,   38,   76,   15,   13, 1247,    4,   22,   17,\n",
              "        515,   17,   12,   16,  626,   18,    2,    5,   62,  386,   12,\n",
              "          8,  316,    8,  106,    5,    4, 2223,    2,   16,  480,   66,\n",
              "       3785,   33,    4,  130,   12,   16,   38,  619,    5,   25,  124,\n",
              "         51,   36,  135,   48,   25, 1415,   33,    6,   22,   12,  215,\n",
              "         28,   77,   52,    5,   14,  407,   16,   82,    2,    8,    4,\n",
              "        107,  117,    2,   15,  256,    4,    2,    7, 3766,    5,  723,\n",
              "         36,   71,   43,  530,  476,   26,  400,  317,   46,    7,    4,\n",
              "          2, 1029,   13,  104,   88,    4,  381,   15,  297,   98,   32,\n",
              "       2071,   56,   26,  141,    6,  194,    2,   18,    4,  226,   22,\n",
              "         21,  134,  476,   26,  480,    5,  144,   30,    2,   18,   51,\n",
              "         36,   28,  224,   92,   25,  104,    4,  226,   65,   16,   38,\n",
              "       1334,   88,   12,   16,  283,    5,   16, 4472,  113,  103,   32,\n",
              "         15,   16,    2,   19,  178,   32], dtype=int32)"
            ]
          },
          "metadata": {
            "tags": []
          },
          "execution_count": 17
        }
      ]
    },
    {
      "cell_type": "code",
      "metadata": {
        "id": "3wTZ5YyXOkZY",
        "colab": {
          "base_uri": "https://localhost:8080/",
          "height": 255
        },
        "outputId": "b285946e-0a1c-466c-e87c-68c1d7bb182d"
      },
      "source": [
        "\n",
        "model = Sequential()\n",
        "\n",
        "model.add(Embedding(top_words+1, 32, input_length=600))\n",
        "model.add(LSTM(100))\n",
        "model.add(Dense(1, activation='sigmoid'))\n",
        "\n",
        "model.compile(loss='binary_crossentropy', metrics=['accuracy'], optimizer='adam')\n",
        "\n",
        "model.summary()"
      ],
      "execution_count": null,
      "outputs": [
        {
          "output_type": "stream",
          "text": [
            "Model: \"sequential_4\"\n",
            "_________________________________________________________________\n",
            "Layer (type)                 Output Shape              Param #   \n",
            "=================================================================\n",
            "embedding_4 (Embedding)      (None, 600, 32)           160032    \n",
            "_________________________________________________________________\n",
            "lstm_4 (LSTM)                (None, 100)               53200     \n",
            "_________________________________________________________________\n",
            "dense_5 (Dense)              (None, 1)                 101       \n",
            "=================================================================\n",
            "Total params: 213,333\n",
            "Trainable params: 213,333\n",
            "Non-trainable params: 0\n",
            "_________________________________________________________________\n"
          ],
          "name": "stdout"
        }
      ]
    },
    {
      "cell_type": "code",
      "metadata": {
        "id": "KXJEm2-GP4IU",
        "colab": {
          "base_uri": "https://localhost:8080/",
          "height": 275
        },
        "outputId": "184e7f91-c9fb-4bcb-fac3-c8f40d35c439"
      },
      "source": [
        "model.fit(x_train, y_train, validation_split=0.2, batch_size=64, epochs=5)"
      ],
      "execution_count": null,
      "outputs": [
        {
          "output_type": "stream",
          "text": [
            "/usr/local/lib/python3.6/dist-packages/tensorflow/python/framework/indexed_slices.py:434: UserWarning: Converting sparse IndexedSlices to a dense Tensor of unknown shape. This may consume a large amount of memory.\n",
            "  \"Converting sparse IndexedSlices to a dense Tensor of unknown shape. \"\n"
          ],
          "name": "stderr"
        },
        {
          "output_type": "stream",
          "text": [
            "Train on 20000 samples, validate on 5000 samples\n",
            "Epoch 1/5\n",
            "20000/20000 [==============================] - 265s 13ms/step - loss: 0.5108 - accuracy: 0.7407 - val_loss: 0.3490 - val_accuracy: 0.8524\n",
            "Epoch 2/5\n",
            "20000/20000 [==============================] - 261s 13ms/step - loss: 0.2961 - accuracy: 0.8819 - val_loss: 0.3599 - val_accuracy: 0.8512\n",
            "Epoch 3/5\n",
            "20000/20000 [==============================] - 263s 13ms/step - loss: 0.2415 - accuracy: 0.9062 - val_loss: 0.3383 - val_accuracy: 0.8734\n",
            "Epoch 4/5\n",
            "20000/20000 [==============================] - 259s 13ms/step - loss: 0.2035 - accuracy: 0.9258 - val_loss: 0.3616 - val_accuracy: 0.8704\n",
            "Epoch 5/5\n",
            "20000/20000 [==============================] - 260s 13ms/step - loss: 0.2055 - accuracy: 0.9214 - val_loss: 0.3628 - val_accuracy: 0.8584\n"
          ],
          "name": "stdout"
        },
        {
          "output_type": "execute_result",
          "data": {
            "text/plain": [
              "<keras.callbacks.callbacks.History at 0x7fa8afdb1f60>"
            ]
          },
          "metadata": {
            "tags": []
          },
          "execution_count": 19
        }
      ]
    }
  ]
}