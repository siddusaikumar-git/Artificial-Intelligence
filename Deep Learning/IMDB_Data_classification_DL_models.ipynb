{
  "nbformat": 4,
  "nbformat_minor": 0,
  "metadata": {
    "colab": {
      "provenance": []
    },
    "kernelspec": {
      "name": "python3",
      "display_name": "Python 3"
    },
    "accelerator": "GPU"
  },
  "cells": [
    {
      "cell_type": "markdown",
      "metadata": {
        "id": "vrvRTi-j8liK"
      },
      "source": [
        "# Deep Neural Networks on IMDB Analysis Data\n",
        "1. LSTM\n",
        "2. CNN\n",
        "3. GRU\n",
        "4. BiDirectional GRU\n",
        "5. Bidirectional CNN\n",
        "\n"
      ]
    },
    {
      "cell_type": "markdown",
      "metadata": {
        "id": "BQzJlsNtsMCE"
      },
      "source": [
        "*Import Libraries and loading Data*"
      ]
    },
    {
      "cell_type": "code",
      "metadata": {
        "id": "rrJ_Dbr88sUU",
        "colab": {
          "base_uri": "https://localhost:8080/",
          "height": 292
        },
        "outputId": "7bdc4888-2c95-4e3c-a302-52aafd81c8f3"
      },
      "source": [
        "!pip install contractions\n",
        "import pandas as pd\n",
        "import numpy as np\n",
        "import re\n",
        "import string\n",
        "import contractions\n",
        "\n",
        "from sklearn.preprocessing import LabelEncoder\n",
        "from sklearn.model_selection import train_test_split\n",
        "from sklearn import preprocessing, model_selection\n",
        "from keras import Sequential\n",
        "from keras.preprocessing.text import Tokenizer\n",
        "from keras.preprocessing.sequence import pad_sequences\n",
        "from keras.utils import to_categorical\n",
        "from keras import layers, models, optimizers\n",
        "\n",
        "df = pd.read_csv(\"/content/drive/My Drive/ML_Data/IMDB Dataset.csv\")\n",
        "\n",
        "x = df['review']\n",
        "y = df['sentiment']\n",
        "\n",
        "df.head()"
      ],
      "execution_count": null,
      "outputs": [
        {
          "output_type": "stream",
          "text": [
            "Requirement already satisfied: contractions in /usr/local/lib/python3.6/dist-packages (0.0.24)\n",
            "Requirement already satisfied: textsearch in /usr/local/lib/python3.6/dist-packages (from contractions) (0.0.17)\n",
            "Requirement already satisfied: Unidecode in /usr/local/lib/python3.6/dist-packages (from textsearch->contractions) (1.1.1)\n",
            "Requirement already satisfied: pyahocorasick in /usr/local/lib/python3.6/dist-packages (from textsearch->contractions) (1.4.0)\n"
          ],
          "name": "stdout"
        },
        {
          "output_type": "execute_result",
          "data": {
            "text/html": [
              "<div>\n",
              "<style scoped>\n",
              "    .dataframe tbody tr th:only-of-type {\n",
              "        vertical-align: middle;\n",
              "    }\n",
              "\n",
              "    .dataframe tbody tr th {\n",
              "        vertical-align: top;\n",
              "    }\n",
              "\n",
              "    .dataframe thead th {\n",
              "        text-align: right;\n",
              "    }\n",
              "</style>\n",
              "<table border=\"1\" class=\"dataframe\">\n",
              "  <thead>\n",
              "    <tr style=\"text-align: right;\">\n",
              "      <th></th>\n",
              "      <th>review</th>\n",
              "      <th>sentiment</th>\n",
              "    </tr>\n",
              "  </thead>\n",
              "  <tbody>\n",
              "    <tr>\n",
              "      <th>0</th>\n",
              "      <td>One of the other reviewers has mentioned that ...</td>\n",
              "      <td>positive</td>\n",
              "    </tr>\n",
              "    <tr>\n",
              "      <th>1</th>\n",
              "      <td>A wonderful little production. &lt;br /&gt;&lt;br /&gt;The...</td>\n",
              "      <td>positive</td>\n",
              "    </tr>\n",
              "    <tr>\n",
              "      <th>2</th>\n",
              "      <td>I thought this was a wonderful way to spend ti...</td>\n",
              "      <td>positive</td>\n",
              "    </tr>\n",
              "    <tr>\n",
              "      <th>3</th>\n",
              "      <td>Basically there's a family where a little boy ...</td>\n",
              "      <td>negative</td>\n",
              "    </tr>\n",
              "    <tr>\n",
              "      <th>4</th>\n",
              "      <td>Petter Mattei's \"Love in the Time of Money\" is...</td>\n",
              "      <td>positive</td>\n",
              "    </tr>\n",
              "  </tbody>\n",
              "</table>\n",
              "</div>"
            ],
            "text/plain": [
              "                                              review sentiment\n",
              "0  One of the other reviewers has mentioned that ...  positive\n",
              "1  A wonderful little production. <br /><br />The...  positive\n",
              "2  I thought this was a wonderful way to spend ti...  positive\n",
              "3  Basically there's a family where a little boy ...  negative\n",
              "4  Petter Mattei's \"Love in the Time of Money\" is...  positive"
            ]
          },
          "metadata": {
            "tags": []
          },
          "execution_count": 32
        }
      ]
    },
    {
      "cell_type": "markdown",
      "metadata": {
        "id": "YCReSKywtngR"
      },
      "source": [
        "*Noise Removal and Normalizing Data*"
      ]
    },
    {
      "cell_type": "code",
      "metadata": {
        "id": "DeQAMavjApHq"
      },
      "source": [
        "def normalize_text(sentence):\n",
        "  sentence = sentence.strip()  # removes the starting and ending spaces\n",
        "  sentence = re.sub(r'(https|http)?:\\/\\/(\\w|\\.|\\/|\\?|\\=|\\&|\\%)*\\b', '', sentence) # removes links with http/https\n",
        "  sentence = re.sub(r'[\\[].*\\]', '', sentence) # removes square brackets and text present inside it.\n",
        "  sentence = sentence.translate(str.maketrans('', '', string.punctuation)) # removes punctuation.\n",
        "  sentence = contractions.fix(sentence) # fixes contractions\n",
        "  sentence = sentence.lower() # converts to lower case\n",
        "  return sentence\n",
        "\n",
        "x = x.apply(lambda val : normalize_text(val))\n",
        "\n",
        "label = preprocessing.LabelEncoder()\n",
        "y = label.fit_transform(y)"
      ],
      "execution_count": null,
      "outputs": []
    },
    {
      "cell_type": "code",
      "metadata": {
        "id": "aOK7OcB1AqWb"
      },
      "source": [
        "# # Encoding the input text\n",
        "\n",
        "# count_label = CountVectorizer(analyzer='word', token_pattern=r'\\w{1,}')\n",
        "# x_count = count_label.fit_transform(x)\n",
        "\n",
        "# tfidf_word_label = TfidfVectorizer(analyzer='word', token_pattern=r'\\w{1,}', max_features=5000)\n",
        "# x_tfidf_word = tfidf_word_label.fit_transform(x)\n",
        "\n",
        "# tfidf_ngram_word_label = TfidfVectorizer(analyzer='word', ngram_range=(2, 3), token_pattern=r'\\w{1,}', max_features=5000)\n",
        "# x_ngram_tfidf_word = tfidf_ngram_word_label.fit_transform(x)\n",
        "\n",
        "# tfidf_char_label = TfidfVectorizer(analyzer='char', token_pattern=r'\\w{1,}', max_features=5000)\n",
        "# x_tfidf_char = tfidf_char_label.fit_transform(x)\n",
        "\n",
        "# tfidf_ngram_char_label = TfidfVectorizer(analyzer='char', ngram_range=(2, 3), token_pattern=r'\\w{1,}', max_features=5000)\n",
        "# x_ngram_tfidf_char = tfidf_ngram_char_label.fit_transform(x)\n"
      ],
      "execution_count": null,
      "outputs": []
    },
    {
      "cell_type": "code",
      "metadata": {
        "id": "d0BDsCJKAsib"
      },
      "source": [
        "# x_train_count, x_test_count, y_train, y_test = train_test_split(x_count, y, test_size=0.2, random_state=42)\n",
        "\n",
        "# x_train_tfidf_word, x_test_tfidf_word, y_train, y_test = train_test_split(x_tfidf_word, y, test_size=0.2, random_state=42)\n",
        "\n",
        "# x_train_ngram_tfidf_word, x_test_ngram_tfidf_word, y_train, y_test = train_test_split(x_ngram_tfidf_word, y, test_size=0.2, random_state=42)\n",
        "\n",
        "# x_train_tfidf_char,  x_test_tfidf_char, y_train, y_test = train_test_split(x_tfidf_char, y, test_size=0.2, random_state=42)\n",
        "\n",
        "# x_train_ngram_tfidf_char,  x_test_ngram_tfidf_char, y_train, y_test = train_test_split(x_ngram_tfidf_char, y, test_size=0.2, random_state=42)\n"
      ],
      "execution_count": null,
      "outputs": []
    },
    {
      "cell_type": "markdown",
      "metadata": {
        "id": "5mhQmyqgtxGC"
      },
      "source": [
        "*Encoding /Tokenizing the Data*"
      ]
    },
    {
      "cell_type": "code",
      "metadata": {
        "id": "Pe6K8MheKffd"
      },
      "source": [
        "token = Tokenizer()\n",
        "token.fit_on_texts(x)\n",
        "\n",
        "word_index = token.word_index\n",
        "\n",
        "x = pad_sequences(token.texts_to_sequences(x), maxlen=70)\n",
        "\n",
        "x_train_seq, x_test_seq, y_train, y_test = train_test_split(x, y, test_size=0.2, random_state=42)\n",
        "\n",
        "# y_train = to_categorical(y_train)"
      ],
      "execution_count": null,
      "outputs": []
    },
    {
      "cell_type": "markdown",
      "metadata": {
        "id": "FLrjOn-NuWk-"
      },
      "source": [
        "*Training, Predicting Test data and Calculating Accuracy*"
      ]
    },
    {
      "cell_type": "code",
      "metadata": {
        "id": "Lbeu5Sdjfrai"
      },
      "source": [
        "from sklearn.metrics import accuracy_score, f1_score, classification_report\n",
        "\n",
        "def NN_model_training(model, x_train, y_train, x_test, y_test):\n",
        "\n",
        "  model.fit(x_train, y_train, batch_size=32, epochs=10, validation_split=0.2 )\n",
        "\n",
        "  y_pred = model.predict_classes(x_test)\n",
        "\n",
        "  return accuracy_score(y_pred, y_test)\n",
        "\n",
        "accuracyAnalysis = {}"
      ],
      "execution_count": null,
      "outputs": []
    },
    {
      "cell_type": "markdown",
      "metadata": {
        "id": "HDwWug9vuvXN"
      },
      "source": [
        "*LSTM Model Analysis*"
      ]
    },
    {
      "cell_type": "code",
      "metadata": {
        "id": "Dcf0ehWQJflu",
        "outputId": "fb711bd8-eb8d-4d9a-b669-3ca1bf4012c0",
        "colab": {
          "base_uri": "https://localhost:8080/",
          "height": 751
        }
      },
      "source": [
        "def LSTM_classification(x_train_seq):\n",
        "\n",
        "  model = Sequential()\n",
        "  model.add(layers.Embedding(input_dim=len(word_index)+1, output_dim=300, input_length=x_train_seq.shape[1]))\n",
        "  model.add(layers.LSTM(100))\n",
        "  model.add(layers.Dense(50, activation='relu'))\n",
        "  model.add(layers.Dropout(0.2))\n",
        "  model.add(layers.Dense(1, activation='sigmoid'))\n",
        "  model.compile(optimizer='adam', loss='binary_crossentropy', metrics=['accuracy'])\n",
        "  model.summary()\n",
        "\n",
        "  return model\n",
        "\n",
        "model = LSTM_classification(x_train_seq)\n",
        "\n",
        "accuracy = NN_model_training(model, x_train_seq, y_train, x_test_seq, y_test)\n",
        "\n",
        "print(\"LSTM accuracy score: \", accuracy)\n",
        "accuracyAnalysis[\"LSTM accuracy score\"] = accuracy"
      ],
      "execution_count": null,
      "outputs": [
        {
          "output_type": "stream",
          "text": [
            "Model: \"sequential_4\"\n",
            "_________________________________________________________________\n",
            "Layer (type)                 Output Shape              Param #   \n",
            "=================================================================\n",
            "embedding_4 (Embedding)      (None, 70, 300)           54712200  \n",
            "_________________________________________________________________\n",
            "lstm_4 (LSTM)                (None, 100)               160400    \n",
            "_________________________________________________________________\n",
            "dense_7 (Dense)              (None, 50)                5050      \n",
            "_________________________________________________________________\n",
            "dropout_4 (Dropout)          (None, 50)                0         \n",
            "_________________________________________________________________\n",
            "dense_8 (Dense)              (None, 1)                 51        \n",
            "=================================================================\n",
            "Total params: 54,877,701\n",
            "Trainable params: 54,877,701\n",
            "Non-trainable params: 0\n",
            "_________________________________________________________________\n"
          ],
          "name": "stdout"
        },
        {
          "output_type": "stream",
          "text": [
            "/usr/local/lib/python3.6/dist-packages/tensorflow/python/framework/indexed_slices.py:434: UserWarning: Converting sparse IndexedSlices to a dense Tensor of unknown shape. This may consume a large amount of memory.\n",
            "  \"Converting sparse IndexedSlices to a dense Tensor of unknown shape. \"\n"
          ],
          "name": "stderr"
        },
        {
          "output_type": "stream",
          "text": [
            "Train on 32000 samples, validate on 8000 samples\n",
            "Epoch 1/10\n",
            "32000/32000 [==============================] - 185s 6ms/step - loss: 0.4183 - accuracy: 0.8048 - val_loss: 0.3705 - val_accuracy: 0.8336\n",
            "Epoch 2/10\n",
            "32000/32000 [==============================] - 184s 6ms/step - loss: 0.1927 - accuracy: 0.9258 - val_loss: 0.4473 - val_accuracy: 0.8324\n",
            "Epoch 3/10\n",
            "32000/32000 [==============================] - 184s 6ms/step - loss: 0.0840 - accuracy: 0.9698 - val_loss: 0.5676 - val_accuracy: 0.8290\n",
            "Epoch 4/10\n",
            "32000/32000 [==============================] - 181s 6ms/step - loss: 0.0442 - accuracy: 0.9848 - val_loss: 0.6948 - val_accuracy: 0.8166\n",
            "Epoch 5/10\n",
            "32000/32000 [==============================] - 183s 6ms/step - loss: 0.0216 - accuracy: 0.9927 - val_loss: 0.8057 - val_accuracy: 0.8209\n",
            "Epoch 6/10\n",
            "32000/32000 [==============================] - 182s 6ms/step - loss: 0.0156 - accuracy: 0.9952 - val_loss: 0.9516 - val_accuracy: 0.8224\n",
            "Epoch 7/10\n",
            "32000/32000 [==============================] - 179s 6ms/step - loss: 0.0106 - accuracy: 0.9966 - val_loss: 0.9263 - val_accuracy: 0.8110\n",
            "Epoch 8/10\n",
            "32000/32000 [==============================] - 178s 6ms/step - loss: 0.0102 - accuracy: 0.9964 - val_loss: 1.0607 - val_accuracy: 0.8150\n",
            "Epoch 9/10\n",
            "32000/32000 [==============================] - 178s 6ms/step - loss: 0.0067 - accuracy: 0.9978 - val_loss: 1.1512 - val_accuracy: 0.8205\n",
            "Epoch 10/10\n",
            "32000/32000 [==============================] - 183s 6ms/step - loss: 0.0035 - accuracy: 0.9990 - val_loss: 1.2706 - val_accuracy: 0.8200\n",
            "LSTM accuracy score:  0.8191\n"
          ],
          "name": "stdout"
        }
      ]
    },
    {
      "cell_type": "code",
      "metadata": {
        "id": "u29EUTEZD9UD"
      },
      "source": [],
      "execution_count": null,
      "outputs": []
    },
    {
      "cell_type": "markdown",
      "metadata": {
        "id": "XUvC-niUu2Ul"
      },
      "source": [
        "*CNN Model Analysis*"
      ]
    },
    {
      "cell_type": "code",
      "metadata": {
        "id": "NUQrHb-9zvlW",
        "outputId": "12a8efd5-e59b-4221-b380-a3856c1583d3",
        "colab": {
          "base_uri": "https://localhost:8080/",
          "height": 819
        }
      },
      "source": [
        "def CNN_classification(x_train_seq):\n",
        "\n",
        "  model = Sequential()\n",
        "  model.add(layers.Embedding(input_dim=len(word_index)+1, output_dim=300, input_length=x_train_seq.shape[1]))\n",
        "  model.add(layers.SpatialDropout1D(0.3))\n",
        "  model.add(layers.Convolution1D(100, 3, activation='relu'))\n",
        "  model.add(layers.GlobalMaxPool1D())\n",
        "  model.add(layers.Dense(100, activation='relu'))\n",
        "  model.add(layers.Dropout(0.25))\n",
        "  model.add(layers.Dense(1, activation='sigmoid'))\n",
        "\n",
        "  model.compile(optimizer='adam', loss='binary_crossentropy', metrics=['accuracy'])\n",
        "\n",
        "  model.summary()\n",
        "\n",
        "  return model\n",
        "model = CNN_classification(x_train_seq)\n",
        "\n",
        "accuracy = NN_model_training(model, x_train_seq, y_train, x_test_seq, y_test)\n",
        "\n",
        "print(\"CNN accuracy score: \", accuracy)\n",
        "accuracyAnalysis[\"CNN accuracy score\"] = accuracy"
      ],
      "execution_count": null,
      "outputs": [
        {
          "output_type": "stream",
          "text": [
            "Model: \"sequential_5\"\n",
            "_________________________________________________________________\n",
            "Layer (type)                 Output Shape              Param #   \n",
            "=================================================================\n",
            "embedding_5 (Embedding)      (None, 70, 300)           54712200  \n",
            "_________________________________________________________________\n",
            "spatial_dropout1d_1 (Spatial (None, 70, 300)           0         \n",
            "_________________________________________________________________\n",
            "conv1d_1 (Conv1D)            (None, 68, 100)           90100     \n",
            "_________________________________________________________________\n",
            "global_max_pooling1d_1 (Glob (None, 100)               0         \n",
            "_________________________________________________________________\n",
            "dense_9 (Dense)              (None, 100)               10100     \n",
            "_________________________________________________________________\n",
            "dropout_5 (Dropout)          (None, 100)               0         \n",
            "_________________________________________________________________\n",
            "dense_10 (Dense)             (None, 1)                 101       \n",
            "=================================================================\n",
            "Total params: 54,812,501\n",
            "Trainable params: 54,812,501\n",
            "Non-trainable params: 0\n",
            "_________________________________________________________________\n"
          ],
          "name": "stdout"
        },
        {
          "output_type": "stream",
          "text": [
            "/usr/local/lib/python3.6/dist-packages/tensorflow/python/framework/indexed_slices.py:434: UserWarning: Converting sparse IndexedSlices to a dense Tensor of unknown shape. This may consume a large amount of memory.\n",
            "  \"Converting sparse IndexedSlices to a dense Tensor of unknown shape. \"\n"
          ],
          "name": "stderr"
        },
        {
          "output_type": "stream",
          "text": [
            "Train on 32000 samples, validate on 8000 samples\n",
            "Epoch 1/10\n",
            "32000/32000 [==============================] - 67s 2ms/step - loss: 0.4494 - accuracy: 0.7777 - val_loss: 0.3502 - val_accuracy: 0.8460\n",
            "Epoch 2/10\n",
            "32000/32000 [==============================] - 63s 2ms/step - loss: 0.2249 - accuracy: 0.9118 - val_loss: 0.3586 - val_accuracy: 0.8493\n",
            "Epoch 3/10\n",
            "32000/32000 [==============================] - 62s 2ms/step - loss: 0.0661 - accuracy: 0.9775 - val_loss: 0.4767 - val_accuracy: 0.8338\n",
            "Epoch 4/10\n",
            "32000/32000 [==============================] - 62s 2ms/step - loss: 0.0202 - accuracy: 0.9931 - val_loss: 0.6315 - val_accuracy: 0.8374\n",
            "Epoch 5/10\n",
            "32000/32000 [==============================] - 62s 2ms/step - loss: 0.0133 - accuracy: 0.9954 - val_loss: 0.7022 - val_accuracy: 0.8345\n",
            "Epoch 6/10\n",
            "32000/32000 [==============================] - 62s 2ms/step - loss: 0.0125 - accuracy: 0.9959 - val_loss: 0.8325 - val_accuracy: 0.8322\n",
            "Epoch 7/10\n",
            "32000/32000 [==============================] - 62s 2ms/step - loss: 0.0126 - accuracy: 0.9957 - val_loss: 0.8847 - val_accuracy: 0.8324\n",
            "Epoch 8/10\n",
            "32000/32000 [==============================] - 62s 2ms/step - loss: 0.0095 - accuracy: 0.9967 - val_loss: 0.8901 - val_accuracy: 0.8305\n",
            "Epoch 9/10\n",
            "32000/32000 [==============================] - 62s 2ms/step - loss: 0.0096 - accuracy: 0.9970 - val_loss: 0.9621 - val_accuracy: 0.8149\n",
            "Epoch 10/10\n",
            "32000/32000 [==============================] - 62s 2ms/step - loss: 0.0092 - accuracy: 0.9962 - val_loss: 0.9660 - val_accuracy: 0.8261\n",
            "CNN accuracy score:  0.8307\n"
          ],
          "name": "stdout"
        }
      ]
    },
    {
      "cell_type": "markdown",
      "metadata": {
        "id": "pv5gKnp9u6BN"
      },
      "source": [
        "*GRU Model Analysis*"
      ]
    },
    {
      "cell_type": "code",
      "metadata": {
        "id": "Zjb6wwBq22bY",
        "outputId": "8d4ecf5a-5416-4258-b58f-2265fe36883b",
        "colab": {
          "base_uri": "https://localhost:8080/",
          "height": 785
        }
      },
      "source": [
        "def GRU_classification(x_train_seq):\n",
        "\n",
        "  model = Sequential()\n",
        "  model.add(layers.Embedding(input_dim=len(word_index)+1, output_dim=300, input_length=x_train_seq.shape[1]))\n",
        "  model.add(layers.SpatialDropout1D(0.3))\n",
        "  model.add(layers.GRU(100))\n",
        "  model.add(layers.Dense(50, activation='relu'))\n",
        "  model.add(layers.Dropout(0.2))\n",
        "  model.add(layers.Dense(1, activation='sigmoid'))\n",
        "  model.compile(optimizer='adam', loss='binary_crossentropy', metrics=['accuracy'])\n",
        "  model.summary()\n",
        "\n",
        "  return model\n",
        "\n",
        "model = GRU_classification(x_train_seq)\n",
        "\n",
        "accuracy = NN_model_training(model, x_train_seq, y_train, x_test_seq, y_test)\n",
        "\n",
        "print(\"GRU accuracy score: \", accuracy)\n",
        "accuracyAnalysis[\"GRU accuracy score\"] = accuracy"
      ],
      "execution_count": null,
      "outputs": [
        {
          "output_type": "stream",
          "text": [
            "Model: \"sequential_6\"\n",
            "_________________________________________________________________\n",
            "Layer (type)                 Output Shape              Param #   \n",
            "=================================================================\n",
            "embedding_6 (Embedding)      (None, 70, 300)           54712200  \n",
            "_________________________________________________________________\n",
            "spatial_dropout1d_2 (Spatial (None, 70, 300)           0         \n",
            "_________________________________________________________________\n",
            "gru_1 (GRU)                  (None, 100)               120300    \n",
            "_________________________________________________________________\n",
            "dense_11 (Dense)             (None, 50)                5050      \n",
            "_________________________________________________________________\n",
            "dropout_6 (Dropout)          (None, 50)                0         \n",
            "_________________________________________________________________\n",
            "dense_12 (Dense)             (None, 1)                 51        \n",
            "=================================================================\n",
            "Total params: 54,837,601\n",
            "Trainable params: 54,837,601\n",
            "Non-trainable params: 0\n",
            "_________________________________________________________________\n"
          ],
          "name": "stdout"
        },
        {
          "output_type": "stream",
          "text": [
            "/usr/local/lib/python3.6/dist-packages/tensorflow/python/framework/indexed_slices.py:434: UserWarning: Converting sparse IndexedSlices to a dense Tensor of unknown shape. This may consume a large amount of memory.\n",
            "  \"Converting sparse IndexedSlices to a dense Tensor of unknown shape. \"\n"
          ],
          "name": "stderr"
        },
        {
          "output_type": "stream",
          "text": [
            "Train on 32000 samples, validate on 8000 samples\n",
            "Epoch 1/10\n",
            "32000/32000 [==============================] - 210s 7ms/step - loss: 0.4295 - accuracy: 0.7974 - val_loss: 0.3586 - val_accuracy: 0.8421\n",
            "Epoch 2/10\n",
            "32000/32000 [==============================] - 208s 7ms/step - loss: 0.2079 - accuracy: 0.9191 - val_loss: 0.4036 - val_accuracy: 0.8301\n",
            "Epoch 3/10\n",
            "32000/32000 [==============================] - 209s 7ms/step - loss: 0.0868 - accuracy: 0.9698 - val_loss: 0.4874 - val_accuracy: 0.8288\n",
            "Epoch 4/10\n",
            "32000/32000 [==============================] - 210s 7ms/step - loss: 0.0373 - accuracy: 0.9873 - val_loss: 0.6437 - val_accuracy: 0.8278\n",
            "Epoch 5/10\n",
            "32000/32000 [==============================] - 209s 7ms/step - loss: 0.0177 - accuracy: 0.9943 - val_loss: 0.8484 - val_accuracy: 0.8192\n",
            "Epoch 6/10\n",
            "32000/32000 [==============================] - 210s 7ms/step - loss: 0.0095 - accuracy: 0.9967 - val_loss: 0.9196 - val_accuracy: 0.8230\n",
            "Epoch 7/10\n",
            "32000/32000 [==============================] - 211s 7ms/step - loss: 0.0079 - accuracy: 0.9972 - val_loss: 1.0610 - val_accuracy: 0.8179\n",
            "Epoch 8/10\n",
            "32000/32000 [==============================] - 209s 7ms/step - loss: 0.0049 - accuracy: 0.9984 - val_loss: 1.2307 - val_accuracy: 0.8210\n",
            "Epoch 9/10\n",
            "32000/32000 [==============================] - 209s 7ms/step - loss: 0.0033 - accuracy: 0.9987 - val_loss: 1.3058 - val_accuracy: 0.8138\n",
            "Epoch 10/10\n",
            "32000/32000 [==============================] - 208s 7ms/step - loss: 0.0039 - accuracy: 0.9987 - val_loss: 1.2112 - val_accuracy: 0.8190\n",
            "GRU accuracy score:  0.8229\n"
          ],
          "name": "stdout"
        }
      ]
    },
    {
      "cell_type": "markdown",
      "metadata": {
        "id": "TUNJqdr_u_oJ"
      },
      "source": [
        "*BiDirectional GRU Model Analysis*"
      ]
    },
    {
      "cell_type": "code",
      "metadata": {
        "id": "FeSP73G74H6d",
        "outputId": "9db47578-71fd-429a-f129-ee7f0259cf61",
        "colab": {
          "base_uri": "https://localhost:8080/",
          "height": 785
        }
      },
      "source": [
        "def BiDirectional_GRU_classification(x_train_seq):\n",
        "\n",
        "  model = Sequential()\n",
        "  model.add(layers.Embedding(input_dim=len(word_index)+1, output_dim=300, input_length=x_train_seq.shape[1]))\n",
        "  model.add(layers.SpatialDropout1D(0.3))\n",
        "  model.add(layers.Bidirectional(layers.GRU(100)))\n",
        "  model.add(layers.Dense(50, activation='relu'))\n",
        "  model.add(layers.Dropout(0.2))\n",
        "  model.add(layers.Dense(1, activation='sigmoid'))\n",
        "  model.compile(optimizer='adam', loss='binary_crossentropy', metrics=['accuracy'])\n",
        "  model.summary()\n",
        "\n",
        "  return model\n",
        "\n",
        "model = BiDirectional_GRU_classification(x_train_seq)\n",
        "\n",
        "accuracy = NN_model_training(model, x_train_seq, y_train, x_test_seq, y_test)\n",
        "\n",
        "print(\"BiDirectional GRU accuracy score: \", accuracy)\n",
        "accuracyAnalysis[\"BiDirectional GRU accuracy score\"] = accuracy"
      ],
      "execution_count": null,
      "outputs": [
        {
          "output_type": "stream",
          "text": [
            "Model: \"sequential_7\"\n",
            "_________________________________________________________________\n",
            "Layer (type)                 Output Shape              Param #   \n",
            "=================================================================\n",
            "embedding_7 (Embedding)      (None, 70, 300)           54712200  \n",
            "_________________________________________________________________\n",
            "spatial_dropout1d_3 (Spatial (None, 70, 300)           0         \n",
            "_________________________________________________________________\n",
            "bidirectional_1 (Bidirection (None, 200)               240600    \n",
            "_________________________________________________________________\n",
            "dense_13 (Dense)             (None, 50)                10050     \n",
            "_________________________________________________________________\n",
            "dropout_7 (Dropout)          (None, 50)                0         \n",
            "_________________________________________________________________\n",
            "dense_14 (Dense)             (None, 1)                 51        \n",
            "=================================================================\n",
            "Total params: 54,962,901\n",
            "Trainable params: 54,962,901\n",
            "Non-trainable params: 0\n",
            "_________________________________________________________________\n"
          ],
          "name": "stdout"
        },
        {
          "output_type": "stream",
          "text": [
            "/usr/local/lib/python3.6/dist-packages/tensorflow/python/framework/indexed_slices.py:434: UserWarning: Converting sparse IndexedSlices to a dense Tensor of unknown shape. This may consume a large amount of memory.\n",
            "  \"Converting sparse IndexedSlices to a dense Tensor of unknown shape. \"\n"
          ],
          "name": "stderr"
        },
        {
          "output_type": "stream",
          "text": [
            "Train on 32000 samples, validate on 8000 samples\n",
            "Epoch 1/10\n",
            "32000/32000 [==============================] - 349s 11ms/step - loss: 0.4267 - accuracy: 0.7990 - val_loss: 0.3418 - val_accuracy: 0.8491\n",
            "Epoch 2/10\n",
            "32000/32000 [==============================] - 348s 11ms/step - loss: 0.1966 - accuracy: 0.9236 - val_loss: 0.3726 - val_accuracy: 0.8372\n",
            "Epoch 3/10\n",
            "32000/32000 [==============================] - 345s 11ms/step - loss: 0.0647 - accuracy: 0.9771 - val_loss: 0.6093 - val_accuracy: 0.8303\n",
            "Epoch 4/10\n",
            "32000/32000 [==============================] - 346s 11ms/step - loss: 0.0221 - accuracy: 0.9920 - val_loss: 0.7835 - val_accuracy: 0.8230\n",
            "Epoch 5/10\n",
            "32000/32000 [==============================] - 342s 11ms/step - loss: 0.0125 - accuracy: 0.9957 - val_loss: 0.9875 - val_accuracy: 0.8217\n",
            "Epoch 6/10\n",
            "32000/32000 [==============================] - 343s 11ms/step - loss: 0.0087 - accuracy: 0.9970 - val_loss: 1.0585 - val_accuracy: 0.8201\n",
            "Epoch 7/10\n",
            "32000/32000 [==============================] - 345s 11ms/step - loss: 0.0055 - accuracy: 0.9980 - val_loss: 1.1439 - val_accuracy: 0.8188\n",
            "Epoch 8/10\n",
            "32000/32000 [==============================] - 350s 11ms/step - loss: 0.0048 - accuracy: 0.9985 - val_loss: 1.0433 - val_accuracy: 0.8170\n",
            "Epoch 9/10\n",
            "32000/32000 [==============================] - 347s 11ms/step - loss: 0.0042 - accuracy: 0.9986 - val_loss: 1.1734 - val_accuracy: 0.8161\n",
            "Epoch 10/10\n",
            "32000/32000 [==============================] - 345s 11ms/step - loss: 0.0034 - accuracy: 0.9989 - val_loss: 1.3238 - val_accuracy: 0.8166\n",
            "BiDirectional GRU accuracy score:  0.8211\n"
          ],
          "name": "stdout"
        }
      ]
    },
    {
      "cell_type": "markdown",
      "metadata": {
        "id": "JVf_ETP1vDt_"
      },
      "source": [
        "*BiDirectional CNN Analysis*"
      ]
    },
    {
      "cell_type": "code",
      "metadata": {
        "id": "8xMurkzd4i9B",
        "outputId": "2792786a-ff86-4760-cabf-9dce8fd3ed79",
        "colab": {
          "base_uri": "https://localhost:8080/",
          "height": 853
        }
      },
      "source": [
        "def BiDirectional_CNN_classification(x_train_seq):\n",
        "\n",
        "  model = Sequential()\n",
        "  model.add(layers.Embedding(input_dim=len(word_index)+1, output_dim=300, input_length=x_train_seq.shape[1]))\n",
        "  model.add(layers.SpatialDropout1D(0.3))\n",
        "  model.add(layers.Bidirectional(layers.GRU(50, return_sequences=True)))\n",
        "  model.add(layers.Convolution1D(100, 3, activation='relu'))\n",
        "  model.add(layers.GlobalMaxPool1D())\n",
        "  model.add(layers.Dense(100, activation='relu'))\n",
        "  model.add(layers.Dropout(0.25))\n",
        "  model.add(layers.Dense(1, activation='sigmoid'))\n",
        "\n",
        "  model.compile(optimizer='adam', loss='binary_crossentropy', metrics=['accuracy'])\n",
        "\n",
        "  model.summary()\n",
        "\n",
        "  return model\n",
        "model = BiDirectional_CNN_classification(x_train_seq)\n",
        "\n",
        "accuracy = NN_model_training(model, x_train_seq, y_train, x_test_seq, y_test)\n",
        "\n",
        "print(\"BiDirectional CNN accuracy score: \", accuracy)\n",
        "accuracyAnalysis[\"BiDirectional CNN accuracy score\"] = accuracy"
      ],
      "execution_count": null,
      "outputs": [
        {
          "output_type": "stream",
          "text": [
            "Model: \"sequential_8\"\n",
            "_________________________________________________________________\n",
            "Layer (type)                 Output Shape              Param #   \n",
            "=================================================================\n",
            "embedding_8 (Embedding)      (None, 70, 300)           54712200  \n",
            "_________________________________________________________________\n",
            "spatial_dropout1d_4 (Spatial (None, 70, 300)           0         \n",
            "_________________________________________________________________\n",
            "bidirectional_2 (Bidirection (None, 70, 100)           105300    \n",
            "_________________________________________________________________\n",
            "conv1d_2 (Conv1D)            (None, 68, 100)           30100     \n",
            "_________________________________________________________________\n",
            "global_max_pooling1d_2 (Glob (None, 100)               0         \n",
            "_________________________________________________________________\n",
            "dense_15 (Dense)             (None, 100)               10100     \n",
            "_________________________________________________________________\n",
            "dropout_8 (Dropout)          (None, 100)               0         \n",
            "_________________________________________________________________\n",
            "dense_16 (Dense)             (None, 1)                 101       \n",
            "=================================================================\n",
            "Total params: 54,857,801\n",
            "Trainable params: 54,857,801\n",
            "Non-trainable params: 0\n",
            "_________________________________________________________________\n"
          ],
          "name": "stdout"
        },
        {
          "output_type": "stream",
          "text": [
            "/usr/local/lib/python3.6/dist-packages/tensorflow/python/framework/indexed_slices.py:434: UserWarning: Converting sparse IndexedSlices to a dense Tensor of unknown shape. This may consume a large amount of memory.\n",
            "  \"Converting sparse IndexedSlices to a dense Tensor of unknown shape. \"\n"
          ],
          "name": "stderr"
        },
        {
          "output_type": "stream",
          "text": [
            "Train on 32000 samples, validate on 8000 samples\n",
            "Epoch 1/10\n",
            "32000/32000 [==============================] - 349s 11ms/step - loss: 0.4220 - accuracy: 0.7970 - val_loss: 0.3311 - val_accuracy: 0.8537\n",
            "Epoch 2/10\n",
            "32000/32000 [==============================] - 348s 11ms/step - loss: 0.2030 - accuracy: 0.9206 - val_loss: 0.3829 - val_accuracy: 0.8530\n",
            "Epoch 3/10\n",
            "32000/32000 [==============================] - 346s 11ms/step - loss: 0.0788 - accuracy: 0.9718 - val_loss: 0.5186 - val_accuracy: 0.8403\n",
            "Epoch 4/10\n",
            "32000/32000 [==============================] - 346s 11ms/step - loss: 0.0323 - accuracy: 0.9889 - val_loss: 0.6056 - val_accuracy: 0.8365\n",
            "Epoch 5/10\n",
            "32000/32000 [==============================] - 344s 11ms/step - loss: 0.0164 - accuracy: 0.9942 - val_loss: 0.8807 - val_accuracy: 0.8365\n",
            "Epoch 6/10\n",
            "32000/32000 [==============================] - 348s 11ms/step - loss: 0.0130 - accuracy: 0.9952 - val_loss: 1.0877 - val_accuracy: 0.8276\n",
            "Epoch 7/10\n",
            "32000/32000 [==============================] - 346s 11ms/step - loss: 0.0075 - accuracy: 0.9972 - val_loss: 1.0861 - val_accuracy: 0.8284\n",
            "Epoch 8/10\n",
            "32000/32000 [==============================] - 346s 11ms/step - loss: 0.0071 - accuracy: 0.9976 - val_loss: 1.2666 - val_accuracy: 0.8292\n",
            "Epoch 9/10\n",
            "32000/32000 [==============================] - 345s 11ms/step - loss: 0.0073 - accuracy: 0.9975 - val_loss: 1.1423 - val_accuracy: 0.8223\n",
            "Epoch 10/10\n",
            "32000/32000 [==============================] - 345s 11ms/step - loss: 0.0044 - accuracy: 0.9983 - val_loss: 1.2789 - val_accuracy: 0.8241\n",
            "BiDirectional CNN accuracy score:  0.8291\n"
          ],
          "name": "stdout"
        }
      ]
    },
    {
      "cell_type": "code",
      "metadata": {
        "id": "lK6QWVAL2SFb",
        "outputId": "6584a203-7825-44b6-9870-43248720ef5d",
        "colab": {
          "base_uri": "https://localhost:8080/",
          "height": 102
        }
      },
      "source": [
        "accuracyAnalysis\n",
        "metrics = sorted(accuracyAnalysis.items(), key=(lambda x: x[1]), reverse=True)\n",
        "metrics"
      ],
      "execution_count": null,
      "outputs": [
        {
          "output_type": "execute_result",
          "data": {
            "text/plain": [
              "[('CNN accuracy score', 0.8307),\n",
              " ('BiDirectional CNN accuracy score', 0.8291),\n",
              " ('GRU accuracy score', 0.8229),\n",
              " ('BiDirectional GRU accuracy score', 0.8211),\n",
              " ('LSTM accuracy score', 0.8191)]"
            ]
          },
          "metadata": {
            "tags": []
          },
          "execution_count": 41
        }
      ]
    },
    {
      "cell_type": "code",
      "metadata": {
        "id": "P-c8Aemu5VdL",
        "outputId": "fe3511b5-e9f9-418b-dd1f-e5672c05717a",
        "colab": {
          "base_uri": "https://localhost:8080/",
          "height": 454
        }
      },
      "source": [
        "import matplotlib.pyplot as plt\n",
        "!matplotlib inline\n",
        "\n",
        "x_metrics = []\n",
        "y_metrics = []\n",
        "\n",
        "for i in metrics:\n",
        "  x_metrics.append(i[0])\n",
        "  y_metrics.append(i[1])\n",
        "\n",
        "\n",
        "plt.xlabel(\"Classification Models for text Data Using DL Techniques\")\n",
        "plt.ylabel(\"Accuracy Score\")\n",
        "# plt.plot(x_metrics_lemmet, y_metrics_lemmet)\n",
        "plt.bar(x_metrics, y_metrics)\n",
        "plt.xticks(x_metrics, rotation='vertical')\n",
        "plt.show()"
      ],
      "execution_count": null,
      "outputs": [
        {
          "output_type": "stream",
          "text": [
            "/bin/bash: matplotlib: command not found\n"
          ],
          "name": "stdout"
        },
        {
          "output_type": "display_data",
          "data": {
            "image/png": "[encoded data removed]",
            "text/plain": [
              "<Figure size 432x288 with 1 Axes>"
            ]
          },
          "metadata": {
            "tags": [],
            "needs_background": "light"
          }
        }
      ]
    },
    {
      "cell_type": "code",
      "metadata": {
        "id": "r5eWmOnSZM9U"
      },
      "source": [],
      "execution_count": null,
      "outputs": []
    }
  ]
}